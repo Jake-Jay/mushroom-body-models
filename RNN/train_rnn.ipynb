{
 "cells": [
  {
   "cell_type": "code",
   "execution_count": 1,
   "metadata": {},
   "outputs": [],
   "source": [
    "import numpy as np \n",
    "import torch\n",
    "from torch.utils.data import random_split, DataLoader\n",
    "import torch.nn as nn\n",
    "from pytorch_lightning import Trainer\n",
    "\n",
    "from pytorch_lightning.loggers import TensorBoardLogger\n",
    "from pytorch_lightning.callbacks.early_stopping import EarlyStopping\n",
    "\n",
    "from dataset import MushroomBodyDataset \n",
    "from rnn import NeuralRNNModule, NeuralRNN\n",
    "\n",
    "%load_ext autoreload\n",
    "%aimport dataset, rnn\n",
    "%autoreload 1"
   ]
  },
  {
   "cell_type": "code",
   "execution_count": 2,
   "metadata": {},
   "outputs": [
    {
     "name": "stdout",
     "output_type": "stream",
     "text": [
      "Datum shape for input and output is (timesteps, neurons): torch.Size([10, 15])\n"
     ]
    }
   ],
   "source": [
    "dataset = MushroomBodyDataset()\n",
    "\n",
    "print(f'Datum shape for input and output is (timesteps, neurons): {dataset[0][\"dan\"].shape}')\n",
    "# dataset.data[0]"
   ]
  },
  {
   "cell_type": "code",
   "execution_count": 3,
   "metadata": {},
   "outputs": [
    {
     "name": "stdout",
     "output_type": "stream",
     "text": [
      "Train dataset size: 5400\n",
      "Val dataset size: 1800\n",
      "Test dataset size: 1800\n"
     ]
    }
   ],
   "source": [
    "num_samples = len(dataset.data)\n",
    "train_percentage, val_percentage = 0.6, 0.2\n",
    "test_percentage = 1 - train_percentage - val_percentage\n",
    "\n",
    "lengths = [\n",
    "    int(train_percentage * num_samples), \n",
    "    int(val_percentage * num_samples),\n",
    "    int(test_percentage * num_samples),\n",
    "]\n",
    "\n",
    "train_dataset, val_dataset, test_dataset = random_split(dataset, lengths, generator=torch.Generator().manual_seed(42))\n",
    "\n",
    "print(f'Train dataset size: {len(train_dataset)}')\n",
    "print(f'Val dataset size: {len(val_dataset)}')\n",
    "print(f'Test dataset size: {len(test_dataset)}')"
   ]
  },
  {
   "cell_type": "markdown",
   "metadata": {},
   "source": [
    "# Hyperparams"
   ]
  },
  {
   "cell_type": "code",
   "execution_count": 4,
   "metadata": {},
   "outputs": [],
   "source": [
    "hparams = {\n",
    "    'batch_size': 8,\n",
    "    'lr': 0.001,\n",
    "    'max_epochs': 10,\n",
    "    'min_epochs': 1\n",
    "}"
   ]
  },
  {
   "cell_type": "markdown",
   "metadata": {},
   "source": [
    "# Create Dataloaders"
   ]
  },
  {
   "cell_type": "code",
   "execution_count": 5,
   "metadata": {},
   "outputs": [],
   "source": [
    "train_dataloader = DataLoader(\n",
    "    train_dataset, \n",
    "    batch_size=hparams['batch_size'],\n",
    "    shuffle=False, \n",
    "    num_workers=4\n",
    ")\n",
    "\n",
    "val_dataloader = DataLoader(\n",
    "    val_dataset, \n",
    "    batch_size=hparams['batch_size'],\n",
    "    shuffle=False, \n",
    "    num_workers=4\n",
    ")"
   ]
  },
  {
   "cell_type": "markdown",
   "metadata": {},
   "source": [
    "# Instantiate Model"
   ]
  },
  {
   "cell_type": "code",
   "execution_count": 6,
   "metadata": {},
   "outputs": [],
   "source": [
    "model = NeuralRNNModule(\n",
    "    input_dim=15,\n",
    "    hidden_dim=15, \n",
    "    lr=hparams['lr']\n",
    ")"
   ]
  },
  {
   "cell_type": "code",
   "execution_count": 7,
   "metadata": {},
   "outputs": [],
   "source": [
    "batch = next(iter(train_dataloader))"
   ]
  },
  {
   "cell_type": "code",
   "execution_count": 8,
   "metadata": {},
   "outputs": [
    {
     "data": {
      "text/plain": [
       "torch.Size([8, 10, 15])"
      ]
     },
     "execution_count": 8,
     "metadata": {},
     "output_type": "execute_result"
    }
   ],
   "source": [
    "# Check that the forward pass does what I expect\n",
    "output = model(batch['dan'])\n",
    "output.shape"
   ]
  },
  {
   "cell_type": "markdown",
   "metadata": {},
   "source": [
    "# Lets Try Train"
   ]
  },
  {
   "cell_type": "code",
   "execution_count": 9,
   "metadata": {},
   "outputs": [],
   "source": [
    "logger = TensorBoardLogger(\"tb_logs\", name=\"rnn\", default_hp_metric=False)"
   ]
  },
  {
   "cell_type": "code",
   "execution_count": 10,
   "metadata": {},
   "outputs": [],
   "source": [
    "logger.log_hyperparams(hparams)"
   ]
  },
  {
   "cell_type": "code",
   "execution_count": 11,
   "metadata": {},
   "outputs": [
    {
     "name": "stderr",
     "output_type": "stream",
     "text": [
      "GPU available: False, used: False\n",
      "TPU available: False, using: 0 TPU cores\n"
     ]
    }
   ],
   "source": [
    "trainer = Trainer(\n",
    "    logger=logger,\n",
    "    max_epochs=hparams['max_epochs'],\n",
    "    min_epochs=hparams['min_epochs'],\n",
    "    callbacks=[EarlyStopping(monitor='val/loss')]\n",
    ")"
   ]
  },
  {
   "cell_type": "code",
   "execution_count": 12,
   "metadata": {},
   "outputs": [
    {
     "name": "stderr",
     "output_type": "stream",
     "text": [
      "\n",
      "  | Name     | Type      | Params\n",
      "---------------------------------------\n",
      "0 | rnn      | NeuralRNN | 480   \n",
      "1 | loss_fcn | MSELoss   | 0     \n",
      "---------------------------------------\n",
      "480       Trainable params\n",
      "0         Non-trainable params\n",
      "480       Total params\n",
      "0.002     Total estimated model params size (MB)\n"
     ]
    },
    {
     "name": "stdout",
     "output_type": "stream",
     "text": [
      "Epoch 0:  75%|███████▌  | 675/900 [00:11<00:03, 58.88it/s, loss=0.00339, v_num=1]\n",
      "Validating: 0it [00:00, ?it/s]\u001b[A\n",
      "Validating:   0%|          | 0/225 [00:00<?, ?it/s]\u001b[A\n",
      "Epoch 0:  76%|███████▌  | 680/900 [00:11<00:03, 57.33it/s, loss=0.00339, v_num=1]\n",
      "Epoch 0:  77%|███████▋  | 691/900 [00:11<00:03, 57.75it/s, loss=0.00339, v_num=1]\n",
      "Epoch 0:  79%|███████▊  | 707/900 [00:12<00:03, 58.57it/s, loss=0.00339, v_num=1]\n",
      "Epoch 0:  80%|████████  | 723/900 [00:12<00:02, 59.40it/s, loss=0.00339, v_num=1]\n",
      "Epoch 0:  83%|████████▎ | 744/900 [00:12<00:02, 60.62it/s, loss=0.00339, v_num=1]\n",
      "Epoch 0:  85%|████████▌ | 765/900 [00:12<00:02, 61.79it/s, loss=0.00339, v_num=1]\n",
      "Epoch 0:  87%|████████▋ | 786/900 [00:12<00:01, 62.93it/s, loss=0.00339, v_num=1]\n",
      "Epoch 0:  90%|████████▉ | 808/900 [00:12<00:01, 64.16it/s, loss=0.00339, v_num=1]\n",
      "Epoch 0:  92%|█████████▏| 830/900 [00:12<00:01, 65.34it/s, loss=0.00339, v_num=1]\n",
      "Epoch 0:  95%|█████████▍| 852/900 [00:12<00:00, 66.43it/s, loss=0.00339, v_num=1]\n",
      "Epoch 0:  97%|█████████▋| 874/900 [00:12<00:00, 67.42it/s, loss=0.00339, v_num=1]\n",
      "Epoch 0: 100%|█████████▉| 896/900 [00:13<00:00, 68.58it/s, loss=0.00339, v_num=1]\n",
      "Epoch 0: 100%|██████████| 900/900 [00:13<00:00, 68.59it/s, loss=0.00339, v_num=1]\n",
      "Epoch 1:  75%|███████▌  | 675/900 [00:10<00:03, 65.47it/s, loss=0.00239, v_num=1]\n",
      "Validating: 0it [00:00, ?it/s]\u001b[A\n",
      "Validating:   0%|          | 0/225 [00:00<?, ?it/s]\u001b[A\n",
      "Epoch 1:  76%|███████▌  | 682/900 [00:10<00:03, 64.71it/s, loss=0.00239, v_num=1]\n",
      "Epoch 1:  78%|███████▊  | 706/900 [00:10<00:02, 66.35it/s, loss=0.00239, v_num=1]\n",
      "Epoch 1:  81%|████████  | 730/900 [00:10<00:02, 67.97it/s, loss=0.00239, v_num=1]\n",
      "Epoch 1:  84%|████████▍ | 755/900 [00:10<00:02, 69.62it/s, loss=0.00239, v_num=1]\n",
      "Epoch 1:  87%|████████▋ | 780/900 [00:10<00:01, 71.22it/s, loss=0.00239, v_num=1]\n",
      "Epoch 1:  89%|████████▉ | 805/900 [00:11<00:01, 72.82it/s, loss=0.00239, v_num=1]\n",
      "Epoch 1:  92%|█████████▏| 830/900 [00:11<00:00, 74.41it/s, loss=0.00239, v_num=1]\n",
      "Epoch 1:  95%|█████████▌| 855/900 [00:11<00:00, 75.96it/s, loss=0.00239, v_num=1]\n",
      "Epoch 1:  98%|█████████▊| 880/900 [00:11<00:00, 77.48it/s, loss=0.00239, v_num=1]\n",
      "Epoch 1: 100%|██████████| 900/900 [00:11<00:00, 78.54it/s, loss=0.00239, v_num=1]\n",
      "Epoch 2:  75%|███████▌  | 675/900 [00:09<00:03, 68.36it/s, loss=0.00212, v_num=1]\n",
      "Validating: 0it [00:00, ?it/s]\u001b[A\n",
      "Validating:   0%|          | 0/225 [00:00<?, ?it/s]\u001b[A\n",
      "Validating:   1%|▏         | 3/225 [00:00<00:07, 29.58it/s]\u001b[A\n",
      "Epoch 2:  78%|███████▊  | 700/900 [00:10<00:02, 68.55it/s, loss=0.00212, v_num=1]\n",
      "Validating:  13%|█▎        | 30/225 [00:00<00:04, 48.44it/s]\u001b[A\n",
      "Epoch 2:  81%|████████  | 725/900 [00:10<00:02, 69.41it/s, loss=0.00212, v_num=1]\n",
      "Validating:  23%|██▎       | 52/225 [00:00<00:02, 67.14it/s]\u001b[A\n",
      "Epoch 2:  83%|████████▎ | 750/900 [00:10<00:02, 70.63it/s, loss=0.00212, v_num=1]\n",
      "Epoch 2:  86%|████████▌ | 775/900 [00:10<00:01, 72.20it/s, loss=0.00212, v_num=1]\n",
      "Epoch 2:  89%|████████▉ | 800/900 [00:10<00:01, 73.80it/s, loss=0.00212, v_num=1]\n",
      "Epoch 2:  92%|█████████▏| 825/900 [00:10<00:00, 75.36it/s, loss=0.00212, v_num=1]\n",
      "Epoch 2:  94%|█████████▍| 850/900 [00:11<00:00, 76.89it/s, loss=0.00212, v_num=1]\n",
      "Epoch 2:  97%|█████████▋| 875/900 [00:11<00:00, 78.39it/s, loss=0.00212, v_num=1]\n",
      "Epoch 2: 100%|██████████| 900/900 [00:11<00:00, 79.68it/s, loss=0.00212, v_num=1]\n",
      "Epoch 3:  75%|███████▌  | 675/900 [00:10<00:03, 64.62it/s, loss=0.002, v_num=1]  \n",
      "Validating: 0it [00:00, ?it/s]\u001b[A\n",
      "Validating:   0%|          | 0/225 [00:00<?, ?it/s]\u001b[A\n",
      "Validating:   0%|          | 1/225 [00:00<00:22,  9.85it/s]\u001b[A\n",
      "Epoch 3:  78%|███████▊  | 700/900 [00:10<00:03, 65.01it/s, loss=0.002, v_num=1]\n",
      "Epoch 3:  81%|████████  | 725/900 [00:10<00:02, 66.60it/s, loss=0.002, v_num=1]\n",
      "Epoch 3:  83%|████████▎ | 750/900 [00:10<00:02, 68.18it/s, loss=0.002, v_num=1]\n",
      "Epoch 3:  86%|████████▌ | 775/900 [00:11<00:01, 69.74it/s, loss=0.002, v_num=1]\n",
      "Epoch 3:  89%|████████▉ | 800/900 [00:11<00:01, 71.29it/s, loss=0.002, v_num=1]\n",
      "Epoch 3:  92%|█████████▏| 825/900 [00:11<00:01, 72.84it/s, loss=0.002, v_num=1]\n",
      "Epoch 3:  94%|█████████▍| 850/900 [00:11<00:00, 74.37it/s, loss=0.002, v_num=1]\n",
      "Epoch 3:  97%|█████████▋| 875/900 [00:11<00:00, 75.76it/s, loss=0.002, v_num=1]\n",
      "Epoch 3: 100%|██████████| 900/900 [00:11<00:00, 77.03it/s, loss=0.002, v_num=1]\n",
      "Epoch 4:  75%|███████▌  | 675/900 [00:13<00:04, 49.81it/s, loss=0.00192, v_num=1]\n",
      "Validating: 0it [00:00, ?it/s]\u001b[A\n",
      "Validating:   0%|          | 0/225 [00:00<?, ?it/s]\u001b[A\n",
      "Validating:   0%|          | 1/225 [00:00<00:32,  6.90it/s]\u001b[A\n",
      "Epoch 4:  78%|███████▊  | 700/900 [00:13<00:03, 50.08it/s, loss=0.00192, v_num=1]\n",
      "Epoch 4:  81%|████████  | 725/900 [00:14<00:03, 51.38it/s, loss=0.00192, v_num=1]\n",
      "Validating:  22%|██▏       | 50/225 [00:00<00:09, 18.60it/s]\u001b[A\n",
      "Epoch 4:  83%|████████▎ | 750/900 [00:14<00:02, 52.49it/s, loss=0.00192, v_num=1]\n",
      "Epoch 4:  86%|████████▌ | 775/900 [00:14<00:02, 53.82it/s, loss=0.00192, v_num=1]\n",
      "Epoch 4:  89%|████████▉ | 800/900 [00:14<00:01, 55.14it/s, loss=0.00192, v_num=1]\n",
      "Epoch 4:  92%|█████████▏| 825/900 [00:14<00:01, 56.42it/s, loss=0.00192, v_num=1]\n",
      "Validating:  67%|██████▋   | 151/225 [00:00<00:00, 76.20it/s]\u001b[A\n",
      "Epoch 4:  94%|█████████▍| 850/900 [00:14<00:00, 57.62it/s, loss=0.00192, v_num=1]\n",
      "Epoch 4:  97%|█████████▋| 875/900 [00:14<00:00, 58.82it/s, loss=0.00192, v_num=1]\n",
      "Epoch 4: 100%|██████████| 900/900 [00:15<00:00, 59.94it/s, loss=0.00192, v_num=1]\n",
      "Epoch 5:  75%|███████▌  | 675/900 [00:15<00:05, 42.51it/s, loss=0.00187, v_num=1]\n",
      "Validating: 0it [00:00, ?it/s]\u001b[A\n",
      "Validating:   0%|          | 0/225 [00:00<?, ?it/s]\u001b[A\n",
      "Validating:   0%|          | 1/225 [00:00<00:32,  6.91it/s]\u001b[A\n",
      "Epoch 5:  78%|███████▊  | 700/900 [00:16<00:04, 42.90it/s, loss=0.00187, v_num=1]\n",
      "Validating:  14%|█▍        | 31/225 [00:00<00:14, 13.43it/s]\u001b[A\n",
      "Epoch 5:  81%|████████  | 725/900 [00:16<00:03, 44.00it/s, loss=0.00187, v_num=1]\n",
      "Epoch 5:  83%|████████▎ | 750/900 [00:16<00:03, 45.14it/s, loss=0.00187, v_num=1]\n",
      "Epoch 5:  86%|████████▌ | 775/900 [00:16<00:02, 46.28it/s, loss=0.00187, v_num=1]\n",
      "Epoch 5:  89%|████████▉ | 800/900 [00:16<00:02, 47.44it/s, loss=0.00187, v_num=1]\n",
      "Validating:  56%|█████▌    | 125/225 [00:00<00:01, 59.03it/s]\u001b[A\n",
      "Epoch 5:  92%|█████████▏| 825/900 [00:16<00:01, 48.55it/s, loss=0.00187, v_num=1]\n",
      "Epoch 5:  94%|█████████▍| 850/900 [00:17<00:01, 49.65it/s, loss=0.00187, v_num=1]\n",
      "Epoch 5:  97%|█████████▋| 875/900 [00:17<00:00, 50.74it/s, loss=0.00187, v_num=1]\n",
      "Epoch 5: 100%|██████████| 900/900 [00:17<00:00, 51.70it/s, loss=0.00187, v_num=1]\n",
      "Epoch 6:  75%|███████▌  | 675/900 [00:09<00:03, 72.93it/s, loss=0.00184, v_num=1]\n",
      "Validating: 0it [00:00, ?it/s]\u001b[A\n",
      "Validating:   0%|          | 0/225 [00:00<?, ?it/s]\u001b[A\n",
      "Validating:   1%|          | 2/225 [00:00<00:11, 19.74it/s]\u001b[A\n",
      "Epoch 6:  78%|███████▊  | 700/900 [00:09<00:02, 73.05it/s, loss=0.00184, v_num=1]\n",
      "Epoch 6:  81%|████████  | 725/900 [00:09<00:02, 74.60it/s, loss=0.00184, v_num=1]\n",
      "Validating:  24%|██▍       | 54/225 [00:00<00:03, 46.82it/s]\u001b[A\n",
      "Epoch 6:  83%|████████▎ | 750/900 [00:09<00:01, 76.03it/s, loss=0.00184, v_num=1]\n",
      "Epoch 6:  86%|████████▌ | 775/900 [00:10<00:01, 76.97it/s, loss=0.00184, v_num=1]\n",
      "Validating:  45%|████▍     | 101/225 [00:00<00:01, 80.14it/s]\u001b[A\n",
      "Epoch 6:  89%|████████▉ | 800/900 [00:10<00:01, 77.78it/s, loss=0.00184, v_num=1]\n",
      "Validating:  56%|█████▋    | 127/225 [00:00<00:01, 95.57it/s]\u001b[A\n",
      "Epoch 6:  92%|█████████▏| 825/900 [00:10<00:00, 78.83it/s, loss=0.00184, v_num=1]\n",
      "Validating:  69%|██████▉   | 156/225 [00:01<00:00, 114.38it/s]\u001b[A\n",
      "Epoch 6:  94%|█████████▍| 850/900 [00:10<00:00, 79.84it/s, loss=0.00184, v_num=1]\n",
      "Validating:  82%|████████▏ | 185/225 [00:01<00:00, 125.87it/s]\u001b[A\n",
      "Epoch 6:  97%|█████████▋| 875/900 [00:10<00:00, 80.73it/s, loss=0.00184, v_num=1]\n",
      "Epoch 6: 100%|██████████| 900/900 [00:11<00:00, 81.52it/s, loss=0.00184, v_num=1]\n",
      "Epoch 7:  75%|███████▌  | 675/900 [00:14<00:04, 45.82it/s, loss=0.00182, v_num=1]\n",
      "Validating: 0it [00:00, ?it/s]\u001b[A\n",
      "Validating:   0%|          | 0/225 [00:00<?, ?it/s]\u001b[A\n",
      "Epoch 7:  78%|███████▊  | 700/900 [00:15<00:04, 46.62it/s, loss=0.00182, v_num=1]\n",
      "Validating:  12%|█▏        | 26/225 [00:00<00:04, 40.51it/s]\u001b[A\n",
      "Epoch 7:  81%|████████  | 725/900 [00:15<00:03, 47.89it/s, loss=0.00182, v_num=1]\n",
      "Epoch 7:  83%|████████▎ | 750/900 [00:15<00:03, 49.20it/s, loss=0.00182, v_num=1]\n",
      "Epoch 7:  86%|████████▌ | 776/900 [00:15<00:02, 50.56it/s, loss=0.00182, v_num=1]\n",
      "Epoch 7:  89%|████████▉ | 802/900 [00:15<00:01, 51.87it/s, loss=0.00182, v_num=1]\n",
      "Epoch 7:  92%|█████████▏| 828/900 [00:15<00:01, 53.14it/s, loss=0.00182, v_num=1]\n",
      "Epoch 7:  95%|█████████▍| 854/900 [00:15<00:00, 54.40it/s, loss=0.00182, v_num=1]\n",
      "Epoch 7:  98%|█████████▊| 880/900 [00:15<00:00, 55.66it/s, loss=0.00182, v_num=1]\n",
      "Epoch 7: 100%|██████████| 900/900 [00:15<00:00, 56.54it/s, loss=0.00182, v_num=1]\n",
      "Epoch 8:  75%|███████▌  | 676/900 [00:09<00:03, 72.77it/s, loss=0.0018, v_num=1] \n",
      "Validating: 0it [00:00, ?it/s]\u001b[A\n",
      "Validating:   0%|          | 0/225 [00:00<?, ?it/s]\u001b[A\n",
      "Validating:   0%|          | 1/225 [00:00<00:26,  8.51it/s]\u001b[A\n",
      "Epoch 8:  78%|███████▊  | 702/900 [00:09<00:02, 73.59it/s, loss=0.0018, v_num=1]\n",
      "Epoch 8:  81%|████████  | 728/900 [00:09<00:02, 75.40it/s, loss=0.0018, v_num=1]\n",
      "Epoch 8:  84%|████████▍ | 754/900 [00:09<00:01, 77.21it/s, loss=0.0018, v_num=1]\n",
      "Epoch 8:  87%|████████▋ | 780/900 [00:09<00:01, 79.00it/s, loss=0.0018, v_num=1]\n",
      "Epoch 8:  90%|████████▉ | 806/900 [00:09<00:01, 80.71it/s, loss=0.0018, v_num=1]\n",
      "Epoch 8:  92%|█████████▏| 832/900 [00:10<00:00, 82.42it/s, loss=0.0018, v_num=1]\n",
      "Epoch 8:  95%|█████████▌| 858/900 [00:10<00:00, 84.12it/s, loss=0.0018, v_num=1]\n",
      "Epoch 8:  98%|█████████▊| 884/900 [00:10<00:00, 85.79it/s, loss=0.0018, v_num=1]\n",
      "Epoch 8: 100%|██████████| 900/900 [00:10<00:00, 86.57it/s, loss=0.0018, v_num=1]\n",
      "Epoch 9:  75%|███████▌  | 676/900 [00:10<00:03, 62.10it/s, loss=0.00178, v_num=1]\n",
      "Validating: 0it [00:00, ?it/s]\u001b[A\n",
      "Validating:   0%|          | 0/225 [00:00<?, ?it/s]\u001b[A\n",
      "Validating:   0%|          | 1/225 [00:00<00:26,  8.50it/s]\u001b[A\n",
      "Epoch 9:  78%|███████▊  | 702/900 [00:11<00:03, 62.82it/s, loss=0.00178, v_num=1]\n",
      "Epoch 9:  81%|████████  | 728/900 [00:11<00:02, 64.45it/s, loss=0.00178, v_num=1]\n",
      "Validating:  25%|██▍       | 56/225 [00:00<00:07, 22.74it/s]\u001b[A\n",
      "Epoch 9:  84%|████████▍ | 754/900 [00:11<00:02, 65.75it/s, loss=0.00178, v_num=1]\n",
      "Epoch 9:  87%|████████▋ | 780/900 [00:11<00:01, 67.16it/s, loss=0.00178, v_num=1]\n",
      "Epoch 9:  90%|████████▉ | 806/900 [00:11<00:01, 68.72it/s, loss=0.00178, v_num=1]\n",
      "Validating:  58%|█████▊    | 131/225 [00:00<00:01, 67.90it/s]\u001b[A\n",
      "Epoch 9:  92%|█████████▏| 832/900 [00:11<00:00, 69.94it/s, loss=0.00178, v_num=1]\n",
      "Epoch 9:  95%|█████████▌| 858/900 [00:12<00:00, 71.19it/s, loss=0.00178, v_num=1]\n",
      "Epoch 9:  98%|█████████▊| 884/900 [00:12<00:00, 72.67it/s, loss=0.00178, v_num=1]\n",
      "Epoch 9: 100%|██████████| 900/900 [00:12<00:00, 72.94it/s, loss=0.00178, v_num=1]\n",
      "Epoch 9: 100%|██████████| 900/900 [00:12<00:00, 72.68it/s, loss=0.00178, v_num=1]\n"
     ]
    }
   ],
   "source": [
    "trainer.fit(model, train_dataloader, val_dataloader)"
   ]
  },
  {
   "cell_type": "markdown",
   "metadata": {},
   "source": [
    "# Visualise the trained weights"
   ]
  },
  {
   "cell_type": "code",
   "execution_count": 13,
   "metadata": {},
   "outputs": [],
   "source": [
    "import matplotlib.pyplot as plt\n",
    "\n",
    "lobes = [\"alpha'1\", \"alpha'2\", \"alpha'3\", 'alpha1', 'alpha2', 'alpha3',\n",
    "       \"beta'1\", \"beta'2\", 'beta1', 'beta2', 'gamma1', 'gamma2', 'gamma3',\n",
    "       'gamma4', 'gamma5']\n",
    "greek_lobes = [r\"$\\alpha '_1$\", r\"$\\alpha '_2$\", r\"$\\alpha '_3$\", \n",
    "              r\"$\\alpha _1$\", r\"$\\alpha _2$\", r\"$\\alpha_3$\",\n",
    "              r\"$\\beta '_1$\", r\"$\\beta '_2$\", r\"$\\beta _1$\", r\"$\\beta _2$\",\n",
    "              r\"$\\gamma _1$\", r\"$\\gamma _2$\", r\"$\\gamma _3$\", r\"$\\gamma _4$\", r\"$\\gamma _5$\", ]"
   ]
  },
  {
   "cell_type": "code",
   "execution_count": 14,
   "metadata": {},
   "outputs": [
    {
     "data": {
      "image/png": "[encoded data removed]",
      "text/plain": [
       "<Figure size 576x576 with 2 Axes>"
      ]
     },
     "metadata": {
      "needs_background": "light"
     },
     "output_type": "display_data"
    }
   ],
   "source": [
    "plt.figure(figsize=[8,8])\n",
    "plt.imshow(model.rnn.W_hh.weight.detach().numpy())\n",
    "plt.colorbar()\n",
    "plt.xticks(range(0,15), greek_lobes)\n",
    "plt.yticks(range(0,15), greek_lobes)\n",
    "plt.title('MBON to MBON')\n",
    "plt.show()"
   ]
  },
  {
   "cell_type": "code",
   "execution_count": 15,
   "metadata": {},
   "outputs": [
    {
     "data": {
      "image/png": "[encoded data removed]",
      "text/plain": [
       "<Figure size 576x576 with 2 Axes>"
      ]
     },
     "metadata": {
      "needs_background": "light"
     },
     "output_type": "display_data"
    }
   ],
   "source": [
    "plt.figure(figsize=[8,8])\n",
    "plt.imshow(model.rnn.W_xh.weight.detach().numpy(), cmap='viridis')\n",
    "plt.colorbar()\n",
    "plt.xticks(range(0,15), greek_lobes)\n",
    "plt.yticks(range(0,15), greek_lobes)\n",
    "\n",
    "plt.title('DAN to MBON')\n",
    "plt.xlabel('DANs in lobe')\n",
    "plt.ylabel('MBON in lobe')\n",
    "plt.show()"
   ]
  },
  {
   "cell_type": "code",
   "execution_count": 16,
   "metadata": {},
   "outputs": [
    {
     "data": {
      "text/plain": [
       "NeuralRNNModule(\n",
       "  (rnn): NeuralRNN(\n",
       "    (W_xh): Linear(in_features=15, out_features=15, bias=True)\n",
       "    (W_hh): Linear(in_features=15, out_features=15, bias=True)\n",
       "    (activation): Tanh()\n",
       "  )\n",
       "  (loss_fcn): MSELoss()\n",
       ")"
      ]
     },
     "execution_count": 16,
     "metadata": {},
     "output_type": "execute_result"
    }
   ],
   "source": [
    " model.eval()"
   ]
  },
  {
   "cell_type": "code",
   "execution_count": 18,
   "metadata": {},
   "outputs": [
    {
     "name": "stdout",
     "output_type": "stream",
     "text": [
      "torch.Size([8, 10, 15])\n"
     ]
    }
   ],
   "source": [
    "batch = next(iter(train_dataloader))\n",
    "output = model(batch['dan'])\n",
    "\n",
    "print(output.shape)"
   ]
  },
  {
   "cell_type": "code",
   "execution_count": 21,
   "metadata": {},
   "outputs": [
    {
     "data": {
      "text/plain": [
       "[<matplotlib.lines.Line2D at 0x1292ac748>]"
      ]
     },
     "execution_count": 21,
     "metadata": {},
     "output_type": "execute_result"
    },
    {
     "data": {
      "image/png": "[encoded data removed]",
      "text/plain": [
       "<Figure size 432x288 with 1 Axes>"
      ]
     },
     "metadata": {
      "needs_background": "light"
     },
     "output_type": "display_data"
    }
   ],
   "source": [
    "plt.plot(output[0,:,0].detach().numpy() )"
   ]
  },
  {
   "cell_type": "code",
   "execution_count": null,
   "metadata": {},
   "outputs": [],
   "source": []
  }
 ],
 "metadata": {
  "kernelspec": {
   "display_name": "i2dl",
   "language": "python",
   "name": "i2dl"
  },
  "language_info": {
   "codemirror_mode": {
    "name": "ipython",
    "version": 3
   },
   "file_extension": ".py",
   "mimetype": "text/x-python",
   "name": "python",
   "nbconvert_exporter": "python",
   "pygments_lexer": "ipython3",
   "version": "3.7.1"
  }
 },
 "nbformat": 4,
 "nbformat_minor": 4
}
