{
 "cells": [
  {
   "cell_type": "code",
   "execution_count": 62,
   "metadata": {},
   "outputs": [
    {
     "name": "stdout",
     "output_type": "stream",
     "text": [
      "The autoreload extension is already loaded. To reload it, use:\n",
      "  %reload_ext autoreload\n"
     ]
    }
   ],
   "source": [
    "import numpy as np \n",
    "import torch\n",
    "from torch.utils.data import random_split, DataLoader\n",
    "import torch.nn as nn\n",
    "from pytorch_lightning import Trainer\n",
    "\n",
    "from pytorch_lightning.loggers import TensorBoardLogger\n",
    "from pytorch_lightning.callbacks.early_stopping import EarlyStopping\n",
    "\n",
    "from dataset import MushroomBodyDataset \n",
    "from rnn import NeuralRNNModule, NeuralRNN\n",
    "\n",
    "%load_ext autoreload\n",
    "%aimport dataset, rnn\n",
    "%autoreload 1"
   ]
  },
  {
   "cell_type": "code",
   "execution_count": 2,
   "metadata": {},
   "outputs": [
    {
     "name": "stdout",
     "output_type": "stream",
     "text": [
      "Datum shape for input and output is (timesteps, neurons): torch.Size([3, 15])\n"
     ]
    }
   ],
   "source": [
    "dataset = MushroomBodyDataset()\n",
    "\n",
    "print(f'Datum shape for input and output is (timesteps, neurons): {dataset[0][\"dan\"].shape}')\n",
    "# dataset.data[0]"
   ]
  },
  {
   "cell_type": "code",
   "execution_count": 3,
   "metadata": {},
   "outputs": [
    {
     "name": "stdout",
     "output_type": "stream",
     "text": [
      "Train dataset size: 5400\n",
      "Val dataset size: 1800\n",
      "Test dataset size: 1800\n"
     ]
    }
   ],
   "source": [
    "num_samples = len(dataset.data)\n",
    "train_percentage, val_percentage = 0.6, 0.2\n",
    "test_percentage = 1 - train_percentage - val_percentage\n",
    "\n",
    "lengths = [\n",
    "    int(train_percentage * num_samples), \n",
    "    int(val_percentage * num_samples),\n",
    "    int(test_percentage * num_samples),\n",
    "]\n",
    "\n",
    "train_dataset, val_dataset, test_dataset = random_split(dataset, lengths, generator=torch.Generator().manual_seed(42))\n",
    "\n",
    "print(f'Train dataset size: {len(train_dataset)}')\n",
    "print(f'Val dataset size: {len(val_dataset)}')\n",
    "print(f'Test dataset size: {len(test_dataset)}')"
   ]
  },
  {
   "cell_type": "markdown",
   "metadata": {},
   "source": [
    "# Hyperparams"
   ]
  },
  {
   "cell_type": "code",
   "execution_count": 13,
   "metadata": {},
   "outputs": [],
   "source": [
    "hparams = {\n",
    "    'batch_size': 8,\n",
    "    'lr': 0.001,\n",
    "    'max_epochs': 10,\n",
    "    'min_epochs': 1\n",
    "}"
   ]
  },
  {
   "cell_type": "markdown",
   "metadata": {},
   "source": [
    "# Create Dataloaders"
   ]
  },
  {
   "cell_type": "code",
   "execution_count": 14,
   "metadata": {},
   "outputs": [],
   "source": [
    "train_dataloader = DataLoader(\n",
    "    train_dataset, \n",
    "    batch_size=hparams['batch_size'],\n",
    "    shuffle=False, \n",
    "    num_workers=4\n",
    ")\n",
    "\n",
    "val_dataloader = DataLoader(\n",
    "    val_dataset, \n",
    "    batch_size=hparams['batch_size'],\n",
    "    shuffle=False, \n",
    "    num_workers=4\n",
    ")"
   ]
  },
  {
   "cell_type": "markdown",
   "metadata": {},
   "source": [
    "# Instantiate Model"
   ]
  },
  {
   "cell_type": "code",
   "execution_count": 22,
   "metadata": {},
   "outputs": [],
   "source": [
    "model = NeuralRNNModule(\n",
    "    input_dim=15,\n",
    "    hidden_dim=15, \n",
    "    lr=hparams['lr']\n",
    ")"
   ]
  },
  {
   "cell_type": "code",
   "execution_count": 23,
   "metadata": {},
   "outputs": [],
   "source": [
    "batch = next(iter(train_dataloader))"
   ]
  },
  {
   "cell_type": "code",
   "execution_count": 24,
   "metadata": {},
   "outputs": [
    {
     "data": {
      "text/plain": [
       "torch.Size([8, 3, 15])"
      ]
     },
     "execution_count": 24,
     "metadata": {},
     "output_type": "execute_result"
    }
   ],
   "source": [
    "# Check that the forward pass does what I expect\n",
    "output = model(batch['dan'])\n",
    "output.shape"
   ]
  },
  {
   "cell_type": "markdown",
   "metadata": {},
   "source": [
    "# Lets Try Train"
   ]
  },
  {
   "cell_type": "code",
   "execution_count": 25,
   "metadata": {},
   "outputs": [],
   "source": [
    "logger = TensorBoardLogger(\"tb_logs\", name=\"rnn\", default_hp_metric=False)"
   ]
  },
  {
   "cell_type": "code",
   "execution_count": 26,
   "metadata": {},
   "outputs": [],
   "source": [
    "logger.log_hyperparams(hparams)"
   ]
  },
  {
   "cell_type": "code",
   "execution_count": 64,
   "metadata": {},
   "outputs": [
    {
     "name": "stderr",
     "output_type": "stream",
     "text": [
      "GPU available: False, used: False\n",
      "TPU available: False, using: 0 TPU cores\n"
     ]
    }
   ],
   "source": [
    "trainer = Trainer(\n",
    "    logger=logger,\n",
    "    max_epochs=hparams['max_epochs'],\n",
    "    min_epochs=hparams['min_epochs'],\n",
    "    callbacks=[EarlyStopping(monitor='val/loss')]\n",
    ")"
   ]
  },
  {
   "cell_type": "code",
   "execution_count": null,
   "metadata": {},
   "outputs": [],
   "source": [
    "trainer.fit(model, train_dataloader, val_dataloader)"
   ]
  },
  {
   "cell_type": "markdown",
   "metadata": {},
   "source": [
    "# Visualise the trained weights"
   ]
  },
  {
   "cell_type": "code",
   "execution_count": 67,
   "metadata": {},
   "outputs": [],
   "source": [
    "import matplotlib.pyplot as plt\n",
    "\n",
    "lobes = [\"alpha'1\", \"alpha'2\", \"alpha'3\", 'alpha1', 'alpha2', 'alpha3',\n",
    "       \"beta'1\", \"beta'2\", 'beta1', 'beta2', 'gamma1', 'gamma2', 'gamma3',\n",
    "       'gamma4', 'gamma5']\n",
    "greek_lobes = [r\"$\\alpha '_1$\", r\"$\\alpha '_2$\", r\"$\\alpha '_3$\", \n",
    "              r\"$\\alpha _1$\", r\"$\\alpha _2$\", r\"$\\alpha_3$\",\n",
    "              r\"$\\beta '_1$\", r\"$\\beta '_2$\", r\"$\\beta _1$\", r\"$\\beta _2$\",\n",
    "              r\"$\\gamma _1$\", r\"$\\gamma _2$\", r\"$\\gamma _3$\", r\"$\\gamma _4$\", r\"$\\gamma _5$\", ]"
   ]
  },
  {
   "cell_type": "code",
   "execution_count": 68,
   "metadata": {},
   "outputs": [
    {
     "data": {
      "image/png": "[encoded data removed]",
      "text/plain": [
       "<Figure size 576x576 with 2 Axes>"
      ]
     },
     "metadata": {
      "needs_background": "light"
     },
     "output_type": "display_data"
    }
   ],
   "source": [
    "plt.figure(figsize=[8,8])\n",
    "plt.imshow(model.rnn.W_hh.weight.detach().numpy())\n",
    "plt.colorbar()\n",
    "plt.xticks(range(0,15), greek_lobes)\n",
    "plt.yticks(range(0,15), greek_lobes)\n",
    "plt.title('MBON to MBON')\n",
    "plt.show()"
   ]
  },
  {
   "cell_type": "code",
   "execution_count": 70,
   "metadata": {},
   "outputs": [
    {
     "data": {
      "image/png": "[encoded data removed]",
      "text/plain": [
       "<Figure size 576x576 with 2 Axes>"
      ]
     },
     "metadata": {
      "needs_background": "light"
     },
     "output_type": "display_data"
    }
   ],
   "source": [
    "plt.figure(figsize=[8,8])\n",
    "plt.imshow(model.rnn.W_xh.weight.detach().numpy(), cmap='viridis')\n",
    "plt.colorbar()\n",
    "plt.xticks(range(0,15), greek_lobes)\n",
    "plt.yticks(range(0,15), greek_lobes)\n",
    "\n",
    "plt.title('DAN to MBON')\n",
    "plt.xlabel('DANs in lobe')\n",
    "plt.ylabel('MBON in lobe')\n",
    "plt.show()"
   ]
  },
  {
   "cell_type": "code",
   "execution_count": null,
   "metadata": {},
   "outputs": [],
   "source": [
    " "
   ]
  }
 ],
 "metadata": {
  "kernelspec": {
   "display_name": "i2dl",
   "language": "python",
   "name": "i2dl"
  },
  "language_info": {
   "codemirror_mode": {
    "name": "ipython",
    "version": 3
   },
   "file_extension": ".py",
   "mimetype": "text/x-python",
   "name": "python",
   "nbconvert_exporter": "python",
   "pygments_lexer": "ipython3",
   "version": "3.7.1"
  }
 },
 "nbformat": 4,
 "nbformat_minor": 4
}
