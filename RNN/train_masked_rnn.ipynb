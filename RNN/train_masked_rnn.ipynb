{
 "cells": [
  {
   "cell_type": "code",
   "execution_count": 69,
   "metadata": {},
   "outputs": [
    {
     "name": "stdout",
     "output_type": "stream",
     "text": [
      "The autoreload extension is already loaded. To reload it, use:\n",
      "  %reload_ext autoreload\n"
     ]
    }
   ],
   "source": [
    "import numpy as np \n",
    "import matplotlib.pyplot as plt\n",
    "\n",
    "import torch\n",
    "from torch.utils.data import random_split, DataLoader\n",
    "import torch.nn as nn\n",
    "from pytorch_lightning import Trainer\n",
    "\n",
    "from pytorch_lightning.loggers import TensorBoardLogger\n",
    "from pytorch_lightning.callbacks.early_stopping import EarlyStopping\n",
    "\n",
    "from pathlib import Path\n",
    "\n",
    "from dataset import MushroomBodyDataset \n",
    "from rnn import NeuralRNNModule\n",
    "\n",
    "import json\n",
    "import pandas as pd\n",
    "\n",
    "%load_ext autoreload\n",
    "%aimport dataset, rnn\n",
    "%autoreload 1"
   ]
  },
  {
   "cell_type": "code",
   "execution_count": 2,
   "metadata": {},
   "outputs": [
    {
     "name": "stdout",
     "output_type": "stream",
     "text": [
      "Train dataset size: 18000\n",
      "Val dataset size: 4500\n",
      "Test dataset size: 4500\n"
     ]
    }
   ],
   "source": [
    "DATA_DIR = Path('../data')\n",
    "\n",
    "X_train_file = DATA_DIR / 'X-train-exp-time-series-from-distribution.npy'\n",
    "Y_train_file = DATA_DIR / 'Y-train-exp-time-series-from-distribution.npy'\n",
    "train_dataset = MushroomBodyDataset(X_train_file, Y_train_file)\n",
    "print(f'Train dataset size: {len(train_dataset)}')\n",
    "\n",
    "X_val_file = DATA_DIR / 'X-val-exp-time-series-from-distribution.npy'\n",
    "Y_val_file = DATA_DIR / 'Y-val-exp-time-series-from-distribution.npy'\n",
    "val_dataset = MushroomBodyDataset(X_val_file, Y_val_file)\n",
    "print(f'Val dataset size: {len(val_dataset)}')\n",
    "\n",
    "X_test_file = DATA_DIR / 'X-test-exp-time-series-from-distribution.npy'\n",
    "Y_test_file = DATA_DIR / 'Y-test-exp-time-series-from-distribution.npy'\n",
    "test_dataset = MushroomBodyDataset(X_test_file, Y_test_file)\n",
    "print(f'Test dataset size: {len(test_dataset)}')"
   ]
  },
  {
   "cell_type": "code",
   "execution_count": 3,
   "metadata": {},
   "outputs": [
    {
     "name": "stdout",
     "output_type": "stream",
     "text": [
      "Datum shape for input and output is (timesteps, neurons): torch.Size([10, 15])\n"
     ]
    },
    {
     "data": {
      "image/png": "[encoded data removed]",
      "text/plain": [
       "<Figure size 432x288 with 2 Axes>"
      ]
     },
     "metadata": {
      "needs_background": "light"
     },
     "output_type": "display_data"
    }
   ],
   "source": [
    "print(f'Datum shape for input and output is (timesteps, neurons): {train_dataset[0][\"dan\"].shape}')\n",
    "\n",
    "fig, axs = plt.subplots(1,2)\n",
    "axs[0].plot(train_dataset[0][\"dan\"][:,0])\n",
    "axs[0].set_title('DAN timeseries')\n",
    "axs[1].plot(train_dataset[0][\"mbon\"][:,0])\n",
    "axs[1].set_title('MBON timeseries')\n",
    "plt.tight_layout()\n",
    "plt.show()"
   ]
  },
  {
   "cell_type": "markdown",
   "metadata": {},
   "source": [
    "# Hyperparams"
   ]
  },
  {
   "cell_type": "code",
   "execution_count": 4,
   "metadata": {},
   "outputs": [],
   "source": [
    "hparams = {\n",
    "    'batch_size': 8,\n",
    "    'lr': 0.00005,\n",
    "    'non_linearity': 'tanh',\n",
    "    'max_epochs': 20,\n",
    "    'min_epochs': 1\n",
    "}"
   ]
  },
  {
   "cell_type": "markdown",
   "metadata": {},
   "source": [
    "# Create Dataloaders"
   ]
  },
  {
   "cell_type": "code",
   "execution_count": 5,
   "metadata": {},
   "outputs": [],
   "source": [
    "train_dataloader = DataLoader(\n",
    "    train_dataset, \n",
    "    batch_size=hparams['batch_size'],\n",
    "    shuffle=False, \n",
    "    num_workers=4\n",
    ")\n",
    "\n",
    "val_dataloader = DataLoader(\n",
    "    val_dataset, \n",
    "    batch_size=hparams['batch_size'],\n",
    "    shuffle=False, \n",
    "    num_workers=4\n",
    ")"
   ]
  },
  {
   "cell_type": "markdown",
   "metadata": {},
   "source": [
    "# Load Masks"
   ]
  },
  {
   "cell_type": "code",
   "execution_count": 6,
   "metadata": {},
   "outputs": [],
   "source": [
    "import matplotlib.pyplot as plt\n",
    "\n",
    "greek_lobes = [\n",
    "    r\"$\\alpha'_1$\", r\"$\\alpha'_2$\", r\"$\\alpha'_3$\", \n",
    "    r'$\\alpha_1$', r'$\\alpha_2$', r'$\\alpha_3$', \n",
    "    r\"$\\beta'_1$\", r\"$\\beta'_2$\",\n",
    "    r'$\\beta_1$', r'$\\beta_2$', \n",
    "    r'$\\gamma_1$', r'$\\gamma_2$', r'$\\gamma_3$', r'$\\gamma_4$', r'$\\gamma_5$'\n",
    "]"
   ]
  },
  {
   "cell_type": "code",
   "execution_count": 7,
   "metadata": {},
   "outputs": [],
   "source": [
    "def plot_matrix(matrix, labels, title, cbar_title=None, size=[8,8], switch=False):\n",
    "    fig, ax = plt.subplots(figsize=size)\n",
    "    im = ax.imshow(matrix)\n",
    "\n",
    "\n",
    "    plt.yticks(range(len(labels)), labels)\n",
    "    plt.xticks(range(len(labels)), labels)\n",
    "    plt.title(title)\n",
    "    if switch:\n",
    "        plt.xlabel('Target')\n",
    "        plt.ylabel('Source')\n",
    "    else:\n",
    "        plt.xlabel('Source')\n",
    "        plt.ylabel('Target')\n",
    "    # Loop over data dimensions and create text annotations.\n",
    "    for i in range(len(labels)):\n",
    "        for j in range(len(labels)):\n",
    "            col = 'white' if matrix[i, j] < matrix.max()/2 else 'black'\n",
    "            text = ax.text(j, i, int(matrix[i, j]),\n",
    "                           ha=\"center\", va=\"center\", color=col)\n",
    "\n",
    "    # Create colorbar\n",
    "    if cbar_title is not None:\n",
    "        cbar = ax.figure.colorbar(im, ax=ax)\n",
    "        cbar.ax.set_ylabel(cbar_title, rotation=-90, va=\"bottom\")\n",
    "\n",
    "    plt.tight_layout()\n",
    "    plt.show()"
   ]
  },
  {
   "cell_type": "code",
   "execution_count": 8,
   "metadata": {},
   "outputs": [],
   "source": [
    "mbon2mbon_connectome = np.load('../data/mbon-connectomics.npy')"
   ]
  },
  {
   "cell_type": "code",
   "execution_count": 9,
   "metadata": {},
   "outputs": [
    {
     "data": {
      "image/png": "[encoded data removed]",
      "text/plain": [
       "<Figure size 576x576 with 2 Axes>"
      ]
     },
     "metadata": {
      "needs_background": "light"
     },
     "output_type": "display_data"
    }
   ],
   "source": [
    "plot_matrix(\n",
    "    mbon2mbon_connectome, \n",
    "    greek_lobes, \n",
    "    'MBON-MBON feedforward connections/lobe', \n",
    "    'Connection Strength'\n",
    ")"
   ]
  },
  {
   "cell_type": "code",
   "execution_count": 10,
   "metadata": {},
   "outputs": [
    {
     "data": {
      "image/png": "[encoded data removed]",
      "text/plain": [
       "<Figure size 288x288 with 1 Axes>"
      ]
     },
     "metadata": {
      "needs_background": "light"
     },
     "output_type": "display_data"
    }
   ],
   "source": [
    "mbon_mask = torch.from_numpy((mbon2mbon_connectome > 0)*1.0)\n",
    "plot_matrix(\n",
    "    mbon_mask.t(), \n",
    "    greek_lobes, \n",
    "    'MBON-MBON Mask',\n",
    "    size=[4,4],\n",
    "    switch=True\n",
    ")"
   ]
  },
  {
   "cell_type": "code",
   "execution_count": 11,
   "metadata": {},
   "outputs": [
    {
     "data": {
      "image/png": "[encoded data removed]",
      "text/plain": [
       "<Figure size 288x288 with 1 Axes>"
      ]
     },
     "metadata": {
      "needs_background": "light"
     },
     "output_type": "display_data"
    }
   ],
   "source": [
    "dan_mask = torch.from_numpy(np.diag(np.ones(15)))\n",
    "plot_matrix(\n",
    "    dan_mask.t(), \n",
    "    greek_lobes, \n",
    "    'DAN-MBON Mask',\n",
    "    size=[4,4],\n",
    "    switch=True\n",
    ")"
   ]
  },
  {
   "cell_type": "markdown",
   "metadata": {},
   "source": [
    "# Instantiate Model"
   ]
  },
  {
   "cell_type": "code",
   "execution_count": 12,
   "metadata": {},
   "outputs": [
    {
     "data": {
      "text/plain": [
       "\"lr\":            5e-05\n",
       "\"masked\":        True\n",
       "\"non_linearity\": tanh"
      ]
     },
     "execution_count": 12,
     "metadata": {},
     "output_type": "execute_result"
    }
   ],
   "source": [
    "model = NeuralRNNModule(\n",
    "    masked=True,                           # if using masks for Wxh and Whh\n",
    "    lr=hparams['lr'],                      # learning rate\n",
    "    input_mask=dan_mask.t(),               # mask shape (in_dans, out_mbons) = (15,15)\n",
    "    hidden_mask=mbon_mask.t(),             # mask shape (in_mbons, out_mbons) = (15,15)\n",
    "    non_linearity=hparams['non_linearity'] # relu or tanh\n",
    ")\n",
    "\n",
    "model.hparams"
   ]
  },
  {
   "cell_type": "code",
   "execution_count": 13,
   "metadata": {},
   "outputs": [
    {
     "data": {
      "text/plain": [
       "torch.Size([8, 10, 15])"
      ]
     },
     "execution_count": 13,
     "metadata": {},
     "output_type": "execute_result"
    }
   ],
   "source": [
    "# Check that the forward pass does what I expect\n",
    "batch = next(iter(train_dataloader))\n",
    "output = model(batch['dan'])\n",
    "output.shape    # (batch, sequnce length, nodes)"
   ]
  },
  {
   "cell_type": "code",
   "execution_count": 14,
   "metadata": {},
   "outputs": [
    {
     "data": {
      "image/png": "[encoded data removed]",
      "text/plain": [
       "<Figure size 576x576 with 2 Axes>"
      ]
     },
     "metadata": {
      "needs_background": "light"
     },
     "output_type": "display_data"
    }
   ],
   "source": [
    "# Check the masked/unmasked weights before training\n",
    "M = model.rnn.W_hh.weight.detach().numpy() * 100\n",
    "plot_matrix(\n",
    "    M, \n",
    "    greek_lobes, \n",
    "    'MBON-MBON initialised weights', \n",
    "    'Weight * 100',\n",
    "    switch=False\n",
    ")"
   ]
  },
  {
   "cell_type": "markdown",
   "metadata": {},
   "source": [
    "# Train model"
   ]
  },
  {
   "cell_type": "code",
   "execution_count": 15,
   "metadata": {},
   "outputs": [],
   "source": [
    "logger = TensorBoardLogger(\"tb_logs\", name=\"masked_rnn\", default_hp_metric=False)"
   ]
  },
  {
   "cell_type": "code",
   "execution_count": 16,
   "metadata": {},
   "outputs": [],
   "source": [
    "logger.log_hyperparams(hparams)"
   ]
  },
  {
   "cell_type": "code",
   "execution_count": 17,
   "metadata": {},
   "outputs": [
    {
     "name": "stderr",
     "output_type": "stream",
     "text": [
      "GPU available: False, used: False\n",
      "TPU available: False, using: 0 TPU cores\n"
     ]
    }
   ],
   "source": [
    "trainer = Trainer(\n",
    "    logger=logger,\n",
    "    max_epochs=hparams['max_epochs'],\n",
    "    min_epochs=hparams['min_epochs'],\n",
    "    callbacks=[EarlyStopping(monitor='val/loss')]\n",
    ")"
   ]
  },
  {
   "cell_type": "code",
   "execution_count": 18,
   "metadata": {
    "tags": [
     "outputPrepend"
    ]
   },
   "outputs": [
    {
     "name": "stderr",
     "output_type": "stream",
     "text": [
      "\n",
      "  | Name     | Type            | Params\n",
      "---------------------------------------------\n",
      "0 | rnn      | MaskedNeuralRNN | 930   \n",
      "1 | loss_fcn | MSELoss         | 0     \n",
      "---------------------------------------------\n",
      "480       Trainable params\n",
      "450       Non-trainable params\n",
      "930       Total params\n",
      "0.004     Total estimated model params size (MB)\n"
     ]
    },
    {
     "name": "stdout",
     "output_type": "stream",
     "text": [
      "Epoch 0:  80%|███████▉  | 2250/2813 [00:30<00:07, 72.94it/s, loss=0.0158, v_num=13]\n",
      "Validating: 0it [00:00, ?it/s]\u001b[A\n",
      "Validating:   0%|          | 0/563 [00:00<?, ?it/s]\u001b[A\n",
      "Epoch 0:  80%|████████  | 2260/2813 [00:31<00:07, 71.98it/s, loss=0.0158, v_num=13]\n",
      "Epoch 0:  81%|████████  | 2281/2813 [00:31<00:07, 72.41it/s, loss=0.0158, v_num=13]\n",
      "Epoch 0:  82%|████████▏ | 2303/2813 [00:31<00:06, 72.87it/s, loss=0.0158, v_num=13]\n",
      "Epoch 0:  83%|████████▎ | 2325/2813 [00:31<00:06, 73.32it/s, loss=0.0158, v_num=13]\n",
      "Epoch 0:  83%|████████▎ | 2347/2813 [00:31<00:06, 73.76it/s, loss=0.0158, v_num=13]\n",
      "Epoch 0:  84%|████████▍ | 2369/2813 [00:31<00:05, 74.20it/s, loss=0.0158, v_num=13]\n",
      "Epoch 0:  85%|████████▍ | 2391/2813 [00:32<00:05, 74.63it/s, loss=0.0158, v_num=13]\n",
      "Epoch 0:  86%|████████▌ | 2415/2813 [00:32<00:05, 75.15it/s, loss=0.0158, v_num=13]\n",
      "Epoch 0:  87%|████████▋ | 2441/2813 [00:32<00:04, 75.72it/s, loss=0.0158, v_num=13]\n",
      "Epoch 0:  88%|████████▊ | 2467/2813 [00:32<00:04, 76.27it/s, loss=0.0158, v_num=13]\n",
      "Epoch 0:  89%|████████▊ | 2493/2813 [00:32<00:04, 76.83it/s, loss=0.0158, v_num=13]\n",
      "Epoch 0:  90%|████████▉ | 2519/2813 [00:32<00:03, 77.37it/s, loss=0.0158, v_num=13]\n",
      "Epoch 0:  90%|█████████ | 2545/2813 [00:32<00:03, 77.90it/s, loss=0.0158, v_num=13]\n",
      "Validating:  52%|█████▏    | 295/563 [00:01<00:01, 192.15it/s]\u001b[A\n",
      "Epoch 0:  91%|█████████▏| 2571/2813 [00:32<00:03, 78.43it/s, loss=0.0158, v_num=13]\n",
      "Epoch 0:  92%|█████████▏| 2597/2813 [00:32<00:02, 78.96it/s, loss=0.0158, v_num=13]\n",
      "Epoch 0:  93%|█████████▎| 2623/2813 [00:32<00:02, 79.50it/s, loss=0.0158, v_num=13]\n",
      "Epoch 0:  94%|█████████▍| 2649/2813 [00:33<00:02, 80.03it/s, loss=0.0158, v_num=13]\n",
      "Epoch 0:  95%|█████████▌| 2675/2813 [00:33<00:01, 80.56it/s, loss=0.0158, v_num=13]\n",
      "Epoch 0:  96%|█████████▌| 2701/2813 [00:33<00:01, 81.10it/s, loss=0.0158, v_num=13]\n",
      "Epoch 0:  97%|█████████▋| 2727/2813 [00:33<00:01, 81.63it/s, loss=0.0158, v_num=13]\n",
      "Epoch 0:  98%|█████████▊| 2753/2813 [00:33<00:00, 82.15it/s, loss=0.0158, v_num=13]\n",
      "Epoch 0:  99%|█████████▉| 2779/2813 [00:33<00:00, 82.67it/s, loss=0.0158, v_num=13]\n",
      "Epoch 0: 100%|██████████| 2813/2813 [00:33<00:00, 83.25it/s, loss=0.0158, v_num=13]\n",
      "Epoch 1:  80%|███████▉  | 2250/2813 [00:27<00:06, 81.76it/s, loss=0.0102, v_num=13] \n",
      "Validating: 0it [00:00, ?it/s]\u001b[A\n",
      "Validating:   0%|          | 0/563 [00:00<?, ?it/s]\u001b[A\n",
      "Epoch 1:  80%|████████  | 2262/2813 [00:27<00:06, 81.02it/s, loss=0.0102, v_num=13]\n",
      "Epoch 1:  81%|████████▏ | 2288/2813 [00:28<00:06, 81.59it/s, loss=0.0102, v_num=13]\n",
      "Epoch 1:  82%|████████▏ | 2314/2813 [00:28<00:06, 82.18it/s, loss=0.0102, v_num=13]\n",
      "Validating:  12%|█▏        | 67/563 [00:00<00:07, 66.41it/s]\u001b[A\n",
      "Epoch 1:  83%|████████▎ | 2340/2813 [00:28<00:05, 82.73it/s, loss=0.0102, v_num=13]\n",
      "Epoch 1:  84%|████████▍ | 2366/2813 [00:28<00:05, 83.29it/s, loss=0.0102, v_num=13]\n",
      "Epoch 1:  85%|████████▌ | 2392/2813 [00:28<00:05, 83.85it/s, loss=0.0102, v_num=13]\n",
      "Epoch 1:  86%|████████▌ | 2418/2813 [00:28<00:04, 84.45it/s, loss=0.0102, v_num=13]\n",
      "Epoch 1:  87%|████████▋ | 2444/2813 [00:28<00:04, 85.03it/s, loss=0.0102, v_num=13]\n",
      "Epoch 1:  88%|████████▊ | 2470/2813 [00:28<00:04, 85.55it/s, loss=0.0102, v_num=13]\n",
      "Epoch 1:  89%|████████▊ | 2496/2813 [00:28<00:03, 86.11it/s, loss=0.0102, v_num=13]\n",
      "Epoch 1:  90%|████████▉ | 2522/2813 [00:29<00:03, 86.67it/s, loss=0.0102, v_num=13]\n",
      "Validating:  48%|████▊     | 272/563 [00:01<00:01, 201.13it/s]\u001b[A\n",
      "Epoch 1:  91%|█████████ | 2548/2813 [00:29<00:03, 87.17it/s, loss=0.0102, v_num=13]\n",
      "Epoch 1:  92%|█████████▏| 2574/2813 [00:29<00:02, 87.68it/s, loss=0.0102, v_num=13]\n",
      "Epoch 1:  92%|█████████▏| 2600/2813 [00:29<00:02, 88.23it/s, loss=0.0102, v_num=13]\n",
      "Epoch 1:  93%|█████████▎| 2626/2813 [00:29<00:02, 88.76it/s, loss=0.0102, v_num=13]\n",
      "Epoch 1:  94%|█████████▍| 2652/2813 [00:29<00:01, 89.28it/s, loss=0.0102, v_num=13]\n",
      "Epoch 1:  95%|█████████▌| 2678/2813 [00:29<00:01, 89.82it/s, loss=0.0102, v_num=13]\n",
      "Epoch 1:  96%|█████████▌| 2704/2813 [00:29<00:01, 90.35it/s, loss=0.0102, v_num=13]\n",
      "Validating:  81%|████████  | 454/563 [00:02<00:00, 222.84it/s]\u001b[A\n",
      "Epoch 1:  97%|█████████▋| 2730/2813 [00:30<00:00, 90.87it/s, loss=0.0102, v_num=13]\n",
      "Epoch 1:  98%|█████████▊| 2756/2813 [00:30<00:00, 91.37it/s, loss=0.0102, v_num=13]\n",
      "Epoch 1:  99%|█████████▉| 2782/2813 [00:30<00:00, 91.90it/s, loss=0.0102, v_num=13]\n",
      "Epoch 1: 100%|██████████| 2813/2813 [00:30<00:00, 92.40it/s, loss=0.0102, v_num=13]\n",
      "Epoch 2:  80%|███████▉  | 2250/2813 [00:28<00:07, 79.97it/s, loss=0.00941, v_num=13]\n",
      "Validating: 0it [00:00, ?it/s]\u001b[A\n",
      "Validating:   0%|          | 0/563 [00:00<?, ?it/s]\u001b[A\n",
      "Epoch 2:  80%|████████  | 2262/2813 [00:28<00:06, 79.30it/s, loss=0.00941, v_num=13]\n",
      "Epoch 2:  81%|████████▏ | 2288/2813 [00:28<00:06, 79.87it/s, loss=0.00941, v_num=13]\n",
      "Epoch 2:  82%|████████▏ | 2314/2813 [00:28<00:06, 80.43it/s, loss=0.00941, v_num=13]\n",
      "Epoch 2:  83%|████████▎ | 2340/2813 [00:28<00:05, 81.03it/s, loss=0.00941, v_num=13]\n",
      "Epoch 2:  84%|████████▍ | 2366/2813 [00:28<00:05, 81.64it/s, loss=0.00941, v_num=13]\n",
      "Epoch 2:  85%|████████▌ | 2392/2813 [00:29<00:05, 82.24it/s, loss=0.00941, v_num=13]\n",
      "Epoch 2:  86%|████████▌ | 2418/2813 [00:29<00:04, 82.79it/s, loss=0.00941, v_num=13]\n",
      "Epoch 2:  87%|████████▋ | 2444/2813 [00:29<00:04, 83.39it/s, loss=0.00941, v_num=13]\n",
      "Epoch 2:  88%|████████▊ | 2470/2813 [00:29<00:04, 83.98it/s, loss=0.00941, v_num=13]\n",
      "Validating:  39%|███▉      | 220/563 [00:01<00:01, 207.68it/s]\u001b[A\n",
      "Epoch 2:  89%|████████▊ | 2496/2813 [00:29<00:03, 84.51it/s, loss=0.00941, v_num=13]\n",
      "Epoch 2:  90%|████████▉ | 2522/2813 [00:29<00:03, 85.04it/s, loss=0.00941, v_num=13]\n",
      "Epoch 2:  91%|█████████ | 2548/2813 [00:29<00:03, 85.57it/s, loss=0.00941, v_num=13]\n",
      "Epoch 2:  92%|█████████▏| 2574/2813 [00:29<00:02, 86.12it/s, loss=0.00941, v_num=13]\n",
      "Epoch 2:  92%|█████████▏| 2600/2813 [00:29<00:02, 86.68it/s, loss=0.00941, v_num=13]\n",
      "Epoch 2:  93%|█████████▎| 2626/2813 [00:30<00:02, 87.23it/s, loss=0.00941, v_num=13]\n",
      "Epoch 2:  94%|█████████▍| 2652/2813 [00:30<00:01, 87.77it/s, loss=0.00941, v_num=13]\n",
      "Epoch 2:  95%|█████████▌| 2678/2813 [00:30<00:01, 88.29it/s, loss=0.00941, v_num=13]\n",
      "Epoch 2:  96%|█████████▌| 2704/2813 [00:30<00:01, 88.81it/s, loss=0.00941, v_num=13]\n",
      "Epoch 2:  97%|█████████▋| 2730/2813 [00:30<00:00, 89.34it/s, loss=0.00941, v_num=13]\n",
      "Epoch 2:  98%|█████████▊| 2756/2813 [00:30<00:00, 89.88it/s, loss=0.00941, v_num=13]\n",
      "Validating:  90%|█████████ | 507/563 [00:02<00:00, 233.98it/s]\u001b[A\n",
      "Epoch 2:  99%|█████████▉| 2782/2813 [00:30<00:00, 90.39it/s, loss=0.00941, v_num=13]\n",
      "Epoch 2: 100%|██████████| 2813/2813 [00:30<00:00, 90.89it/s, loss=0.00941, v_num=13]\n",
      "Epoch 3:  80%|███████▉  | 2250/2813 [00:27<00:07, 80.37it/s, loss=0.00882, v_num=13]\n",
      "Validating: 0it [00:00, ?it/s]\u001b[A\n",
      "Validating:   0%|          | 0/563 [00:00<?, ?it/s]\u001b[A\n",
      "Epoch 3:  80%|████████  | 2262/2813 [00:28<00:06, 79.68it/s, loss=0.00882, v_num=13]\n",
      "Epoch 3:  81%|████████▏ | 2288/2813 [00:28<00:06, 80.27it/s, loss=0.00882, v_num=13]\n",
      "Epoch 3:  82%|████████▏ | 2314/2813 [00:28<00:06, 80.86it/s, loss=0.00882, v_num=13]\n",
      "Epoch 3:  83%|████████▎ | 2340/2813 [00:28<00:05, 81.45it/s, loss=0.00882, v_num=13]\n",
      "Epoch 3:  84%|████████▍ | 2366/2813 [00:28<00:05, 82.05it/s, loss=0.00882, v_num=13]\n",
      "Epoch 3:  85%|████████▌ | 2392/2813 [00:28<00:05, 82.64it/s, loss=0.00882, v_num=13]\n",
      "Epoch 3:  86%|████████▌ | 2418/2813 [00:29<00:04, 83.23it/s, loss=0.00882, v_num=13]\n",
      "Validating:  30%|██▉       | 168/563 [00:00<00:02, 150.61it/s]\u001b[A\n",
      "Epoch 3:  87%|████████▋ | 2444/2813 [00:29<00:04, 83.79it/s, loss=0.00882, v_num=13]\n",
      "Epoch 3:  88%|████████▊ | 2470/2813 [00:29<00:04, 84.34it/s, loss=0.00882, v_num=13]\n",
      "Epoch 3:  89%|████████▊ | 2496/2813 [00:29<00:03, 84.91it/s, loss=0.00882, v_num=13]\n",
      "Epoch 3:  90%|████████▉ | 2522/2813 [00:29<00:03, 85.43it/s, loss=0.00882, v_num=13]\n",
      "Epoch 3:  91%|█████████ | 2548/2813 [00:29<00:03, 85.97it/s, loss=0.00882, v_num=13]\n",
      "Epoch 3:  92%|█████████▏| 2574/2813 [00:29<00:02, 86.55it/s, loss=0.00882, v_num=13]\n",
      "Epoch 3:  92%|█████████▏| 2600/2813 [00:29<00:02, 87.07it/s, loss=0.00882, v_num=13]\n",
      "Epoch 3:  93%|█████████▎| 2626/2813 [00:29<00:02, 87.62it/s, loss=0.00882, v_num=13]\n",
      "Epoch 3:  94%|█████████▍| 2652/2813 [00:30<00:01, 88.16it/s, loss=0.00882, v_num=13]\n",
      "Validating:  72%|███████▏  | 403/563 [00:01<00:00, 225.04it/s]\u001b[A\n",
      "Epoch 3:  95%|█████████▌| 2678/2813 [00:30<00:01, 88.66it/s, loss=0.00882, v_num=13]\n",
      "Epoch 3:  96%|█████████▌| 2704/2813 [00:30<00:01, 89.18it/s, loss=0.00882, v_num=13]\n",
      "Epoch 3:  97%|█████████▋| 2730/2813 [00:30<00:00, 89.68it/s, loss=0.00882, v_num=13]\n",
      "Epoch 3:  98%|█████████▊| 2756/2813 [00:30<00:00, 90.23it/s, loss=0.00882, v_num=13]\n",
      "Epoch 3:  99%|█████████▉| 2782/2813 [00:30<00:00, 90.74it/s, loss=0.00882, v_num=13]\n",
      "Epoch 3: 100%|██████████| 2813/2813 [00:30<00:00, 91.29it/s, loss=0.00882, v_num=13]\n",
      "Epoch 4:  80%|███████▉  | 2250/2813 [00:28<00:07, 79.00it/s, loss=0.00827, v_num=13]\n",
      "Validating: 0it [00:00, ?it/s]\u001b[A\n",
      "Validating:   0%|          | 0/563 [00:00<?, ?it/s]\u001b[A\n",
      "Epoch 4:  80%|████████  | 2262/2813 [00:28<00:07, 78.35it/s, loss=0.00827, v_num=13]\n",
      "Epoch 4:  81%|████████▏ | 2288/2813 [00:28<00:06, 78.95it/s, loss=0.00827, v_num=13]\n",
      "Epoch 4:  82%|████████▏ | 2314/2813 [00:29<00:06, 79.53it/s, loss=0.00827, v_num=13]\n",
      "Epoch 4:  83%|████████▎ | 2340/2813 [00:29<00:05, 80.09it/s, loss=0.00827, v_num=13]\n",
      "Epoch 4:  84%|████████▍ | 2366/2813 [00:29<00:05, 80.66it/s, loss=0.00827, v_num=13]\n",
      "Validating:  21%|██        | 117/563 [00:00<00:03, 138.12it/s]\u001b[A\n",
      "Epoch 4:  85%|████████▌ | 2392/2813 [00:29<00:05, 81.21it/s, loss=0.00827, v_num=13]\n",
      "Epoch 4:  86%|████████▌ | 2418/2813 [00:29<00:04, 81.79it/s, loss=0.00827, v_num=13]\n",
      "Epoch 4:  87%|████████▋ | 2444/2813 [00:29<00:04, 82.36it/s, loss=0.00827, v_num=13]\n",
      "Epoch 4:  88%|████████▊ | 2470/2813 [00:29<00:04, 82.93it/s, loss=0.00827, v_num=13]\n",
      "Epoch 4:  89%|████████▊ | 2496/2813 [00:29<00:03, 83.46it/s, loss=0.00827, v_num=13]\n",
      "Epoch 4:  90%|████████▉ | 2522/2813 [00:30<00:03, 84.02it/s, loss=0.00827, v_num=13]\n",
      "Epoch 4:  91%|█████████ | 2548/2813 [00:30<00:03, 84.54it/s, loss=0.00827, v_num=13]\n",
      "Epoch 4:  92%|█████████▏| 2574/2813 [00:30<00:02, 85.09it/s, loss=0.00827, v_num=13]\n",
      "Epoch 4:  92%|█████████▏| 2600/2813 [00:30<00:02, 85.63it/s, loss=0.00827, v_num=13]\n",
      "Epoch 4:  93%|█████████▎| 2626/2813 [00:30<00:02, 86.14it/s, loss=0.00827, v_num=13]\n",
      "Epoch 4:  94%|█████████▍| 2652/2813 [00:30<00:01, 86.68it/s, loss=0.00827, v_num=13]\n",
      "Validating:  71%|███████▏  | 402/563 [00:01<00:00, 221.59it/s]\u001b[A\n",
      "Epoch 4:  95%|█████████▌| 2678/2813 [00:30<00:01, 87.21it/s, loss=0.00827, v_num=13]\n",
      "Epoch 4:  96%|█████████▌| 2704/2813 [00:30<00:01, 87.67it/s, loss=0.00827, v_num=13]\n",
      "Epoch 4:  97%|█████████▋| 2730/2813 [00:30<00:00, 88.17it/s, loss=0.00827, v_num=13]\n",
      "Epoch 4:  98%|█████████▊| 2756/2813 [00:31<00:00, 88.66it/s, loss=0.00827, v_num=13]\n",
      "Epoch 4:  99%|█████████▉| 2782/2813 [00:31<00:00, 89.15it/s, loss=0.00827, v_num=13]\n",
      "Epoch 4: 100%|█████████▉| 2808/2813 [00:31<00:00, 89.65it/s, loss=0.00827, v_num=13]\n",
      "Epoch 4: 100%|██████████| 2813/2813 [00:31<00:00, 89.63it/s, loss=0.00827, v_num=13]\n",
      "Epoch 5:  80%|███████▉  | 2250/2813 [00:28<00:07, 79.41it/s, loss=0.00781, v_num=13]\n",
      "Validating: 0it [00:00, ?it/s]\u001b[A\n",
      "Validating:   0%|          | 0/563 [00:00<?, ?it/s]\u001b[A\n",
      "Epoch 5:  80%|████████  | 2262/2813 [00:28<00:06, 78.74it/s, loss=0.00781, v_num=13]\n",
      "Epoch 5:  81%|████████▏ | 2288/2813 [00:28<00:06, 79.35it/s, loss=0.00781, v_num=13]\n",
      "Epoch 5:  82%|████████▏ | 2314/2813 [00:28<00:06, 79.93it/s, loss=0.00781, v_num=13]\n",
      "Epoch 5:  83%|████████▎ | 2340/2813 [00:29<00:05, 80.54it/s, loss=0.00781, v_num=13]\n",
      "Epoch 5:  84%|████████▍ | 2366/2813 [00:29<00:05, 81.14it/s, loss=0.00781, v_num=13]\n",
      "Epoch 5:  85%|████████▌ | 2392/2813 [00:29<00:05, 81.72it/s, loss=0.00781, v_num=13]\n",
      "Epoch 5:  86%|████████▌ | 2418/2813 [00:29<00:04, 82.29it/s, loss=0.00781, v_num=13]\n",
      "Epoch 5:  87%|████████▋ | 2444/2813 [00:29<00:04, 82.80it/s, loss=0.00781, v_num=13]\n",
      "Validating:  35%|███▍      | 195/563 [00:00<00:01, 186.47it/s]\u001b[A\n",
      "Epoch 5:  88%|████████▊ | 2470/2813 [00:29<00:04, 83.28it/s, loss=0.00781, v_num=13]\n",
      "Epoch 5:  89%|████████▊ | 2496/2813 [00:29<00:03, 83.81it/s, loss=0.00781, v_num=13]\n",
      "Epoch 5:  90%|████████▉ | 2522/2813 [00:29<00:03, 84.36it/s, loss=0.00781, v_num=13]\n",
      "Epoch 5:  91%|█████████ | 2548/2813 [00:30<00:03, 84.91it/s, loss=0.00781, v_num=13]\n",
      "Epoch 5:  92%|█████████▏| 2574/2813 [00:30<00:02, 85.46it/s, loss=0.00781, v_num=13]\n",
      "Epoch 5:  92%|█████████▏| 2600/2813 [00:30<00:02, 86.00it/s, loss=0.00781, v_num=13]\n",
      "Epoch 5:  93%|█████████▎| 2626/2813 [00:30<00:02, 86.54it/s, loss=0.00781, v_num=13]\n",
      "Epoch 5:  94%|█████████▍| 2652/2813 [00:30<00:01, 87.09it/s, loss=0.00781, v_num=13]\n",
      "Validating:  71%|███████▏  | 402/563 [00:01<00:00, 229.91it/s]\u001b[A\n",
      "Epoch 5:  95%|█████████▌| 2678/2813 [00:30<00:01, 87.59it/s, loss=0.00781, v_num=13]\n",
      "Epoch 5:  96%|█████████▌| 2704/2813 [00:30<00:01, 88.14it/s, loss=0.00781, v_num=13]\n",
      "Epoch 5:  97%|█████████▋| 2730/2813 [00:30<00:00, 88.68it/s, loss=0.00781, v_num=13]\n",
      "Epoch 5:  98%|█████████▊| 2756/2813 [00:30<00:00, 89.22it/s, loss=0.00781, v_num=13]\n",
      "Epoch 5:  99%|█████████▉| 2782/2813 [00:31<00:00, 89.72it/s, loss=0.00781, v_num=13]\n",
      "Epoch 5: 100%|██████████| 2813/2813 [00:31<00:00, 90.22it/s, loss=0.00781, v_num=13]\n",
      "Epoch 6:  80%|███████▉  | 2250/2813 [00:31<00:07, 70.41it/s, loss=0.00748, v_num=13]\n",
      "Validating: 0it [00:00, ?it/s]\u001b[A\n",
      "Validating:   0%|          | 0/563 [00:00<?, ?it/s]\u001b[A\n",
      "Epoch 6:  80%|████████  | 2262/2813 [00:32<00:07, 69.62it/s, loss=0.00748, v_num=13]\n",
      "Validating:   2%|▏         | 12/563 [00:00<00:47, 11.52it/s]\u001b[A\n",
      "Epoch 6:  81%|████████▏ | 2288/2813 [00:32<00:07, 69.98it/s, loss=0.00748, v_num=13]\n",
      "Validating:   7%|▋         | 38/563 [00:00<00:24, 21.37it/s]\u001b[A\n",
      "Epoch 6:  82%|████████▏ | 2314/2813 [00:32<00:07, 70.41it/s, loss=0.00748, v_num=13]\n",
      "Validating:  13%|█▎        | 72/563 [00:00<00:12, 38.32it/s]\u001b[A\n",
      "Epoch 6:  83%|████████▎ | 2340/2813 [00:33<00:06, 70.68it/s, loss=0.00748, v_num=13]\n",
      "Validating:  17%|█▋        | 97/563 [00:00<00:08, 54.69it/s]\u001b[A\n",
      "Epoch 6:  84%|████████▍ | 2366/2813 [00:33<00:06, 70.86it/s, loss=0.00748, v_num=13]\n",
      "Validating:  21%|██        | 119/563 [00:01<00:06, 69.99it/s]\u001b[A\n",
      "Epoch 6:  85%|████████▌ | 2392/2813 [00:33<00:05, 71.20it/s, loss=0.00748, v_num=13]\n",
      "Validating:  26%|██▌       | 144/563 [00:01<00:04, 88.29it/s]\u001b[A\n",
      "Epoch 6:  86%|████████▌ | 2418/2813 [00:33<00:05, 71.45it/s, loss=0.00748, v_num=13]\n",
      "Validating:  30%|██▉       | 168/563 [00:01<00:04, 95.67it/s]\u001b[A\n",
      "Epoch 6:  87%|████████▋ | 2444/2813 [00:34<00:05, 71.78it/s, loss=0.00748, v_num=13]\n",
      "Validating:  35%|███▍      | 195/563 [00:01<00:03, 111.21it/s]\u001b[A\n",
      "Epoch 6:  88%|████████▊ | 2470/2813 [00:34<00:04, 72.17it/s, loss=0.00748, v_num=13]\n",
      "Validating:  40%|███▉      | 225/563 [00:01<00:02, 127.95it/s]\u001b[A\n",
      "Epoch 6:  89%|████████▊ | 2496/2813 [00:34<00:04, 72.50it/s, loss=0.00748, v_num=13]\n",
      "Validating:  45%|████▍     | 253/563 [00:02<00:02, 125.99it/s]\u001b[A\n",
      "Epoch 6:  90%|████████▉ | 2522/2813 [00:34<00:03, 72.87it/s, loss=0.00748, v_num=13]\n",
      "Epoch 6:  91%|█████████ | 2548/2813 [00:34<00:03, 73.25it/s, loss=0.00748, v_num=13]\n",
      "Validating:  53%|█████▎    | 298/563 [00:02<00:01, 137.14it/s]\u001b[A\n",
      "Epoch 6:  92%|█████████▏| 2574/2813 [00:34<00:03, 73.65it/s, loss=0.00748, v_num=13]\n",
      "Validating:  59%|█████▊    | 330/563 [00:02<00:01, 145.34it/s]\u001b[A\n",
      "Epoch 6:  92%|█████████▏| 2600/2813 [00:35<00:02, 74.03it/s, loss=0.00748, v_num=13]\n",
      "Epoch 6:  93%|█████████▎| 2626/2813 [00:35<00:02, 74.27it/s, loss=0.00748, v_num=13]\n",
      "Validating:  67%|██████▋   | 378/563 [00:03<00:01, 124.43it/s]\u001b[A\n",
      "Epoch 6:  94%|█████████▍| 2652/2813 [00:35<00:02, 74.63it/s, loss=0.00748, v_num=13]\n",
      "Validating:  73%|███████▎  | 410/563 [00:03<00:01, 137.70it/s]\u001b[A\n",
      "Epoch 6:  95%|█████████▌| 2678/2813 [00:35<00:01, 74.99it/s, loss=0.00748, v_num=13]\n",
      "Epoch 6:  96%|█████████▌| 2704/2813 [00:35<00:01, 75.33it/s, loss=0.00748, v_num=13]\n",
      "Validating:  81%|████████  | 455/563 [00:03<00:00, 136.98it/s]\u001b[A\n",
      "Epoch 6:  97%|█████████▋| 2730/2813 [00:36<00:01, 75.68it/s, loss=0.00748, v_num=13]\n",
      "Validating:  86%|████████▋ | 486/563 [00:03<00:00, 143.78it/s]\u001b[A\n",
      "Epoch 6:  98%|█████████▊| 2756/2813 [00:36<00:00, 76.00it/s, loss=0.00748, v_num=13]\n",
      "Validating:  92%|█████████▏| 516/563 [00:04<00:00, 138.84it/s]\u001b[A\n",
      "Epoch 6:  99%|█████████▉| 2782/2813 [00:36<00:00, 76.30it/s, loss=0.00748, v_num=13]\n",
      "Epoch 6: 100%|█████████▉| 2808/2813 [00:36<00:00, 76.67it/s, loss=0.00748, v_num=13]\n",
      "Epoch 6: 100%|██████████| 2813/2813 [00:36<00:00, 76.60it/s, loss=0.00748, v_num=13]\n",
      "Epoch 7:  80%|███████▉  | 2250/2813 [00:28<00:07, 78.13it/s, loss=0.00724, v_num=13]\n",
      "Validating: 0it [00:00, ?it/s]\u001b[A\n",
      "Validating:   0%|          | 0/563 [00:00<?, ?it/s]\u001b[A\n",
      "Epoch 7:  80%|████████  | 2262/2813 [00:29<00:07, 77.19it/s, loss=0.00724, v_num=13]\n",
      "Epoch 7:  81%|████████▏ | 2288/2813 [00:29<00:06, 77.72it/s, loss=0.00724, v_num=13]\n",
      "Validating:   7%|▋         | 40/563 [00:00<00:34, 14.99it/s]\u001b[A\n",
      "Epoch 7:  82%|████████▏ | 2314/2813 [00:29<00:06, 78.21it/s, loss=0.00724, v_num=13]\n",
      "Epoch 7:  83%|████████▎ | 2340/2813 [00:29<00:06, 78.69it/s, loss=0.00724, v_num=13]\n",
      "Validating:  17%|█▋        | 94/563 [00:00<00:12, 37.53it/s]\u001b[A\n",
      "Epoch 7:  84%|████████▍ | 2366/2813 [00:29<00:05, 79.21it/s, loss=0.00724, v_num=13]\n",
      "Epoch 7:  85%|████████▌ | 2392/2813 [00:30<00:05, 79.71it/s, loss=0.00724, v_num=13]\n",
      "Epoch 7:  86%|████████▌ | 2418/2813 [00:30<00:04, 80.24it/s, loss=0.00724, v_num=13]\n",
      "Epoch 7:  87%|████████▋ | 2444/2813 [00:30<00:04, 80.44it/s, loss=0.00724, v_num=13]\n",
      "Validating:  34%|███▍      | 194/563 [00:01<00:03, 94.57it/s]\u001b[A\n",
      "Epoch 7:  88%|████████▊ | 2470/2813 [00:30<00:04, 80.96it/s, loss=0.00724, v_num=13]\n",
      "Epoch 7:  89%|████████▊ | 2496/2813 [00:30<00:03, 81.45it/s, loss=0.00724, v_num=13]\n",
      "Epoch 7:  90%|████████▉ | 2522/2813 [00:30<00:03, 81.92it/s, loss=0.00724, v_num=13]\n",
      "Epoch 7:  91%|█████████ | 2548/2813 [00:30<00:03, 82.44it/s, loss=0.00724, v_num=13]\n",
      "Validating:  53%|█████▎    | 298/563 [00:01<00:01, 166.94it/s]\u001b[A\n",
      "Epoch 7:  92%|█████████▏| 2574/2813 [00:31<00:02, 82.94it/s, loss=0.00724, v_num=13]\n",
      "Epoch 7:  92%|█████████▏| 2600/2813 [00:31<00:02, 83.44it/s, loss=0.00724, v_num=13]\n",
      "Epoch 7:  93%|█████████▎| 2626/2813 [00:31<00:02, 83.93it/s, loss=0.00724, v_num=13]\n",
      "Epoch 7:  94%|█████████▍| 2652/2813 [00:31<00:01, 84.40it/s, loss=0.00724, v_num=13]\n",
      "Validating:  72%|███████▏  | 403/563 [00:02<00:00, 191.88it/s]\u001b[A\n",
      "Epoch 7:  95%|█████████▌| 2678/2813 [00:31<00:01, 84.88it/s, loss=0.00724, v_num=13]\n",
      "Epoch 7:  96%|█████████▌| 2704/2813 [00:31<00:01, 85.36it/s, loss=0.00724, v_num=13]\n",
      "Epoch 7:  97%|█████████▋| 2730/2813 [00:31<00:00, 85.81it/s, loss=0.00724, v_num=13]\n",
      "Epoch 7:  98%|█████████▊| 2756/2813 [00:31<00:00, 86.22it/s, loss=0.00724, v_num=13]\n",
      "Validating:  90%|█████████ | 507/563 [00:02<00:00, 185.91it/s]\u001b[A\n",
      "Epoch 7:  99%|█████████▉| 2782/2813 [00:32<00:00, 86.64it/s, loss=0.00724, v_num=13]\n",
      "Epoch 7: 100%|██████████| 2813/2813 [00:32<00:00, 87.08it/s, loss=0.00724, v_num=13]\n",
      "Epoch 8:  80%|███████▉  | 2250/2813 [00:31<00:07, 72.56it/s, loss=0.00708, v_num=13]\n",
      "Validating: 0it [00:00, ?it/s]\u001b[A\n",
      "Validating:   0%|          | 0/563 [00:00<?, ?it/s]\u001b[A\n",
      "Epoch 8:  80%|████████  | 2262/2813 [00:31<00:07, 72.04it/s, loss=0.00708, v_num=13]\n",
      "Epoch 8:  81%|████████▏ | 2288/2813 [00:31<00:07, 72.62it/s, loss=0.00708, v_num=13]\n",
      "Epoch 8:  82%|████████▏ | 2314/2813 [00:31<00:06, 73.20it/s, loss=0.00708, v_num=13]\n",
      "Epoch 8:  83%|████████▎ | 2340/2813 [00:31<00:06, 73.78it/s, loss=0.00708, v_num=13]\n",
      "Epoch 8:  84%|████████▍ | 2366/2813 [00:31<00:06, 74.36it/s, loss=0.00708, v_num=13]\n",
      "Epoch 8:  85%|████████▌ | 2392/2813 [00:31<00:05, 74.93it/s, loss=0.00708, v_num=13]\n",
      "Epoch 8:  86%|████████▌ | 2418/2813 [00:32<00:05, 75.50it/s, loss=0.00708, v_num=13]\n",
      "Epoch 8:  87%|████████▋ | 2444/2813 [00:32<00:04, 76.07it/s, loss=0.00708, v_num=13]\n",
      "Epoch 8:  88%|████████▊ | 2470/2813 [00:32<00:04, 76.63it/s, loss=0.00708, v_num=13]\n",
      "Epoch 8:  89%|████████▊ | 2496/2813 [00:32<00:04, 77.20it/s, loss=0.00708, v_num=13]\n",
      "Epoch 8:  90%|████████▉ | 2522/2813 [00:32<00:03, 77.75it/s, loss=0.00708, v_num=13]\n",
      "Epoch 8:  91%|█████████ | 2548/2813 [00:32<00:03, 78.30it/s, loss=0.00708, v_num=13]\n",
      "Epoch 8:  92%|█████████▏| 2574/2813 [00:32<00:03, 78.85it/s, loss=0.00708, v_num=13]\n",
      "Epoch 8:  92%|█████████▏| 2600/2813 [00:32<00:02, 79.38it/s, loss=0.00708, v_num=13]\n",
      "Epoch 8:  93%|█████████▎| 2626/2813 [00:32<00:02, 79.89it/s, loss=0.00708, v_num=13]\n",
      "Epoch 8:  94%|█████████▍| 2652/2813 [00:32<00:02, 80.42it/s, loss=0.00708, v_num=13]\n",
      "Epoch 8:  95%|█████████▌| 2678/2813 [00:33<00:01, 80.94it/s, loss=0.00708, v_num=13]\n",
      "Epoch 8:  96%|█████████▌| 2704/2813 [00:33<00:01, 81.45it/s, loss=0.00708, v_num=13]\n",
      "Epoch 8:  97%|█████████▋| 2730/2813 [00:33<00:01, 81.97it/s, loss=0.00708, v_num=13]\n",
      "Epoch 8:  98%|█████████▊| 2756/2813 [00:33<00:00, 82.49it/s, loss=0.00708, v_num=13]\n",
      "Epoch 8:  99%|█████████▉| 2782/2813 [00:33<00:00, 82.99it/s, loss=0.00708, v_num=13]\n",
      "Validating:  95%|█████████▍| 533/563 [00:02<00:00, 238.73it/s]\u001b[A\n",
      "Epoch 8: 100%|██████████| 2813/2813 [00:33<00:00, 83.50it/s, loss=0.00708, v_num=13]\n",
      "Epoch 9:  80%|███████▉  | 2250/2813 [00:33<00:08, 66.31it/s, loss=0.00697, v_num=13]\n",
      "Validating: 0it [00:00, ?it/s]\u001b[A\n",
      "Validating:   0%|          | 0/563 [00:00<?, ?it/s]\u001b[A\n",
      "Epoch 9:  80%|████████  | 2262/2813 [00:34<00:08, 65.70it/s, loss=0.00697, v_num=13]\n",
      "Validating:   2%|▏         | 12/563 [00:00<00:43, 12.53it/s]\u001b[A\n",
      "Epoch 9:  81%|████████▏ | 2288/2813 [00:34<00:07, 66.22it/s, loss=0.00697, v_num=13]\n",
      "Epoch 9:  82%|████████▏ | 2314/2813 [00:34<00:07, 66.75it/s, loss=0.00697, v_num=13]\n",
      "Epoch 9:  83%|████████▎ | 2340/2813 [00:34<00:07, 67.28it/s, loss=0.00697, v_num=13]\n",
      "Epoch 9:  84%|████████▍ | 2366/2813 [00:34<00:06, 67.81it/s, loss=0.00697, v_num=13]\n",
      "Epoch 9:  85%|████████▌ | 2392/2813 [00:35<00:06, 68.33it/s, loss=0.00697, v_num=13]\n",
      "Epoch 9:  86%|████████▌ | 2418/2813 [00:35<00:05, 68.85it/s, loss=0.00697, v_num=13]\n",
      "Epoch 9:  87%|████████▋ | 2444/2813 [00:35<00:05, 69.37it/s, loss=0.00697, v_num=13]\n",
      "Epoch 9:  88%|████████▊ | 2470/2813 [00:35<00:04, 69.88it/s, loss=0.00697, v_num=13]\n",
      "Validating:  39%|███▉      | 220/563 [00:01<00:02, 134.52it/s]\u001b[A\n",
      "Epoch 9:  89%|████████▊ | 2496/2813 [00:35<00:04, 70.38it/s, loss=0.00697, v_num=13]\n",
      "Epoch 9:  90%|████████▉ | 2522/2813 [00:35<00:04, 70.86it/s, loss=0.00697, v_num=13]\n",
      "Epoch 9:  91%|█████████ | 2548/2813 [00:35<00:03, 71.38it/s, loss=0.00697, v_num=13]\n",
      "Epoch 9:  92%|█████████▏| 2574/2813 [00:35<00:03, 71.89it/s, loss=0.00697, v_num=13]\n",
      "Epoch 9:  92%|█████████▏| 2600/2813 [00:35<00:02, 72.40it/s, loss=0.00697, v_num=13]\n",
      "Epoch 9:  93%|█████████▎| 2626/2813 [00:36<00:02, 72.91it/s, loss=0.00697, v_num=13]\n",
      "Epoch 9:  94%|█████████▍| 2652/2813 [00:36<00:02, 73.40it/s, loss=0.00697, v_num=13]\n",
      "Epoch 9:  95%|█████████▌| 2678/2813 [00:36<00:01, 73.91it/s, loss=0.00697, v_num=13]\n",
      "Epoch 9:  96%|█████████▌| 2704/2813 [00:36<00:01, 74.41it/s, loss=0.00697, v_num=13]\n",
      "Epoch 9:  97%|█████████▋| 2730/2813 [00:36<00:01, 74.89it/s, loss=0.00697, v_num=13]\n",
      "Epoch 9:  98%|█████████▊| 2756/2813 [00:36<00:00, 75.37it/s, loss=0.00697, v_num=13]\n",
      "Epoch 9:  99%|█████████▉| 2782/2813 [00:36<00:00, 75.84it/s, loss=0.00697, v_num=13]\n",
      "Epoch 9: 100%|█████████▉| 2808/2813 [00:36<00:00, 76.30it/s, loss=0.00697, v_num=13]\n",
      "Epoch 9: 100%|██████████| 2813/2813 [00:36<00:00, 76.30it/s, loss=0.00697, v_num=13]\n",
      "Epoch 10:  80%|███████▉  | 2250/2813 [00:28<00:07, 80.35it/s, loss=0.00688, v_num=13]\n",
      "Validating: 0it [00:00, ?it/s]\u001b[A\n",
      "Validating:   0%|          | 0/563 [00:00<?, ?it/s]\u001b[A\n",
      "Epoch 10:  80%|████████  | 2262/2813 [00:28<00:06, 79.68it/s, loss=0.00688, v_num=13]\n",
      "Epoch 10:  81%|████████▏ | 2288/2813 [00:28<00:06, 80.28it/s, loss=0.00688, v_num=13]\n",
      "Epoch 10:  82%|████████▏ | 2314/2813 [00:28<00:06, 80.87it/s, loss=0.00688, v_num=13]\n",
      "Epoch 10:  83%|████████▎ | 2340/2813 [00:28<00:05, 81.44it/s, loss=0.00688, v_num=13]\n",
      "Epoch 10:  84%|████████▍ | 2366/2813 [00:28<00:05, 82.02it/s, loss=0.00688, v_num=13]\n",
      "Validating:  21%|██        | 117/563 [00:00<00:04, 104.30it/s]\u001b[A\n",
      "Epoch 10:  85%|████████▌ | 2392/2813 [00:28<00:05, 82.57it/s, loss=0.00688, v_num=13]\n",
      "Epoch 10:  86%|████████▌ | 2418/2813 [00:29<00:04, 83.15it/s, loss=0.00688, v_num=13]\n",
      "Epoch 10:  87%|████████▋ | 2444/2813 [00:29<00:04, 83.74it/s, loss=0.00688, v_num=13]\n",
      "Epoch 10:  88%|████████▊ | 2470/2813 [00:29<00:04, 84.31it/s, loss=0.00688, v_num=13]\n",
      "Epoch 10:  89%|████████▊ | 2496/2813 [00:29<00:03, 84.86it/s, loss=0.00688, v_num=13]\n",
      "Epoch 10:  90%|████████▉ | 2522/2813 [00:29<00:03, 85.43it/s, loss=0.00688, v_num=13]\n",
      "Epoch 10:  91%|█████████ | 2548/2813 [00:29<00:03, 86.00it/s, loss=0.00688, v_num=13]\n",
      "Epoch 10:  92%|█████████▏| 2574/2813 [00:29<00:02, 86.55it/s, loss=0.00688, v_num=13]\n",
      "Epoch 10:  92%|█████████▏| 2600/2813 [00:29<00:02, 87.10it/s, loss=0.00688, v_num=13]\n",
      "Epoch 10:  93%|█████████▎| 2626/2813 [00:29<00:02, 87.65it/s, loss=0.00688, v_num=13]\n",
      "Epoch 10:  94%|█████████▍| 2652/2813 [00:30<00:01, 88.20it/s, loss=0.00688, v_num=13]\n",
      "Epoch 10:  95%|█████████▌| 2678/2813 [00:30<00:01, 88.73it/s, loss=0.00688, v_num=13]\n",
      "Epoch 10:  96%|█████████▌| 2704/2813 [00:30<00:01, 89.18it/s, loss=0.00688, v_num=13]\n",
      "Validating:  81%|████████  | 454/563 [00:02<00:00, 213.29it/s]\u001b[A\n",
      "Epoch 10:  97%|█████████▋| 2730/2813 [00:30<00:00, 89.63it/s, loss=0.00688, v_num=13]\n",
      "Epoch 10:  98%|█████████▊| 2756/2813 [00:30<00:00, 90.10it/s, loss=0.00688, v_num=13]\n",
      "Epoch 10:  99%|█████████▉| 2782/2813 [00:30<00:00, 90.55it/s, loss=0.00688, v_num=13]\n",
      "Epoch 10: 100%|█████████▉| 2808/2813 [00:30<00:00, 91.03it/s, loss=0.00688, v_num=13]\n",
      "Epoch 10: 100%|██████████| 2813/2813 [00:30<00:00, 90.98it/s, loss=0.00688, v_num=13]\n",
      "Epoch 11:  80%|███████▉  | 2250/2813 [00:32<00:08, 69.23it/s, loss=0.00682, v_num=13]\n",
      "Validating: 0it [00:00, ?it/s]\u001b[A\n",
      "Validating:   0%|          | 0/563 [00:00<?, ?it/s]\u001b[A\n",
      "Epoch 11:  80%|████████  | 2262/2813 [00:33<00:08, 68.38it/s, loss=0.00682, v_num=13]\n",
      "Validating:   3%|▎         | 15/563 [00:00<01:14,  7.38it/s]\u001b[A\n",
      "Epoch 11:  81%|████████▏ | 2288/2813 [00:33<00:07, 68.79it/s, loss=0.00682, v_num=13]\n",
      "Epoch 11:  82%|████████▏ | 2314/2813 [00:33<00:07, 69.26it/s, loss=0.00682, v_num=13]\n",
      "Validating:  12%|█▏        | 65/563 [00:00<00:25, 19.80it/s]\u001b[A\n",
      "Epoch 11:  83%|████████▎ | 2340/2813 [00:33<00:06, 69.64it/s, loss=0.00682, v_num=13]\n",
      "Validating:  17%|█▋        | 96/563 [00:00<00:13, 34.93it/s]\u001b[A\n",
      "Epoch 11:  84%|████████▍ | 2366/2813 [00:33<00:06, 70.07it/s, loss=0.00682, v_num=13]\n",
      "Epoch 11:  85%|████████▌ | 2392/2813 [00:33<00:05, 70.47it/s, loss=0.00682, v_num=13]\n",
      "Validating:  26%|██▌       | 146/563 [00:01<00:05, 69.64it/s]\u001b[A\n",
      "Epoch 11:  86%|████████▌ | 2418/2813 [00:34<00:05, 70.92it/s, loss=0.00682, v_num=13]\n",
      "Epoch 11:  87%|████████▋ | 2444/2813 [00:34<00:05, 71.34it/s, loss=0.00682, v_num=13]\n",
      "Epoch 11:  88%|████████▊ | 2470/2813 [00:34<00:04, 71.85it/s, loss=0.00682, v_num=13]\n",
      "Validating:  39%|███▉      | 222/563 [00:01<00:02, 130.45it/s]\u001b[A\n",
      "Epoch 11:  89%|████████▊ | 2496/2813 [00:34<00:04, 72.34it/s, loss=0.00682, v_num=13]\n",
      "Epoch 11:  90%|████████▉ | 2522/2813 [00:34<00:03, 72.83it/s, loss=0.00682, v_num=13]\n",
      "Epoch 11:  91%|█████████ | 2548/2813 [00:34<00:03, 73.34it/s, loss=0.00682, v_num=13]\n",
      "Epoch 11:  92%|█████████▏| 2574/2813 [00:34<00:03, 73.86it/s, loss=0.00682, v_num=13]\n",
      "Epoch 11:  92%|█████████▏| 2600/2813 [00:34<00:02, 74.36it/s, loss=0.00682, v_num=13]\n",
      "Epoch 11:  93%|█████████▎| 2626/2813 [00:35<00:02, 74.88it/s, loss=0.00682, v_num=13]\n",
      "Epoch 11:  94%|█████████▍| 2652/2813 [00:35<00:02, 75.40it/s, loss=0.00682, v_num=13]\n",
      "Epoch 11:  95%|█████████▌| 2678/2813 [00:35<00:01, 75.90it/s, loss=0.00682, v_num=13]\n",
      "Epoch 11:  96%|█████████▌| 2704/2813 [00:35<00:01, 76.39it/s, loss=0.00682, v_num=13]\n",
      "Epoch 11:  97%|█████████▋| 2730/2813 [00:35<00:01, 76.88it/s, loss=0.00682, v_num=13]\n",
      "Epoch 11:  98%|█████████▊| 2756/2813 [00:35<00:00, 77.32it/s, loss=0.00682, v_num=13]\n",
      "Validating:  90%|████████▉ | 506/563 [00:02<00:00, 208.49it/s]\u001b[A\n",
      "Epoch 11:  99%|█████████▉| 2782/2813 [00:35<00:00, 77.68it/s, loss=0.00682, v_num=13]\n",
      "Epoch 11: 100%|██████████| 2813/2813 [00:35<00:00, 78.14it/s, loss=0.00682, v_num=13]\n",
      "Epoch 12:  80%|███████▉  | 2250/2813 [00:28<00:07, 79.09it/s, loss=0.00676, v_num=13]\n",
      "Validating: 0it [00:00, ?it/s]\u001b[A\n",
      "Validating:   0%|          | 0/563 [00:00<?, ?it/s]\u001b[A\n",
      "Epoch 12:  80%|████████  | 2262/2813 [00:28<00:07, 78.41it/s, loss=0.00676, v_num=13]\n",
      "Epoch 12:  81%|████████▏ | 2288/2813 [00:28<00:06, 79.02it/s, loss=0.00676, v_num=13]\n",
      "Epoch 12:  82%|████████▏ | 2314/2813 [00:29<00:06, 79.62it/s, loss=0.00676, v_num=13]\n",
      "Epoch 12:  83%|████████▎ | 2340/2813 [00:29<00:05, 80.22it/s, loss=0.00676, v_num=13]\n",
      "Epoch 12:  84%|████████▍ | 2366/2813 [00:29<00:05, 80.81it/s, loss=0.00676, v_num=13]\n",
      "Epoch 12:  85%|████████▌ | 2392/2813 [00:29<00:05, 81.39it/s, loss=0.00676, v_num=13]\n",
      "Epoch 12:  86%|████████▌ | 2418/2813 [00:29<00:04, 81.97it/s, loss=0.00676, v_num=13]\n",
      "Epoch 12:  87%|████████▋ | 2444/2813 [00:29<00:04, 82.55it/s, loss=0.00676, v_num=13]\n",
      "Epoch 12:  88%|████████▊ | 2470/2813 [00:29<00:04, 83.14it/s, loss=0.00676, v_num=13]\n",
      "Epoch 12:  89%|████████▊ | 2496/2813 [00:29<00:03, 83.72it/s, loss=0.00676, v_num=13]\n",
      "Epoch 12:  90%|████████▉ | 2522/2813 [00:29<00:03, 84.27it/s, loss=0.00676, v_num=13]\n",
      "Epoch 12:  91%|█████████ | 2548/2813 [00:30<00:03, 84.84it/s, loss=0.00676, v_num=13]\n",
      "Epoch 12:  92%|█████████▏| 2574/2813 [00:30<00:02, 85.42it/s, loss=0.00676, v_num=13]\n",
      "Epoch 12:  92%|█████████▏| 2601/2813 [00:30<00:02, 86.02it/s, loss=0.00676, v_num=13]\n",
      "Validating:  63%|██████▎   | 352/563 [00:01<00:00, 241.35it/s]\u001b[A\n",
      "Epoch 12:  93%|█████████▎| 2628/2813 [00:30<00:02, 86.59it/s, loss=0.00676, v_num=13]\n",
      "Epoch 12:  94%|█████████▍| 2655/2813 [00:30<00:01, 87.16it/s, loss=0.00676, v_num=13]\n",
      "Epoch 12:  95%|█████████▌| 2682/2813 [00:30<00:01, 87.74it/s, loss=0.00676, v_num=13]\n",
      "Epoch 12:  96%|█████████▋| 2709/2813 [00:30<00:01, 88.31it/s, loss=0.00676, v_num=13]\n",
      "Epoch 12:  97%|█████████▋| 2736/2813 [00:30<00:00, 88.88it/s, loss=0.00676, v_num=13]\n",
      "Epoch 12:  98%|█████████▊| 2763/2813 [00:30<00:00, 89.45it/s, loss=0.00676, v_num=13]\n",
      "Epoch 12:  99%|█████████▉| 2790/2813 [00:30<00:00, 90.01it/s, loss=0.00676, v_num=13]\n",
      "Epoch 12: 100%|██████████| 2813/2813 [00:31<00:00, 90.40it/s, loss=0.00676, v_num=13]\n",
      "Epoch 13:  80%|███████▉  | 2250/2813 [00:44<00:11, 50.59it/s, loss=0.00673, v_num=13]\n",
      "Validating: 0it [00:00, ?it/s]\u001b[A\n",
      "Validating:   0%|          | 0/563 [00:00<?, ?it/s]\u001b[A\n",
      "Validating:   0%|          | 1/563 [00:00<01:08,  8.16it/s]\u001b[A\n",
      "Epoch 13:  81%|████████  | 2268/2813 [00:45<00:10, 50.40it/s, loss=0.00673, v_num=13]\n",
      "Epoch 13:  82%|████████▏ | 2295/2813 [00:45<00:10, 50.82it/s, loss=0.00673, v_num=13]\n",
      "Epoch 13:  83%|████████▎ | 2322/2813 [00:45<00:09, 51.27it/s, loss=0.00673, v_num=13]\n",
      "Validating:  13%|█▎        | 73/563 [00:00<00:16, 29.79it/s]\u001b[A\n",
      "Epoch 13:  84%|████████▎ | 2349/2813 [00:45<00:08, 51.71it/s, loss=0.00673, v_num=13]\n",
      "Epoch 13:  84%|████████▍ | 2376/2813 [00:45<00:08, 52.14it/s, loss=0.00673, v_num=13]\n",
      "Validating:  23%|██▎       | 130/563 [00:00<00:06, 65.89it/s]\u001b[A\n",
      "Epoch 13:  85%|████████▌ | 2403/2813 [00:45<00:07, 52.54it/s, loss=0.00673, v_num=13]\n",
      "Epoch 13:  86%|████████▋ | 2430/2813 [00:45<00:07, 52.97it/s, loss=0.00673, v_num=13]\n",
      "Epoch 13:  87%|████████▋ | 2457/2813 [00:46<00:06, 53.41it/s, loss=0.00673, v_num=13]\n",
      "Validating:  37%|███▋      | 209/563 [00:01<00:02, 132.78it/s]\u001b[A\n",
      "Epoch 13:  88%|████████▊ | 2484/2813 [00:46<00:06, 53.83it/s, loss=0.00673, v_num=13]\n",
      "Epoch 13:  89%|████████▉ | 2511/2813 [00:46<00:05, 54.27it/s, loss=0.00673, v_num=13]\n",
      "Epoch 13:  90%|█████████ | 2538/2813 [00:46<00:05, 54.71it/s, loss=0.00673, v_num=13]\n",
      "Epoch 13:  91%|█████████ | 2565/2813 [00:46<00:04, 55.15it/s, loss=0.00673, v_num=13]\n",
      "Epoch 13:  92%|█████████▏| 2592/2813 [00:46<00:03, 55.59it/s, loss=0.00673, v_num=13]\n",
      "Validating:  61%|██████    | 342/563 [00:01<00:01, 206.14it/s]\u001b[A\n",
      "Epoch 13:  93%|█████████▎| 2619/2813 [00:46<00:03, 56.01it/s, loss=0.00673, v_num=13]\n",
      "Epoch 13:  94%|█████████▍| 2646/2813 [00:46<00:02, 56.41it/s, loss=0.00673, v_num=13]\n",
      "Epoch 13:  95%|█████████▌| 2673/2813 [00:47<00:02, 56.77it/s, loss=0.00673, v_num=13]\n",
      "Epoch 13:  96%|█████████▌| 2700/2813 [00:47<00:01, 57.20it/s, loss=0.00673, v_num=13]\n",
      "Validating:  80%|████████  | 452/563 [00:02<00:00, 189.96it/s]\u001b[A\n",
      "Epoch 13:  97%|█████████▋| 2727/2813 [00:47<00:01, 57.62it/s, loss=0.00673, v_num=13]\n",
      "Epoch 13:  98%|█████████▊| 2754/2813 [00:47<00:01, 58.03it/s, loss=0.00673, v_num=13]\n",
      "Epoch 13:  99%|█████████▉| 2781/2813 [00:47<00:00, 58.46it/s, loss=0.00673, v_num=13]\n",
      "Epoch 13: 100%|██████████| 2813/2813 [00:47<00:00, 58.92it/s, loss=0.00673, v_num=13]\n",
      "Epoch 14:  80%|███████▉  | 2250/2813 [00:30<00:07, 73.32it/s, loss=0.00669, v_num=13]\n",
      "Validating: 0it [00:00, ?it/s]\u001b[A\n",
      "Validating:   0%|          | 0/563 [00:00<?, ?it/s]\u001b[A\n",
      "Epoch 14:  81%|████████  | 2268/2813 [00:31<00:07, 72.74it/s, loss=0.00669, v_num=13]\n",
      "Validating:   3%|▎         | 18/563 [00:00<00:43, 12.64it/s]\u001b[A\n",
      "Epoch 14:  82%|████████▏ | 2295/2813 [00:31<00:07, 73.27it/s, loss=0.00669, v_num=13]\n",
      "Epoch 14:  83%|████████▎ | 2322/2813 [00:31<00:06, 73.80it/s, loss=0.00669, v_num=13]\n",
      "Validating:  14%|█▍        | 78/563 [00:00<00:14, 32.70it/s]\u001b[A\n",
      "Epoch 14:  84%|████████▎ | 2349/2813 [00:31<00:06, 74.32it/s, loss=0.00669, v_num=13]\n",
      "Epoch 14:  84%|████████▍ | 2376/2813 [00:31<00:05, 74.85it/s, loss=0.00669, v_num=13]\n",
      "Epoch 14:  85%|████████▌ | 2403/2813 [00:31<00:05, 75.35it/s, loss=0.00669, v_num=13]\n",
      "Validating:  28%|██▊       | 155/563 [00:00<00:04, 86.59it/s]\u001b[A\n",
      "Epoch 14:  86%|████████▋ | 2430/2813 [00:32<00:05, 75.80it/s, loss=0.00669, v_num=13]\n",
      "Epoch 14:  87%|████████▋ | 2457/2813 [00:32<00:04, 76.24it/s, loss=0.00669, v_num=13]\n",
      "Validating:  37%|███▋      | 209/563 [00:01<00:02, 125.69it/s]\u001b[A\n",
      "Epoch 14:  88%|████████▊ | 2484/2813 [00:32<00:04, 76.67it/s, loss=0.00669, v_num=13]\n",
      "Validating:  43%|████▎     | 243/563 [00:01<00:02, 140.36it/s]\u001b[A\n",
      "Epoch 14:  89%|████████▉ | 2511/2813 [00:32<00:03, 77.10it/s, loss=0.00669, v_num=13]\n",
      "Epoch 14:  90%|█████████ | 2538/2813 [00:32<00:03, 77.57it/s, loss=0.00669, v_num=13]\n",
      "Validating:  53%|█████▎    | 296/563 [00:01<00:01, 159.16it/s]\u001b[A\n",
      "Epoch 14:  91%|█████████ | 2565/2813 [00:32<00:03, 78.02it/s, loss=0.00669, v_num=13]\n",
      "Epoch 14:  92%|█████████▏| 2592/2813 [00:33<00:02, 78.47it/s, loss=0.00669, v_num=13]\n",
      "Epoch 14:  93%|█████████▎| 2619/2813 [00:33<00:02, 78.93it/s, loss=0.00669, v_num=13]\n",
      "Validating:  66%|██████▌   | 369/563 [00:02<00:01, 169.65it/s]\u001b[A\n",
      "Epoch 14:  94%|█████████▍| 2646/2813 [00:33<00:02, 79.37it/s, loss=0.00669, v_num=13]\n",
      "Epoch 14:  95%|█████████▌| 2673/2813 [00:33<00:01, 79.84it/s, loss=0.00669, v_num=13]\n",
      "Validating:  75%|███████▌  | 425/563 [00:02<00:00, 176.55it/s]\u001b[A\n",
      "Epoch 14:  96%|█████████▌| 2700/2813 [00:33<00:01, 80.27it/s, loss=0.00669, v_num=13]\n",
      "Epoch 14:  97%|█████████▋| 2727/2813 [00:33<00:01, 80.73it/s, loss=0.00669, v_num=13]\n",
      "Validating:  86%|████████▌ | 482/563 [00:02<00:00, 181.05it/s]\u001b[A\n",
      "Epoch 14:  98%|█████████▊| 2754/2813 [00:33<00:00, 81.16it/s, loss=0.00669, v_num=13]\n",
      "Epoch 14:  99%|█████████▉| 2781/2813 [00:34<00:00, 81.62it/s, loss=0.00669, v_num=13]\n",
      "Epoch 14: 100%|█████████▉| 2808/2813 [00:34<00:00, 81.81it/s, loss=0.00669, v_num=13]\n",
      "Epoch 14: 100%|██████████| 2813/2813 [00:34<00:00, 81.78it/s, loss=0.00669, v_num=13]\n",
      "Epoch 15:  80%|███████▉  | 2250/2813 [00:34<00:08, 65.43it/s, loss=0.00667, v_num=13]\n",
      "Validating: 0it [00:00, ?it/s]\u001b[A\n",
      "Validating:   0%|          | 0/563 [00:00<?, ?it/s]\u001b[A\n",
      "Epoch 15:  81%|████████  | 2268/2813 [00:34<00:08, 65.05it/s, loss=0.00667, v_num=13]\n",
      "Validating:   3%|▎         | 18/563 [00:00<00:41, 13.04it/s]\u001b[A\n",
      "Epoch 15:  82%|████████▏ | 2295/2813 [00:35<00:07, 65.55it/s, loss=0.00667, v_num=13]\n",
      "Epoch 15:  83%|████████▎ | 2322/2813 [00:35<00:07, 66.10it/s, loss=0.00667, v_num=13]\n",
      "Epoch 15:  84%|████████▎ | 2349/2813 [00:35<00:06, 66.63it/s, loss=0.00667, v_num=13]\n",
      "Epoch 15:  84%|████████▍ | 2376/2813 [00:35<00:06, 67.16it/s, loss=0.00667, v_num=13]\n",
      "Validating:  22%|██▏       | 126/563 [00:00<00:07, 59.63it/s]\u001b[A\n",
      "Epoch 15:  85%|████████▌ | 2403/2813 [00:35<00:06, 67.69it/s, loss=0.00667, v_num=13]\n",
      "Epoch 15:  86%|████████▋ | 2430/2813 [00:35<00:05, 68.23it/s, loss=0.00667, v_num=13]\n",
      "Epoch 15:  87%|████████▋ | 2457/2813 [00:35<00:05, 68.77it/s, loss=0.00667, v_num=13]\n",
      "Epoch 15:  88%|████████▊ | 2484/2813 [00:35<00:04, 69.30it/s, loss=0.00667, v_num=13]\n",
      "Epoch 15:  89%|████████▉ | 2511/2813 [00:35<00:04, 69.82it/s, loss=0.00667, v_num=13]\n",
      "Epoch 15:  90%|█████████ | 2538/2813 [00:36<00:03, 70.32it/s, loss=0.00667, v_num=13]\n",
      "Epoch 15:  91%|█████████ | 2565/2813 [00:36<00:03, 70.84it/s, loss=0.00667, v_num=13]\n",
      "Validating:  56%|█████▌    | 315/563 [00:01<00:01, 192.88it/s]\u001b[A\n",
      "Epoch 15:  92%|█████████▏| 2592/2813 [00:36<00:03, 71.34it/s, loss=0.00667, v_num=13]\n",
      "Epoch 15:  93%|█████████▎| 2619/2813 [00:36<00:02, 71.84it/s, loss=0.00667, v_num=13]\n",
      "Epoch 15:  94%|█████████▍| 2646/2813 [00:36<00:02, 72.36it/s, loss=0.00667, v_num=13]\n",
      "Epoch 15:  95%|█████████▌| 2673/2813 [00:36<00:01, 72.88it/s, loss=0.00667, v_num=13]\n",
      "Epoch 15:  96%|█████████▌| 2700/2813 [00:36<00:01, 73.39it/s, loss=0.00667, v_num=13]\n",
      "Epoch 15:  97%|█████████▋| 2727/2813 [00:36<00:01, 73.90it/s, loss=0.00667, v_num=13]\n",
      "Epoch 15:  98%|█████████▊| 2754/2813 [00:37<00:00, 74.41it/s, loss=0.00667, v_num=13]\n",
      "Epoch 15:  99%|█████████▉| 2781/2813 [00:37<00:00, 74.88it/s, loss=0.00667, v_num=13]\n",
      "Validating:  94%|█████████▍| 531/563 [00:02<00:00, 224.79it/s]\u001b[A\n",
      "Epoch 15: 100%|██████████| 2813/2813 [00:37<00:00, 75.34it/s, loss=0.00667, v_num=13]\n",
      "Epoch 16:  80%|███████▉  | 2250/2813 [00:28<00:07, 80.31it/s, loss=0.00665, v_num=13]\n",
      "Validating: 0it [00:00, ?it/s]\u001b[A\n",
      "Validating:   0%|          | 0/563 [00:00<?, ?it/s]\u001b[A\n",
      "Epoch 16:  81%|████████  | 2268/2813 [00:28<00:06, 79.72it/s, loss=0.00665, v_num=13]\n",
      "Epoch 16:  82%|████████▏ | 2295/2813 [00:28<00:06, 80.33it/s, loss=0.00665, v_num=13]\n",
      "Validating:   9%|▊         | 48/563 [00:00<00:09, 53.31it/s]\u001b[A\n",
      "Epoch 16:  83%|████████▎ | 2322/2813 [00:28<00:06, 80.93it/s, loss=0.00665, v_num=13]\n",
      "Epoch 16:  84%|████████▎ | 2349/2813 [00:28<00:05, 81.47it/s, loss=0.00665, v_num=13]\n",
      "Epoch 16:  84%|████████▍ | 2376/2813 [00:28<00:05, 82.05it/s, loss=0.00665, v_num=13]\n",
      "Epoch 16:  85%|████████▌ | 2403/2813 [00:29<00:04, 82.63it/s, loss=0.00665, v_num=13]\n",
      "Validating:  28%|██▊       | 155/563 [00:00<00:02, 140.59it/s]\u001b[A\n",
      "Epoch 16:  86%|████████▋ | 2430/2813 [00:29<00:04, 83.21it/s, loss=0.00665, v_num=13]\n",
      "Epoch 16:  87%|████████▋ | 2457/2813 [00:29<00:04, 83.76it/s, loss=0.00665, v_num=13]\n",
      "Epoch 16:  88%|████████▊ | 2484/2813 [00:29<00:03, 84.29it/s, loss=0.00665, v_num=13]\n",
      "Epoch 16:  89%|████████▉ | 2511/2813 [00:29<00:03, 84.85it/s, loss=0.00665, v_num=13]\n",
      "Epoch 16:  90%|█████████ | 2538/2813 [00:29<00:03, 85.41it/s, loss=0.00665, v_num=13]\n",
      "Validating:  51%|█████▏    | 289/563 [00:01<00:01, 199.04it/s]\u001b[A\n",
      "Epoch 16:  91%|█████████ | 2565/2813 [00:29<00:02, 85.84it/s, loss=0.00665, v_num=13]\n",
      "Epoch 16:  92%|█████████▏| 2592/2813 [00:30<00:02, 86.31it/s, loss=0.00665, v_num=13]\n",
      "Epoch 16:  93%|█████████▎| 2619/2813 [00:30<00:02, 86.82it/s, loss=0.00665, v_num=13]\n",
      "Validating:  66%|██████▌   | 370/563 [00:01<00:01, 188.17it/s]\u001b[A\n",
      "Epoch 16:  94%|█████████▍| 2646/2813 [00:30<00:01, 87.32it/s, loss=0.00665, v_num=13]\n",
      "Epoch 16:  95%|█████████▌| 2673/2813 [00:30<00:01, 87.78it/s, loss=0.00665, v_num=13]\n",
      "Epoch 16:  96%|█████████▌| 2700/2813 [00:30<00:01, 88.23it/s, loss=0.00665, v_num=13]\n",
      "Validating:  80%|███████▉  | 450/563 [00:02<00:00, 181.54it/s]\u001b[A\n",
      "Epoch 16:  97%|█████████▋| 2727/2813 [00:30<00:00, 88.65it/s, loss=0.00665, v_num=13]\n",
      "Epoch 16:  98%|█████████▊| 2754/2813 [00:30<00:00, 89.07it/s, loss=0.00665, v_num=13]\n",
      "Validating:  90%|████████▉ | 506/563 [00:02<00:00, 170.50it/s]\u001b[A\n",
      "Epoch 16:  99%|█████████▉| 2781/2813 [00:31<00:00, 89.33it/s, loss=0.00665, v_num=13]\n",
      "Epoch 16: 100%|█████████▉| 2808/2813 [00:31<00:00, 89.72it/s, loss=0.00665, v_num=13]\n",
      "Epoch 16: 100%|██████████| 2813/2813 [00:31<00:00, 89.60it/s, loss=0.00665, v_num=13]\n",
      "Epoch 17:  80%|███████▉  | 2250/2813 [00:39<00:09, 57.50it/s, loss=0.00663, v_num=13]\n",
      "Validating: 0it [00:00, ?it/s]\u001b[A\n",
      "Validating:   0%|          | 0/563 [00:00<?, ?it/s]\u001b[A\n",
      "Epoch 17:  81%|████████  | 2268/2813 [00:39<00:09, 57.28it/s, loss=0.00663, v_num=13]\n",
      "Validating:   4%|▎         | 20/563 [00:00<00:40, 13.42it/s]\u001b[A\n",
      "Epoch 17:  82%|████████▏ | 2295/2813 [00:39<00:08, 57.77it/s, loss=0.00663, v_num=13]\n",
      "Epoch 17:  83%|████████▎ | 2322/2813 [00:39<00:08, 58.25it/s, loss=0.00663, v_num=13]\n",
      "Epoch 17:  84%|████████▎ | 2349/2813 [00:39<00:07, 58.73it/s, loss=0.00663, v_num=13]\n",
      "Validating:  18%|█▊        | 101/563 [00:00<00:10, 45.96it/s]\u001b[A\n",
      "Epoch 17:  84%|████████▍ | 2376/2813 [00:40<00:07, 59.19it/s, loss=0.00663, v_num=13]\n",
      "Epoch 17:  85%|████████▌ | 2403/2813 [00:40<00:06, 59.67it/s, loss=0.00663, v_num=13]\n",
      "Epoch 17:  86%|████████▋ | 2430/2813 [00:40<00:06, 60.14it/s, loss=0.00663, v_num=13]\n",
      "Validating:  33%|███▎      | 183/563 [00:01<00:03, 111.09it/s]\u001b[A\n",
      "Epoch 17:  87%|████████▋ | 2457/2813 [00:40<00:05, 60.60it/s, loss=0.00663, v_num=13]\n",
      "Epoch 17:  88%|████████▊ | 2484/2813 [00:40<00:05, 61.07it/s, loss=0.00663, v_num=13]\n",
      "Epoch 17:  89%|████████▉ | 2511/2813 [00:40<00:04, 61.54it/s, loss=0.00663, v_num=13]\n",
      "Epoch 17:  90%|█████████ | 2538/2813 [00:40<00:04, 61.99it/s, loss=0.00663, v_num=13]\n",
      "Validating:  51%|█████     | 288/563 [00:01<00:01, 175.50it/s]\u001b[A\n",
      "Epoch 17:  91%|█████████ | 2565/2813 [00:41<00:03, 62.45it/s, loss=0.00663, v_num=13]\n",
      "Epoch 17:  92%|█████████▏| 2592/2813 [00:41<00:03, 62.90it/s, loss=0.00663, v_num=13]\n",
      "Epoch 17:  93%|█████████▎| 2619/2813 [00:41<00:03, 63.36it/s, loss=0.00663, v_num=13]\n",
      "Validating:  66%|██████▋   | 373/563 [00:01<00:00, 196.62it/s]\u001b[A\n",
      "Epoch 17:  94%|█████████▍| 2646/2813 [00:41<00:02, 63.81it/s, loss=0.00663, v_num=13]\n",
      "Epoch 17:  95%|█████████▌| 2673/2813 [00:41<00:02, 64.24it/s, loss=0.00663, v_num=13]\n",
      "Epoch 17:  96%|█████████▌| 2700/2813 [00:41<00:01, 64.69it/s, loss=0.00663, v_num=13]\n",
      "Epoch 17:  97%|█████████▋| 2727/2813 [00:41<00:01, 65.12it/s, loss=0.00663, v_num=13]\n",
      "Validating:  85%|████████▌ | 479/563 [00:02<00:00, 197.31it/s]\u001b[A\n",
      "Epoch 17:  98%|█████████▊| 2754/2813 [00:42<00:00, 65.55it/s, loss=0.00663, v_num=13]\n",
      "Epoch 17:  99%|█████████▉| 2781/2813 [00:42<00:00, 65.98it/s, loss=0.00663, v_num=13]\n",
      "Epoch 17: 100%|██████████| 2813/2813 [00:42<00:00, 66.42it/s, loss=0.00663, v_num=13]\n",
      "Epoch 18:  80%|███████▉  | 2250/2813 [00:30<00:07, 74.72it/s, loss=0.00662, v_num=13]\n",
      "Validating: 0it [00:00, ?it/s]\u001b[A\n",
      "Validating:   0%|          | 0/563 [00:00<?, ?it/s]\u001b[A\n",
      "Epoch 18:  81%|████████  | 2268/2813 [00:30<00:07, 74.30it/s, loss=0.00662, v_num=13]\n",
      "Epoch 18:  82%|████████▏ | 2295/2813 [00:30<00:06, 74.91it/s, loss=0.00662, v_num=13]\n",
      "Epoch 18:  83%|████████▎ | 2322/2813 [00:30<00:06, 75.53it/s, loss=0.00662, v_num=13]\n",
      "Epoch 18:  84%|████████▎ | 2349/2813 [00:30<00:06, 76.12it/s, loss=0.00662, v_num=13]\n",
      "Validating:  18%|█▊        | 101/563 [00:00<00:04, 105.22it/s]\u001b[A\n",
      "Epoch 18:  84%|████████▍ | 2376/2813 [00:30<00:05, 76.70it/s, loss=0.00662, v_num=13]\n",
      "Epoch 18:  85%|████████▌ | 2403/2813 [00:31<00:05, 77.28it/s, loss=0.00662, v_num=13]\n",
      "Epoch 18:  86%|████████▋ | 2430/2813 [00:31<00:04, 77.86it/s, loss=0.00662, v_num=13]\n",
      "Epoch 18:  87%|████████▋ | 2457/2813 [00:31<00:04, 78.43it/s, loss=0.00662, v_num=13]\n",
      "Epoch 18:  88%|████████▊ | 2484/2813 [00:31<00:04, 79.01it/s, loss=0.00662, v_num=13]\n",
      "Epoch 18:  89%|████████▉ | 2511/2813 [00:31<00:03, 79.59it/s, loss=0.00662, v_num=13]\n",
      "Epoch 18:  90%|█████████ | 2538/2813 [00:31<00:03, 80.17it/s, loss=0.00662, v_num=13]\n",
      "Epoch 18:  91%|█████████ | 2565/2813 [00:31<00:03, 80.75it/s, loss=0.00662, v_num=13]\n",
      "Epoch 18:  92%|█████████▏| 2592/2813 [00:31<00:02, 81.31it/s, loss=0.00662, v_num=13]\n",
      "Epoch 18:  93%|█████████▎| 2619/2813 [00:31<00:02, 81.88it/s, loss=0.00662, v_num=13]\n",
      "Epoch 18:  94%|█████████▍| 2646/2813 [00:32<00:02, 82.45it/s, loss=0.00662, v_num=13]\n",
      "Epoch 18:  95%|█████████▌| 2673/2813 [00:32<00:01, 83.01it/s, loss=0.00662, v_num=13]\n",
      "Validating:  75%|███████▌  | 423/563 [00:01<00:00, 243.97it/s]\u001b[A\n",
      "Epoch 18:  96%|█████████▌| 2700/2813 [00:32<00:01, 83.54it/s, loss=0.00662, v_num=13]\n",
      "Epoch 18:  97%|█████████▋| 2727/2813 [00:32<00:01, 84.09it/s, loss=0.00662, v_num=13]\n",
      "Epoch 18:  98%|█████████▊| 2754/2813 [00:32<00:00, 84.63it/s, loss=0.00662, v_num=13]\n",
      "Epoch 18:  99%|█████████▉| 2781/2813 [00:32<00:00, 85.18it/s, loss=0.00662, v_num=13]\n",
      "Epoch 18: 100%|██████████| 2813/2813 [00:32<00:00, 85.74it/s, loss=0.00662, v_num=13]\n",
      "Epoch 19:  80%|███████▉  | 2250/2813 [00:33<00:08, 67.61it/s, loss=0.0066, v_num=13] \n",
      "Validating: 0it [00:00, ?it/s]\u001b[A\n",
      "Validating:   0%|          | 0/563 [00:00<?, ?it/s]\u001b[A\n",
      "Epoch 19:  81%|████████  | 2268/2813 [00:33<00:08, 67.00it/s, loss=0.0066, v_num=13]\n",
      "Validating:   3%|▎         | 18/563 [00:00<00:43, 12.53it/s]\u001b[A\n",
      "Epoch 19:  82%|████████▏ | 2295/2813 [00:34<00:07, 67.49it/s, loss=0.0066, v_num=13]\n",
      "Epoch 19:  83%|████████▎ | 2322/2813 [00:34<00:07, 68.00it/s, loss=0.0066, v_num=13]\n",
      "Validating:  13%|█▎        | 74/563 [00:00<00:15, 32.28it/s]\u001b[A\n",
      "Epoch 19:  84%|████████▎ | 2349/2813 [00:34<00:06, 68.49it/s, loss=0.0066, v_num=13]\n",
      "Epoch 19:  84%|████████▍ | 2376/2813 [00:34<00:06, 68.99it/s, loss=0.0066, v_num=13]\n",
      "Validating:  23%|██▎       | 130/563 [00:00<00:06, 70.30it/s]\u001b[A\n",
      "Epoch 19:  85%|████████▌ | 2403/2813 [00:34<00:05, 69.46it/s, loss=0.0066, v_num=13]\n",
      "Epoch 19:  86%|████████▋ | 2430/2813 [00:34<00:05, 69.95it/s, loss=0.0066, v_num=13]\n",
      "Validating:  33%|███▎      | 186/563 [00:01<00:03, 118.09it/s]\u001b[A\n",
      "Epoch 19:  87%|████████▋ | 2457/2813 [00:34<00:05, 70.42it/s, loss=0.0066, v_num=13]\n",
      "Epoch 19:  88%|████████▊ | 2484/2813 [00:35<00:04, 70.90it/s, loss=0.0066, v_num=13]\n",
      "Epoch 19:  89%|████████▉ | 2511/2813 [00:35<00:04, 71.38it/s, loss=0.0066, v_num=13]\n",
      "Validating:  47%|████▋     | 262/563 [00:01<00:01, 162.64it/s]\u001b[A\n",
      "Epoch 19:  90%|█████████ | 2538/2813 [00:35<00:03, 71.84it/s, loss=0.0066, v_num=13]\n",
      "Epoch 19:  91%|█████████ | 2565/2813 [00:35<00:03, 72.30it/s, loss=0.0066, v_num=13]\n",
      "Validating:  57%|█████▋    | 319/563 [00:01<00:01, 172.44it/s]\u001b[A\n",
      "Epoch 19:  92%|█████████▏| 2592/2813 [00:35<00:03, 72.75it/s, loss=0.0066, v_num=13]\n",
      "Epoch 19:  93%|█████████▎| 2619/2813 [00:35<00:02, 73.19it/s, loss=0.0066, v_num=13]\n",
      "Validating:  67%|██████▋   | 375/563 [00:02<00:01, 175.71it/s]\u001b[A\n",
      "Epoch 19:  94%|█████████▍| 2646/2813 [00:35<00:02, 73.63it/s, loss=0.0066, v_num=13]\n",
      "Epoch 19:  95%|█████████▌| 2673/2813 [00:36<00:01, 74.07it/s, loss=0.0066, v_num=13]\n",
      "Epoch 19:  96%|█████████▌| 2700/2813 [00:36<00:01, 74.51it/s, loss=0.0066, v_num=13]\n",
      "Validating:  80%|███████▉  | 450/563 [00:02<00:00, 175.26it/s]\u001b[A\n",
      "Epoch 19:  97%|█████████▋| 2727/2813 [00:36<00:01, 74.94it/s, loss=0.0066, v_num=13]\n",
      "Epoch 19:  98%|█████████▊| 2754/2813 [00:36<00:00, 75.38it/s, loss=0.0066, v_num=13]\n",
      "Validating:  90%|█████████ | 507/563 [00:02<00:00, 179.22it/s]\u001b[A\n",
      "Epoch 19:  99%|█████████▉| 2781/2813 [00:36<00:00, 75.80it/s, loss=0.0066, v_num=13]\n",
      "Epoch 19: 100%|██████████| 2813/2813 [00:36<00:00, 76.23it/s, loss=0.0066, v_num=13]\n",
      "Epoch 19: 100%|██████████| 2813/2813 [00:36<00:00, 76.18it/s, loss=0.0066, v_num=13]\n"
     ]
    }
   ],
   "source": [
    "trainer.fit(model, train_dataloader, val_dataloader)"
   ]
  },
  {
   "cell_type": "markdown",
   "metadata": {},
   "source": [
    "# Save model"
   ]
  },
  {
   "cell_type": "code",
   "execution_count": 19,
   "metadata": {},
   "outputs": [],
   "source": [
    "MODEL_PATH = Path('../models/masked_rnn.pt')\n",
    "\n",
    "torch.save(model.state_dict(), MODEL_PATH)"
   ]
  },
  {
   "cell_type": "markdown",
   "metadata": {},
   "source": [
    "# Load model (optional)"
   ]
  },
  {
   "cell_type": "code",
   "execution_count": 53,
   "metadata": {},
   "outputs": [
    {
     "data": {
      "text/plain": [
       "NeuralRNNModule(\n",
       "  (rnn): MaskedNeuralRNN(\n",
       "    (W_xh): CustomizedLinear(input_features=15, output_features=15, bias=True)\n",
       "    (W_hh): CustomizedLinear(input_features=15, output_features=15, bias=True)\n",
       "    (activation): Tanh()\n",
       "  )\n",
       "  (loss_fcn): MSELoss()\n",
       ")"
      ]
     },
     "execution_count": 53,
     "metadata": {},
     "output_type": "execute_result"
    }
   ],
   "source": [
    "# Load model for inference using:\n",
    "\n",
    "MODEL_PATH = Path('../models/masked_rnn.pt')\n",
    "model = NeuralRNNModule(\n",
    "    masked=True,                           # if using masks for Wxh and Whh\n",
    "    lr=hparams['lr'],                      # learning rate\n",
    "    input_mask=dan_mask.t(),               # mask shape (in_dans, out_mbons) = (15,15)\n",
    "    hidden_mask=mbon_mask.t(),             # mask shape (in_mbons, out_mbons) = (15,15)\n",
    "    non_linearity=hparams['non_linearity'] # relu or tanh\n",
    ")\n",
    "model.load_state_dict(torch.load(MODEL_PATH))\n",
    "model.eval()"
   ]
  },
  {
   "cell_type": "markdown",
   "metadata": {},
   "source": [
    "# Visualise the trained weights"
   ]
  },
  {
   "cell_type": "code",
   "execution_count": 20,
   "metadata": {},
   "outputs": [],
   "source": [
    "def normalise(m):\n",
    "    if m.min() < 0:\n",
    "        return (m - m.min() )/ (m.max() - m.min())\n",
    "    \n",
    "    return m / m.max()"
   ]
  },
  {
   "cell_type": "code",
   "execution_count": 21,
   "metadata": {},
   "outputs": [
    {
     "data": {
      "image/png": "[encoded data removed]",
      "text/plain": [
       "<Figure size 576x576 with 2 Axes>"
      ]
     },
     "metadata": {
      "needs_background": "light"
     },
     "output_type": "display_data"
    }
   ],
   "source": [
    "# multiply by 100 for visulisation purposes\n",
    "M = normalise(model.rnn.W_hh.weight.detach().numpy()) * 100\n",
    "plot_matrix(\n",
    "    M, \n",
    "    greek_lobes, \n",
    "    'Optimized MBON-MBON feedforward connections/lobe', \n",
    "    'Normalised Connection Strength (0-100)'\n",
    ")"
   ]
  },
  {
   "cell_type": "code",
   "execution_count": 22,
   "metadata": {},
   "outputs": [
    {
     "data": {
      "image/png": "[encoded data removed]",
      "text/plain": [
       "<Figure size 576x576 with 2 Axes>"
      ]
     },
     "metadata": {
      "needs_background": "light"
     },
     "output_type": "display_data"
    }
   ],
   "source": [
    "# multiply by 100 for visulisation purposes\n",
    "M = normalise(mbon2mbon_connectome) * 100\n",
    "plot_matrix(\n",
    "    M, \n",
    "    greek_lobes, \n",
    "    'Normalised MBON-MBON connectomics', \n",
    "    'Normalised Approximate Synapse Count per compartment (0-100)'\n",
    ")"
   ]
  },
  {
   "cell_type": "code",
   "execution_count": 23,
   "metadata": {},
   "outputs": [
    {
     "data": {
      "image/png": "[encoded data removed]",
      "text/plain": [
       "<Figure size 576x576 with 2 Axes>"
      ]
     },
     "metadata": {
      "needs_background": "light"
     },
     "output_type": "display_data"
    }
   ],
   "source": [
    "# multiply by 100 for visulisation purposes\n",
    "M = normalise(model.rnn.W_xh.weight.detach().numpy()) * 100\n",
    "plot_matrix(\n",
    "    M, \n",
    "    greek_lobes, \n",
    "    'DAN to MBON', \n",
    "    'Optimized DAN-MBON feedforward connections/lobe'\n",
    ")\n"
   ]
  },
  {
   "cell_type": "markdown",
   "metadata": {},
   "source": [
    "# Inspect shape of the output"
   ]
  },
  {
   "cell_type": "code",
   "execution_count": 24,
   "metadata": {},
   "outputs": [
    {
     "data": {
      "text/plain": [
       "NeuralRNNModule(\n",
       "  (rnn): MaskedNeuralRNN(\n",
       "    (W_xh): CustomizedLinear(input_features=15, output_features=15, bias=True)\n",
       "    (W_hh): CustomizedLinear(input_features=15, output_features=15, bias=True)\n",
       "    (activation): Tanh()\n",
       "  )\n",
       "  (loss_fcn): MSELoss()\n",
       ")"
      ]
     },
     "execution_count": 24,
     "metadata": {},
     "output_type": "execute_result"
    }
   ],
   "source": [
    " model.eval()"
   ]
  },
  {
   "cell_type": "code",
   "execution_count": 25,
   "metadata": {},
   "outputs": [
    {
     "name": "stdout",
     "output_type": "stream",
     "text": [
      "torch.Size([8, 10, 15])\n"
     ]
    }
   ],
   "source": [
    "test_dataloader = DataLoader(\n",
    "    test_dataset, \n",
    "    batch_size=1,\n",
    "    shuffle=False, \n",
    "    num_workers=4\n",
    ")\n",
    "\n",
    "batch = next(iter(val_dataloader))\n",
    "output = model(batch['dan'])\n",
    "\n",
    "print(output.shape)"
   ]
  },
  {
   "cell_type": "code",
   "execution_count": 26,
   "metadata": {},
   "outputs": [
    {
     "data": {
      "image/png": "[encoded data removed]",
      "text/plain": [
       "<Figure size 432x288 with 1 Axes>"
      ]
     },
     "metadata": {
      "needs_background": "light"
     },
     "output_type": "display_data"
    }
   ],
   "source": [
    "compartment = 11\n",
    "plt.plot(output[0,:,compartment].detach().numpy(), label=r'$\\hat y$')\n",
    "plt.plot(batch['mbon'][0,:,compartment], label=r'$y$')\n",
    "plt.plot(batch['dan'][0,:,compartment], label=r'$x$')\n",
    "\n",
    "plt.legend()\n",
    "plt.show()"
   ]
  },
  {
   "cell_type": "markdown",
   "metadata": {},
   "source": [
    "# Testing"
   ]
  },
  {
   "cell_type": "code",
   "execution_count": 27,
   "metadata": {},
   "outputs": [],
   "source": [
    "model.eval()\n",
    "\n",
    "loss_fcn = nn.MSELoss()\n",
    "\n",
    "test_dataloader = DataLoader(\n",
    "    test_dataset, \n",
    "    batch_size=1,\n",
    "    shuffle=False, \n",
    "    num_workers=4\n",
    ")"
   ]
  },
  {
   "cell_type": "code",
   "execution_count": 28,
   "metadata": {},
   "outputs": [],
   "source": [
    "gt = []\n",
    "pred = []\n",
    "\n",
    "test_loss = 0\n",
    "for batch in test_dataloader:\n",
    "    x = batch['dan']\n",
    "    y = batch['mbon']\n",
    "    y_pred = model(x)\n",
    "    test_loss += loss_fcn(y, y_pred)\n",
    "\n",
    "    gt.append(y.detach().numpy().squeeze())\n",
    "    pred.append(y_pred.squeeze().detach().numpy())\n",
    "\n",
    "av_test_loss = test_loss / len(test_dataloader)"
   ]
  },
  {
   "cell_type": "code",
   "execution_count": 33,
   "metadata": {},
   "outputs": [
    {
     "data": {
      "text/plain": [
       "array(0.0055996, dtype=float32)"
      ]
     },
     "execution_count": 33,
     "metadata": {},
     "output_type": "execute_result"
    }
   ],
   "source": [
    "av_test_loss.detach().numpy()"
   ]
  },
  {
   "cell_type": "code",
   "execution_count": 36,
   "metadata": {},
   "outputs": [
    {
     "data": {
      "text/plain": [
       "(4500, 10, 15)"
      ]
     },
     "execution_count": 36,
     "metadata": {},
     "output_type": "execute_result"
    }
   ],
   "source": [
    "gt = np.array(gt)\n",
    "pred = np.array(pred)\n",
    "\n",
    "gt.shape"
   ]
  },
  {
   "cell_type": "code",
   "execution_count": 35,
   "metadata": {},
   "outputs": [
    {
     "data": {
      "image/png": "[encoded data removed]",
      "text/plain": [
       "<Figure size 432x288 with 1 Axes>"
      ]
     },
     "metadata": {
      "needs_background": "light"
     },
     "output_type": "display_data"
    }
   ],
   "source": [
    "plt.plot(gt.mean(axis=0)[:,0])\n",
    "plt.title('Mean input curve for DAN 0')\n",
    "plt.show()"
   ]
  },
  {
   "cell_type": "code",
   "execution_count": 34,
   "metadata": {},
   "outputs": [
    {
     "data": {
      "text/plain": [
       "((10, 15), (10, 15))"
      ]
     },
     "execution_count": 34,
     "metadata": {},
     "output_type": "execute_result"
    }
   ],
   "source": [
    "# calculate the r^2 for each output\n",
    "# use this formula https://scikit-learn.org/stable/modules/generated/sklearn.linear_model.LinearRegression.html#sklearn.linear_model.LinearRegression.score\n",
    "# 1 - (residual sum of squares) / (total sum of squares)\n",
    "\n",
    "# total sum of squares: remove mean, square and sum\n",
    "tss = np.sum((gt - gt.mean(axis=0))**2, axis=0)\n",
    "\n",
    "# risidual sum of squares or the sum of residual errors\n",
    "rss = np.sum((gt - pred)**2, axis =0)\n",
    "\n",
    "rss.shape, tss.shape"
   ]
  },
  {
   "cell_type": "code",
   "execution_count": 30,
   "metadata": {},
   "outputs": [],
   "source": [
    "# above the shapes should be scalars.. so then\n",
    "# how to do r squared on a time series?\n",
    "# should I take the avearge of the output and compare that to the test set?\n",
    "\n",
    "# tss/rss"
   ]
  },
  {
   "cell_type": "markdown",
   "metadata": {},
   "source": [
    "# Average output and compare to sampled data directly"
   ]
  },
  {
   "cell_type": "code",
   "execution_count": 40,
   "metadata": {},
   "outputs": [
    {
     "data": {
      "text/plain": [
       "(4500, 15)"
      ]
     },
     "execution_count": 40,
     "metadata": {},
     "output_type": "execute_result"
    }
   ],
   "source": [
    "Y_test_file = DATA_DIR / 'Y-test-from-distribution.npy'\n",
    "Y_test = np.load(Y_test_file)"
   ]
  },
  {
   "cell_type": "code",
   "execution_count": 41,
   "metadata": {},
   "outputs": [
    {
     "data": {
      "text/plain": [
       "((4500, 15), (4500, 15))"
      ]
     },
     "execution_count": 41,
     "metadata": {},
     "output_type": "execute_result"
    }
   ],
   "source": [
    "mean_pred = pred.mean(axis=1)\n",
    "\n",
    "Y_test.shape, mean_pred.shape"
   ]
  },
  {
   "cell_type": "code",
   "execution_count": 48,
   "metadata": {},
   "outputs": [],
   "source": [
    "mse = np.sum((Y_test - mean_pred) ** 2, axis = 0)/ Y_test.shape[0]"
   ]
  },
  {
   "cell_type": "code",
   "execution_count": 74,
   "metadata": {},
   "outputs": [],
   "source": [
    "lobes = np.array([\"alpha'1\", \"alpha'2\", \"alpha'3\", 'alpha1', 'alpha2', 'alpha3',\n",
    "       \"beta'1\", \"beta'2\", 'beta1', 'beta2', 'gamma1', 'gamma2', 'gamma3',\n",
    "       'gamma4', 'gamma5'])\n",
    "\n",
    "mse_rnn = {}\n",
    "\n",
    "for i, lobe in enumerate(lobes):\n",
    "    mse_rnn[lobe] = mse[i]"
   ]
  },
  {
   "cell_type": "code",
   "execution_count": 75,
   "metadata": {},
   "outputs": [
    {
     "data": {
      "text/plain": [
       "{\"alpha'1\": 0.045435928772785385,\n",
       " \"alpha'2\": 0.1323410357383012,\n",
       " \"alpha'3\": 0.01854730209970928,\n",
       " 'alpha1': 0.025026904724822902,\n",
       " 'alpha2': 0.024385873575527583,\n",
       " 'alpha3': 0.06950031581467066,\n",
       " \"beta'1\": 0.042906806918560754,\n",
       " \"beta'2\": 0.016699884336004465,\n",
       " 'beta1': 0.043104853455033315,\n",
       " 'beta2': 0.0219277413077706,\n",
       " 'gamma1': 0.05742957348999731,\n",
       " 'gamma2': 0.05564253147291933,\n",
       " 'gamma3': 0.07212211187098956,\n",
       " 'gamma4': 0.05303593407162479,\n",
       " 'gamma5': 0.00627120275703157}"
      ]
     },
     "execution_count": 75,
     "metadata": {},
     "output_type": "execute_result"
    }
   ],
   "source": [
    "mse_rnn"
   ]
  },
  {
   "cell_type": "markdown",
   "metadata": {},
   "source": [
    "# Compare to linear models"
   ]
  },
  {
   "cell_type": "code",
   "execution_count": 76,
   "metadata": {},
   "outputs": [
    {
     "data": {
      "text/html": [
       "<div>\n",
       "<style scoped>\n",
       "    .dataframe tbody tr th:only-of-type {\n",
       "        vertical-align: middle;\n",
       "    }\n",
       "\n",
       "    .dataframe tbody tr th {\n",
       "        vertical-align: top;\n",
       "    }\n",
       "\n",
       "    .dataframe thead th {\n",
       "        text-align: right;\n",
       "    }\n",
       "</style>\n",
       "<table border=\"1\" class=\"dataframe\">\n",
       "  <thead>\n",
       "    <tr style=\"text-align: right;\">\n",
       "      <th></th>\n",
       "      <th>canonical mse</th>\n",
       "      <th>crossed mse</th>\n",
       "      <th>rnn mse</th>\n",
       "    </tr>\n",
       "  </thead>\n",
       "  <tbody>\n",
       "    <tr>\n",
       "      <th>count</th>\n",
       "      <td>15.000000</td>\n",
       "      <td>15.000000</td>\n",
       "      <td>15.000000</td>\n",
       "    </tr>\n",
       "    <tr>\n",
       "      <th>mean</th>\n",
       "      <td>0.010724</td>\n",
       "      <td>0.009613</td>\n",
       "      <td>0.045625</td>\n",
       "    </tr>\n",
       "    <tr>\n",
       "      <th>std</th>\n",
       "      <td>0.011561</td>\n",
       "      <td>0.010431</td>\n",
       "      <td>0.031232</td>\n",
       "    </tr>\n",
       "    <tr>\n",
       "      <th>min</th>\n",
       "      <td>0.001789</td>\n",
       "      <td>0.001702</td>\n",
       "      <td>0.006271</td>\n",
       "    </tr>\n",
       "    <tr>\n",
       "      <th>25%</th>\n",
       "      <td>0.003226</td>\n",
       "      <td>0.003102</td>\n",
       "      <td>0.023157</td>\n",
       "    </tr>\n",
       "    <tr>\n",
       "      <th>50%</th>\n",
       "      <td>0.007856</td>\n",
       "      <td>0.006767</td>\n",
       "      <td>0.043105</td>\n",
       "    </tr>\n",
       "    <tr>\n",
       "      <th>75%</th>\n",
       "      <td>0.014011</td>\n",
       "      <td>0.012247</td>\n",
       "      <td>0.056536</td>\n",
       "    </tr>\n",
       "    <tr>\n",
       "      <th>max</th>\n",
       "      <td>0.046932</td>\n",
       "      <td>0.042517</td>\n",
       "      <td>0.132341</td>\n",
       "    </tr>\n",
       "  </tbody>\n",
       "</table>\n",
       "</div>"
      ],
      "text/plain": [
       "       canonical mse  crossed mse    rnn mse\n",
       "count      15.000000    15.000000  15.000000\n",
       "mean        0.010724     0.009613   0.045625\n",
       "std         0.011561     0.010431   0.031232\n",
       "min         0.001789     0.001702   0.006271\n",
       "25%         0.003226     0.003102   0.023157\n",
       "50%         0.007856     0.006767   0.043105\n",
       "75%         0.014011     0.012247   0.056536\n",
       "max         0.046932     0.042517   0.132341"
      ]
     },
     "execution_count": 76,
     "metadata": {},
     "output_type": "execute_result"
    }
   ],
   "source": [
    "RESULTS_DIR = Path('../results')\n",
    "\n",
    "with open( RESULTS_DIR / 'canonical_linear_model_testing_data_mse.json', \"r\") as file:\n",
    "    mse_canonical = json.load(file)\n",
    "\n",
    "with open( RESULTS_DIR / 'crossed_linear_model_testing_data_mse.json', \"r\") as file:\n",
    "    mse_crossed = json.load(file)\n",
    "    \n",
    "mse_df = pd.concat(\n",
    "    [\n",
    "        pd.Series(mse_canonical, name='canonical mse'), \n",
    "        pd.Series(mse_crossed, name='crossed mse'),\n",
    "        pd.Series(mse_rnn, name='rnn mse') \n",
    "    ],\n",
    "    axis=1\n",
    ")\n",
    "\n",
    "\n",
    "mse_df.describe()"
   ]
  },
  {
   "cell_type": "code",
   "execution_count": null,
   "metadata": {},
   "outputs": [],
   "source": []
  }
 ],
 "metadata": {
  "kernelspec": {
   "display_name": "i2dl",
   "language": "python",
   "name": "i2dl"
  },
  "language_info": {
   "codemirror_mode": {
    "name": "ipython",
    "version": 3
   },
   "file_extension": ".py",
   "mimetype": "text/x-python",
   "name": "python",
   "nbconvert_exporter": "python",
   "pygments_lexer": "ipython3",
   "version": "3.7.1"
  }
 },
 "nbformat": 4,
 "nbformat_minor": 4
}
