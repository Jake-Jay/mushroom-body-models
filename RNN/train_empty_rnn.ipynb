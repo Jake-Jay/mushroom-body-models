{
 "cells": [
  {
   "cell_type": "code",
   "execution_count": 1,
   "metadata": {},
   "outputs": [],
   "source": [
    "import numpy as np \n",
    "import matplotlib.pyplot as plt\n",
    "\n",
    "import torch\n",
    "from torch.utils.data import random_split, DataLoader\n",
    "import torch.nn as nn\n",
    "from pytorch_lightning import Trainer\n",
    "\n",
    "from pytorch_lightning.loggers import TensorBoardLogger\n",
    "from pytorch_lightning.callbacks.early_stopping import EarlyStopping\n",
    "\n",
    "from pathlib import Path\n",
    "\n",
    "from dataset import MushroomBodyDataset \n",
    "from rnn import NeuralRNNModule\n",
    "\n",
    "import json\n",
    "import pandas as pd\n",
    "\n",
    "%load_ext autoreload\n",
    "%aimport dataset, rnn\n",
    "%autoreload 1"
   ]
  },
  {
   "cell_type": "code",
   "execution_count": 2,
   "metadata": {},
   "outputs": [
    {
     "name": "stdout",
     "output_type": "stream",
     "text": [
      "Train dataset size: 18000\n",
      "Val dataset size: 4500\n",
      "Test dataset size: 4500\n"
     ]
    }
   ],
   "source": [
    "DATA_DIR = Path('../data')\n",
    "\n",
    "X_train_file = DATA_DIR / 'X-train-exp-time-series-from-distribution.npy'\n",
    "Y_train_file = DATA_DIR / 'Y-train-from-distribution.npy'\n",
    "train_dataset = MushroomBodyDataset(X_train_file, Y_train_file)\n",
    "print(f'Train dataset size: {len(train_dataset)}')\n",
    "\n",
    "X_val_file = DATA_DIR / 'X-val-exp-time-series-from-distribution.npy'\n",
    "Y_val_file = DATA_DIR / 'Y-val-from-distribution.npy'\n",
    "val_dataset = MushroomBodyDataset(X_val_file, Y_val_file)\n",
    "print(f'Val dataset size: {len(val_dataset)}')\n",
    "\n",
    "X_test_file = DATA_DIR / 'X-test-exp-time-series-from-distribution.npy'\n",
    "Y_test_file = DATA_DIR / 'Y-test-from-distribution.npy'\n",
    "test_dataset = MushroomBodyDataset(X_test_file, Y_test_file)\n",
    "print(f'Test dataset size: {len(test_dataset)}')"
   ]
  },
  {
   "cell_type": "code",
   "execution_count": 3,
   "metadata": {},
   "outputs": [],
   "source": [
    "all_y_test = []\n",
    "all_y_test = np.array(all_y_test)\n",
    "\n",
    "for i in range(len(test_dataset.data)):\n",
    "    all_y_test = np.concatenate([all_y_test, test_dataset.data[i][1]])"
   ]
  },
  {
   "cell_type": "code",
   "execution_count": 4,
   "metadata": {},
   "outputs": [],
   "source": [
    "all_y_train = [[] for i in range(15)]\n",
    "all_y_train = np.array(all_y_train)\n",
    "\n",
    "for i in range(len(train_dataset.data)):\n",
    "    all_y_train = np.concatenate([all_y_train, np.expand_dims(train_dataset.data[i][1], axis=1)], axis=1)"
   ]
  },
  {
   "cell_type": "code",
   "execution_count": 5,
   "metadata": {},
   "outputs": [
    {
     "data": {
      "text/plain": [
       "(15, 18000)"
      ]
     },
     "execution_count": 5,
     "metadata": {},
     "output_type": "execute_result"
    }
   ],
   "source": [
    "all_y_train.shape"
   ]
  },
  {
   "cell_type": "code",
   "execution_count": 6,
   "metadata": {},
   "outputs": [],
   "source": [
    "init_bias_xh = np.mean(all_y_train, axis=1)"
   ]
  },
  {
   "cell_type": "markdown",
   "metadata": {},
   "source": [
    "# Hyperparams"
   ]
  },
  {
   "cell_type": "code",
   "execution_count": 7,
   "metadata": {},
   "outputs": [],
   "source": [
    "hparams = {\n",
    "    'batch_size': 64,\n",
    "    'lr': 0.001,  #used to be 0.0001\n",
    "    'non_linearity': 'relu',\n",
    "    'max_epochs': 20,\n",
    "    'min_epochs': 1\n",
    "}"
   ]
  },
  {
   "cell_type": "markdown",
   "metadata": {},
   "source": [
    "# Create Dataloaders"
   ]
  },
  {
   "cell_type": "code",
   "execution_count": 8,
   "metadata": {},
   "outputs": [],
   "source": [
    "train_dataloader = DataLoader(\n",
    "    train_dataset, \n",
    "    batch_size=hparams['batch_size'],\n",
    "    shuffle=True, \n",
    "    num_workers=4\n",
    ")\n",
    "\n",
    "val_dataloader = DataLoader(\n",
    "    val_dataset, \n",
    "    batch_size=hparams['batch_size'],\n",
    "    shuffle=False, \n",
    "    num_workers=4\n",
    ")"
   ]
  },
  {
   "cell_type": "markdown",
   "metadata": {},
   "source": [
    "# Instantiate Model"
   ]
  },
  {
   "cell_type": "code",
   "execution_count": 9,
   "metadata": {},
   "outputs": [
    {
     "data": {
      "text/plain": [
       "\"lr\":            0.001\n",
       "\"masked\":        False\n",
       "\"non_linearity\": relu"
      ]
     },
     "execution_count": 9,
     "metadata": {},
     "output_type": "execute_result"
    }
   ],
   "source": [
    "model = NeuralRNNModule(\n",
    "    masked=False,                          # if using masks for Wxh and Whh\n",
    "    recurrence=False,                       # remove/leave MBON-MBON connections\n",
    "    lr=hparams['lr'],                      # learning rate\n",
    "    input_dim=15,                          # input dim\n",
    "    hidden_dim=15,                         # hidden dim\n",
    "    non_linearity=hparams['non_linearity'] # relu or tanh\n",
    ")\n",
    "\n",
    "model.hparams"
   ]
  },
  {
   "cell_type": "code",
   "execution_count": 10,
   "metadata": {},
   "outputs": [
    {
     "data": {
      "text/plain": [
       "Parameter containing:\n",
       "tensor([0., 0., 0., 0., 0., 0., 0., 0., 0., 0., 0., 0., 0., 0., 0.],\n",
       "       requires_grad=True)"
      ]
     },
     "execution_count": 10,
     "metadata": {},
     "output_type": "execute_result"
    }
   ],
   "source": [
    "torch.nn.init.constant_(model.rnn.W_xh.weight, 0)\n",
    "torch.nn.init.constant_(model.rnn.W_hh.weight, 0)\n",
    "for i in range(15):\n",
    "    torch.nn.init.constant_(model.rnn.W_xh.bias[i], init_bias_xh[i])\n",
    "torch.nn.init.constant_(model.rnn.W_hh.bias, 0)"
   ]
  },
  {
   "cell_type": "code",
   "execution_count": 11,
   "metadata": {},
   "outputs": [
    {
     "data": {
      "text/plain": [
       "torch.Size([64, 15])"
      ]
     },
     "execution_count": 11,
     "metadata": {},
     "output_type": "execute_result"
    }
   ],
   "source": [
    "# Check that the forward pass does what I expect\n",
    "batch = next(iter(train_dataloader))\n",
    "output = model(batch['dan'])\n",
    "output.shape    # (batch, nodes)"
   ]
  },
  {
   "cell_type": "markdown",
   "metadata": {},
   "source": [
    "### Check the Weight initialisation:"
   ]
  },
  {
   "cell_type": "code",
   "execution_count": 12,
   "metadata": {},
   "outputs": [],
   "source": [
    "def plot_matrix(matrix, labels, title, cbar_title=None, size=[8,8], switch=False):\n",
    "    fig, ax = plt.subplots(figsize=size)\n",
    "    im = ax.imshow(matrix)\n",
    "    \n",
    "    plt.yticks(range(len(labels)), labels)\n",
    "    plt.xticks(range(len(labels)), labels)\n",
    "    plt.title(title)\n",
    "    \n",
    "    ax.set_ylim(14.5, -0.5)\n",
    "    \n",
    "    if switch:\n",
    "        plt.xlabel('Target', fontsize=16)\n",
    "        plt.ylabel('Source', fontsize=16)\n",
    "    else:\n",
    "        plt.xlabel('Source', fontsize=16)\n",
    "        plt.ylabel('Target', fontsize=16)\n",
    "    # Loop over data dimensions and create text annotations.\n",
    "    for i in range(len(labels)):\n",
    "        for j in range(len(labels)):\n",
    "            col = 'white' if matrix[i, j] < matrix.max()/2 else 'black'\n",
    "            text = ax.text(j, i, int(matrix[i, j]),\n",
    "                           ha=\"center\", va=\"center\", color=col)\n",
    "\n",
    "    # Create colorbar\n",
    "    if cbar_title is not None:\n",
    "        cbar = ax.figure.colorbar(im, ax=ax, fraction=0.046, pad=0.04)\n",
    "        cbar.ax.set_ylabel(cbar_title, rotation=-90, va=\"bottom\", fontsize=16)\n",
    "\n",
    "    plt.tight_layout()\n",
    "\n",
    "greek_lobes = [\n",
    "    r\"$\\alpha'_1$\", r\"$\\alpha'_2$\", r\"$\\alpha'_3$\", \n",
    "    r'$\\alpha_1$', r'$\\alpha_2$', r'$\\alpha_3$', \n",
    "    r\"$\\beta'_1$\", r\"$\\beta'_2$\",\n",
    "    r'$\\beta_1$', r'$\\beta_2$', \n",
    "    r'$\\gamma_1$', r'$\\gamma_2$', r'$\\gamma_3$', r'$\\gamma_4$', r'$\\gamma_5$'\n",
    "]"
   ]
  },
  {
   "cell_type": "code",
   "execution_count": 13,
   "metadata": {},
   "outputs": [
    {
     "data": {
      "image/png": "[encoded data removed]",
      "text/plain": [
       "<Figure size 432x432 with 2 Axes>"
      ]
     },
     "metadata": {
      "needs_background": "light"
     },
     "output_type": "display_data"
    }
   ],
   "source": [
    "M = model.rnn.W_hh.weight.detach().numpy() * 100\n",
    "plot_matrix(\n",
    "    M, \n",
    "    greek_lobes, \n",
    "    '', \n",
    "    'Weight * 100',\n",
    "    switch=False,\n",
    "    size=[6,6]\n",
    ")"
   ]
  },
  {
   "cell_type": "markdown",
   "metadata": {},
   "source": [
    "# Train Model"
   ]
  },
  {
   "cell_type": "code",
   "execution_count": 14,
   "metadata": {},
   "outputs": [],
   "source": [
    "logger = TensorBoardLogger(\"tb_logs\", name=\"empty_rnn_av\", default_hp_metric=False)"
   ]
  },
  {
   "cell_type": "code",
   "execution_count": 15,
   "metadata": {},
   "outputs": [],
   "source": [
    "logger.log_hyperparams(hparams)"
   ]
  },
  {
   "cell_type": "code",
   "execution_count": 16,
   "metadata": {},
   "outputs": [
    {
     "name": "stderr",
     "output_type": "stream",
     "text": [
      "GPU available: False, used: False\n",
      "TPU available: False, using: 0 TPU cores\n",
      "IPU available: False, using: 0 IPUs\n"
     ]
    }
   ],
   "source": [
    "trainer = Trainer(\n",
    "    logger=logger,\n",
    "    max_epochs=hparams['max_epochs'],\n",
    "    min_epochs=hparams['min_epochs'],\n",
    ")"
   ]
  },
  {
   "cell_type": "code",
   "execution_count": 17,
   "metadata": {},
   "outputs": [
    {
     "data": {
      "text/plain": [
       "Parameter containing:\n",
       "tensor([0.2730, 0.4041, 0.1681, 0.1864, 0.1855, 0.3182, 0.2725, 0.1585, 0.2343,\n",
       "        0.1849, 0.2746, 0.2943, 0.3322, 0.2702, 0.0915], requires_grad=True)"
      ]
     },
     "execution_count": 17,
     "metadata": {},
     "output_type": "execute_result"
    }
   ],
   "source": [
    "model.rnn.W_xh.bias"
   ]
  },
  {
   "cell_type": "code",
   "execution_count": 18,
   "metadata": {
    "jupyter": {
     "outputs_hidden": true
    }
   },
   "outputs": [
    {
     "name": "stderr",
     "output_type": "stream",
     "text": [
      "Missing logger folder: tb_logs\\empty_rnn_av\n",
      "\n",
      "  | Name     | Type      | Params\n",
      "---------------------------------------\n",
      "0 | rnn      | NeuralRNN | 480   \n",
      "1 | loss_fcn | MSELoss   | 0     \n",
      "---------------------------------------\n",
      "480       Trainable params\n",
      "0         Non-trainable params\n",
      "480       Total params\n",
      "0.002     Total estimated model params size (MB)\n"
     ]
    },
    {
     "name": "stdout",
     "output_type": "stream",
     "text": [
      "Adjusting learning rate of group 0 to 1.0000e-03.\n"
     ]
    },
    {
     "data": {
      "application/vnd.jupyter.widget-view+json": {
       "model_id": "",
       "version_major": 2,
       "version_minor": 0
      },
      "text/plain": [
       "Validation sanity check: 0it [00:00, ?it/s]"
      ]
     },
     "metadata": {},
     "output_type": "display_data"
    },
    {
     "data": {
      "application/vnd.jupyter.widget-view+json": {
       "model_id": "231af3b5aa794c29b5812e455f2bd08c",
       "version_major": 2,
       "version_minor": 0
      },
      "text/plain": [
       "Training: -1it [00:00, ?it/s]"
      ]
     },
     "metadata": {},
     "output_type": "display_data"
    },
    {
     "name": "stdout",
     "output_type": "stream",
     "text": [
      "Adjusting learning rate of group 0 to 1.0000e-03.\n"
     ]
    },
    {
     "data": {
      "application/vnd.jupyter.widget-view+json": {
       "model_id": "",
       "version_major": 2,
       "version_minor": 0
      },
      "text/plain": [
       "Validating: 0it [00:00, ?it/s]"
      ]
     },
     "metadata": {},
     "output_type": "display_data"
    },
    {
     "name": "stdout",
     "output_type": "stream",
     "text": [
      "Adjusting learning rate of group 0 to 1.0000e-03.\n"
     ]
    },
    {
     "data": {
      "application/vnd.jupyter.widget-view+json": {
       "model_id": "",
       "version_major": 2,
       "version_minor": 0
      },
      "text/plain": [
       "Validating: 0it [00:00, ?it/s]"
      ]
     },
     "metadata": {},
     "output_type": "display_data"
    },
    {
     "name": "stdout",
     "output_type": "stream",
     "text": [
      "Adjusting learning rate of group 0 to 1.0000e-03.\n"
     ]
    },
    {
     "data": {
      "application/vnd.jupyter.widget-view+json": {
       "model_id": "",
       "version_major": 2,
       "version_minor": 0
      },
      "text/plain": [
       "Validating: 0it [00:00, ?it/s]"
      ]
     },
     "metadata": {},
     "output_type": "display_data"
    },
    {
     "name": "stdout",
     "output_type": "stream",
     "text": [
      "Adjusting learning rate of group 0 to 1.0000e-03.\n"
     ]
    },
    {
     "data": {
      "application/vnd.jupyter.widget-view+json": {
       "model_id": "",
       "version_major": 2,
       "version_minor": 0
      },
      "text/plain": [
       "Validating: 0it [00:00, ?it/s]"
      ]
     },
     "metadata": {},
     "output_type": "display_data"
    },
    {
     "name": "stdout",
     "output_type": "stream",
     "text": [
      "Adjusting learning rate of group 0 to 1.0000e-03.\n"
     ]
    },
    {
     "data": {
      "application/vnd.jupyter.widget-view+json": {
       "model_id": "",
       "version_major": 2,
       "version_minor": 0
      },
      "text/plain": [
       "Validating: 0it [00:00, ?it/s]"
      ]
     },
     "metadata": {},
     "output_type": "display_data"
    },
    {
     "name": "stdout",
     "output_type": "stream",
     "text": [
      "Adjusting learning rate of group 0 to 1.0000e-03.\n"
     ]
    },
    {
     "data": {
      "application/vnd.jupyter.widget-view+json": {
       "model_id": "",
       "version_major": 2,
       "version_minor": 0
      },
      "text/plain": [
       "Validating: 0it [00:00, ?it/s]"
      ]
     },
     "metadata": {},
     "output_type": "display_data"
    },
    {
     "name": "stdout",
     "output_type": "stream",
     "text": [
      "Adjusting learning rate of group 0 to 1.0000e-03.\n"
     ]
    },
    {
     "data": {
      "application/vnd.jupyter.widget-view+json": {
       "model_id": "",
       "version_major": 2,
       "version_minor": 0
      },
      "text/plain": [
       "Validating: 0it [00:00, ?it/s]"
      ]
     },
     "metadata": {},
     "output_type": "display_data"
    },
    {
     "name": "stdout",
     "output_type": "stream",
     "text": [
      "Adjusting learning rate of group 0 to 1.0000e-03.\n"
     ]
    },
    {
     "data": {
      "application/vnd.jupyter.widget-view+json": {
       "model_id": "",
       "version_major": 2,
       "version_minor": 0
      },
      "text/plain": [
       "Validating: 0it [00:00, ?it/s]"
      ]
     },
     "metadata": {},
     "output_type": "display_data"
    },
    {
     "name": "stdout",
     "output_type": "stream",
     "text": [
      "Adjusting learning rate of group 0 to 1.0000e-03.\n"
     ]
    },
    {
     "data": {
      "application/vnd.jupyter.widget-view+json": {
       "model_id": "",
       "version_major": 2,
       "version_minor": 0
      },
      "text/plain": [
       "Validating: 0it [00:00, ?it/s]"
      ]
     },
     "metadata": {},
     "output_type": "display_data"
    },
    {
     "name": "stdout",
     "output_type": "stream",
     "text": [
      "Adjusting learning rate of group 0 to 1.0000e-04.\n"
     ]
    },
    {
     "data": {
      "application/vnd.jupyter.widget-view+json": {
       "model_id": "",
       "version_major": 2,
       "version_minor": 0
      },
      "text/plain": [
       "Validating: 0it [00:00, ?it/s]"
      ]
     },
     "metadata": {},
     "output_type": "display_data"
    },
    {
     "name": "stdout",
     "output_type": "stream",
     "text": [
      "Adjusting learning rate of group 0 to 1.0000e-04.\n"
     ]
    },
    {
     "data": {
      "application/vnd.jupyter.widget-view+json": {
       "model_id": "",
       "version_major": 2,
       "version_minor": 0
      },
      "text/plain": [
       "Validating: 0it [00:00, ?it/s]"
      ]
     },
     "metadata": {},
     "output_type": "display_data"
    },
    {
     "name": "stdout",
     "output_type": "stream",
     "text": [
      "Adjusting learning rate of group 0 to 1.0000e-04.\n"
     ]
    },
    {
     "data": {
      "application/vnd.jupyter.widget-view+json": {
       "model_id": "",
       "version_major": 2,
       "version_minor": 0
      },
      "text/plain": [
       "Validating: 0it [00:00, ?it/s]"
      ]
     },
     "metadata": {},
     "output_type": "display_data"
    },
    {
     "name": "stdout",
     "output_type": "stream",
     "text": [
      "Adjusting learning rate of group 0 to 1.0000e-04.\n"
     ]
    },
    {
     "data": {
      "application/vnd.jupyter.widget-view+json": {
       "model_id": "",
       "version_major": 2,
       "version_minor": 0
      },
      "text/plain": [
       "Validating: 0it [00:00, ?it/s]"
      ]
     },
     "metadata": {},
     "output_type": "display_data"
    },
    {
     "name": "stdout",
     "output_type": "stream",
     "text": [
      "Adjusting learning rate of group 0 to 1.0000e-04.\n"
     ]
    },
    {
     "data": {
      "application/vnd.jupyter.widget-view+json": {
       "model_id": "",
       "version_major": 2,
       "version_minor": 0
      },
      "text/plain": [
       "Validating: 0it [00:00, ?it/s]"
      ]
     },
     "metadata": {},
     "output_type": "display_data"
    },
    {
     "name": "stdout",
     "output_type": "stream",
     "text": [
      "Adjusting learning rate of group 0 to 1.0000e-04.\n"
     ]
    },
    {
     "data": {
      "application/vnd.jupyter.widget-view+json": {
       "model_id": "",
       "version_major": 2,
       "version_minor": 0
      },
      "text/plain": [
       "Validating: 0it [00:00, ?it/s]"
      ]
     },
     "metadata": {},
     "output_type": "display_data"
    },
    {
     "name": "stdout",
     "output_type": "stream",
     "text": [
      "Adjusting learning rate of group 0 to 1.0000e-04.\n"
     ]
    },
    {
     "data": {
      "application/vnd.jupyter.widget-view+json": {
       "model_id": "",
       "version_major": 2,
       "version_minor": 0
      },
      "text/plain": [
       "Validating: 0it [00:00, ?it/s]"
      ]
     },
     "metadata": {},
     "output_type": "display_data"
    },
    {
     "name": "stdout",
     "output_type": "stream",
     "text": [
      "Adjusting learning rate of group 0 to 1.0000e-04.\n"
     ]
    },
    {
     "data": {
      "application/vnd.jupyter.widget-view+json": {
       "model_id": "",
       "version_major": 2,
       "version_minor": 0
      },
      "text/plain": [
       "Validating: 0it [00:00, ?it/s]"
      ]
     },
     "metadata": {},
     "output_type": "display_data"
    },
    {
     "name": "stdout",
     "output_type": "stream",
     "text": [
      "Adjusting learning rate of group 0 to 1.0000e-04.\n"
     ]
    },
    {
     "data": {
      "application/vnd.jupyter.widget-view+json": {
       "model_id": "",
       "version_major": 2,
       "version_minor": 0
      },
      "text/plain": [
       "Validating: 0it [00:00, ?it/s]"
      ]
     },
     "metadata": {},
     "output_type": "display_data"
    },
    {
     "name": "stdout",
     "output_type": "stream",
     "text": [
      "Adjusting learning rate of group 0 to 1.0000e-04.\n"
     ]
    },
    {
     "data": {
      "application/vnd.jupyter.widget-view+json": {
       "model_id": "",
       "version_major": 2,
       "version_minor": 0
      },
      "text/plain": [
       "Validating: 0it [00:00, ?it/s]"
      ]
     },
     "metadata": {},
     "output_type": "display_data"
    },
    {
     "name": "stdout",
     "output_type": "stream",
     "text": [
      "Adjusting learning rate of group 0 to 1.0000e-05.\n"
     ]
    },
    {
     "data": {
      "application/vnd.jupyter.widget-view+json": {
       "model_id": "",
       "version_major": 2,
       "version_minor": 0
      },
      "text/plain": [
       "Validating: 0it [00:00, ?it/s]"
      ]
     },
     "metadata": {},
     "output_type": "display_data"
    }
   ],
   "source": [
    "trainer.fit(model, train_dataloader, val_dataloader)"
   ]
  },
  {
   "cell_type": "markdown",
   "metadata": {},
   "source": [
    "# Save model"
   ]
  },
  {
   "cell_type": "code",
   "execution_count": 19,
   "metadata": {},
   "outputs": [],
   "source": [
    "MODEL_PATH = Path('../models/empty_rnn_av.pt')\n",
    "\n",
    "torch.save(model.state_dict(), MODEL_PATH)"
   ]
  },
  {
   "cell_type": "markdown",
   "metadata": {},
   "source": [
    "# Load model (optional)"
   ]
  },
  {
   "cell_type": "code",
   "execution_count": 20,
   "metadata": {},
   "outputs": [
    {
     "data": {
      "text/plain": [
       "NeuralRNNModule(\n",
       "  (rnn): NeuralRNN(\n",
       "    (W_xh): Linear(in_features=15, out_features=15, bias=True)\n",
       "    (W_hh): Linear(in_features=15, out_features=15, bias=True)\n",
       "    (activation): ReLU()\n",
       "  )\n",
       "  (loss_fcn): MSELoss()\n",
       ")"
      ]
     },
     "execution_count": 20,
     "metadata": {},
     "output_type": "execute_result"
    }
   ],
   "source": [
    "# Load model for inference using:\n",
    "\n",
    "MODEL_PATH = Path('../models/empty_rnn_av.pt')\n",
    "\n",
    "model = NeuralRNNModule(\n",
    "    masked=False,                          # if using masks for Wxh and Whh\n",
    "    lr=hparams['lr'],                      # learning rate\n",
    "    input_dim=15,                          # input dim\n",
    "    hidden_dim=15,                         # hidden dim\n",
    "    non_linearity=hparams['non_linearity'] # relu or tanh\n",
    ")\n",
    "model.load_state_dict(torch.load(MODEL_PATH))\n",
    "model.eval()"
   ]
  },
  {
   "cell_type": "markdown",
   "metadata": {},
   "source": [
    "# Load Connectomics (for comparison)"
   ]
  },
  {
   "cell_type": "code",
   "execution_count": 21,
   "metadata": {},
   "outputs": [],
   "source": [
    "mbon2mbon_connectome = np.load('../data/mbon-connectomics.npy')"
   ]
  },
  {
   "cell_type": "code",
   "execution_count": 22,
   "metadata": {},
   "outputs": [
    {
     "data": {
      "image/png": "[encoded data removed]",
      "text/plain": [
       "<Figure size 576x576 with 2 Axes>"
      ]
     },
     "metadata": {
      "needs_background": "light"
     },
     "output_type": "display_data"
    }
   ],
   "source": [
    "plot_matrix(\n",
    "    mbon2mbon_connectome, \n",
    "    greek_lobes, \n",
    "    'MBON-MBON feedforward connections/lobe', \n",
    "    'Connection Strength'\n",
    ")"
   ]
  },
  {
   "cell_type": "markdown",
   "metadata": {},
   "source": [
    "# Visualise the trained weights"
   ]
  },
  {
   "cell_type": "code",
   "execution_count": 25,
   "metadata": {},
   "outputs": [],
   "source": [
    "def normalise(m):\n",
    "    if m.min() < 0:\n",
    "        return (m - m.min() )/ (m.max() - m.min())\n",
    "    \n",
    "    if m.max() > 0:\n",
    "        return m / m.max()\n",
    "    else:\n",
    "        return m"
   ]
  },
  {
   "cell_type": "code",
   "execution_count": 26,
   "metadata": {},
   "outputs": [
    {
     "data": {
      "image/png": "[encoded data removed]",
      "text/plain": [
       "<Figure size 576x576 with 2 Axes>"
      ]
     },
     "metadata": {
      "needs_background": "light"
     },
     "output_type": "display_data"
    }
   ],
   "source": [
    "# multiply by 100 for visulisation purposes\n",
    "plt.rcParams[\"font.size\"] = 14\n",
    "\n",
    "M = normalise(np.abs(\n",
    "        model.rnn.W_hh.weight.detach().numpy())\n",
    "    )* 100\n",
    "plot_matrix(\n",
    "    M, \n",
    "    greek_lobes, \n",
    "    'Optimized MBON-MBON connections', \n",
    "    'Normalised Connection Strength (0-100)'\n",
    ")\n",
    "plt.savefig('empty_rnn_mbon_mbon_matrix.png', transparent=True)"
   ]
  },
  {
   "cell_type": "code",
   "execution_count": 27,
   "metadata": {},
   "outputs": [
    {
     "data": {
      "image/png": "[encoded data removed]",
      "text/plain": [
       "<Figure size 576x576 with 2 Axes>"
      ]
     },
     "metadata": {
      "needs_background": "light"
     },
     "output_type": "display_data"
    }
   ],
   "source": [
    "M = normalise(\n",
    "        np.abs(model.rnn.W_xh.weight.detach().numpy())\n",
    "    )* 100\n",
    "plot_matrix(\n",
    "    M, \n",
    "    greek_lobes, \n",
    "    'DAN to MBON', \n",
    "    'Optimized DAN-MBON feedforward connections/lobe'\n",
    ")\n",
    "plt.savefig('empty_rnn_dan_mbon_matrix.png', transparent=True)"
   ]
  },
  {
   "cell_type": "markdown",
   "metadata": {},
   "source": [
    "# Further Testing and Evaluation"
   ]
  },
  {
   "cell_type": "code",
   "execution_count": 28,
   "metadata": {},
   "outputs": [
    {
     "data": {
      "text/plain": [
       "NeuralRNNModule(\n",
       "  (rnn): NeuralRNN(\n",
       "    (W_xh): Linear(in_features=15, out_features=15, bias=True)\n",
       "    (W_hh): Linear(in_features=15, out_features=15, bias=True)\n",
       "    (activation): ReLU()\n",
       "  )\n",
       "  (loss_fcn): MSELoss()\n",
       ")"
      ]
     },
     "execution_count": 28,
     "metadata": {},
     "output_type": "execute_result"
    }
   ],
   "source": [
    "model.eval()"
   ]
  },
  {
   "cell_type": "code",
   "execution_count": 29,
   "metadata": {},
   "outputs": [],
   "source": [
    "test_dataloader = DataLoader(\n",
    "    test_dataset, \n",
    "    batch_size=1,\n",
    "    shuffle=False, \n",
    "    num_workers=4\n",
    ")"
   ]
  },
  {
   "cell_type": "code",
   "execution_count": 30,
   "metadata": {},
   "outputs": [
    {
     "data": {
      "text/plain": [
       "Parameter containing:\n",
       "tensor([0.1970, 0.1441, 0.1252, 0.1386, 0.1160, 0.1867, 0.2082, 0.1187, 0.1283,\n",
       "        0.1859, 0.1133, 0.2135, 0.1797, 0.1004, 0.0886], requires_grad=True)"
      ]
     },
     "execution_count": 30,
     "metadata": {},
     "output_type": "execute_result"
    }
   ],
   "source": [
    "model.rnn.W_xh.bias"
   ]
  },
  {
   "cell_type": "code",
   "execution_count": 31,
   "metadata": {},
   "outputs": [
    {
     "data": {
      "text/plain": [
       "((4500, 15), (4500, 15), torch.Size([1, 15]))"
      ]
     },
     "execution_count": 31,
     "metadata": {},
     "output_type": "execute_result"
    }
   ],
   "source": [
    "gt = []\n",
    "pred = []\n",
    "\n",
    "test_loss = 0\n",
    "for batch in test_dataloader:\n",
    "    x = batch['dan']\n",
    "    y = batch['mbon']\n",
    "    y_pred = model(x)\n",
    "\n",
    "    gt.append(y.detach().numpy().squeeze())\n",
    "    pred.append(y_pred.squeeze().detach().numpy())\n",
    "\n",
    "    \n",
    "gt = np.array(gt)\n",
    "pred = np.array(pred)\n",
    "\n",
    "gt.shape, pred.shape, y_pred.shape"
   ]
  },
  {
   "cell_type": "code",
   "execution_count": 32,
   "metadata": {},
   "outputs": [
    {
     "data": {
      "image/png": "[encoded data removed]",
      "text/plain": [
       "<Figure size 360x360 with 1 Axes>"
      ]
     },
     "metadata": {
      "needs_background": "light"
     },
     "output_type": "display_data"
    }
   ],
   "source": [
    "compartment = 3\n",
    "\n",
    "output_ts = model.rnn(x)[0][0,:,compartment]\n",
    "output_ts = output_ts.detach().numpy().squeeze()\n",
    "\n",
    "plt.figure(figsize=[5,5])\n",
    "plt.plot(x[0,:,compartment], label=r'$x$')\n",
    "plt.plot(y[0,compartment] * np.ones(10), label=r'$<y_{GT}>$')\n",
    "plt.plot(output_ts, label=r'$ \\hat y$')\n",
    "plt.plot(y_pred.detach().numpy()[0,compartment] * np.ones(10), label=r'$<\\hat y>$')\n",
    "\n",
    "plt.legend(fontsize=12, ncol=2, loc='upper right', bbox_to_anchor=(1.03, 1.3))\n",
    "plt.xlabel('Time steps')\n",
    "plt.ylabel('Compartment Activity')\n",
    "plt.savefig('recurrent-predicted-activity.png', bbox_inches='tight')\n",
    "plt.show()"
   ]
  },
  {
   "cell_type": "markdown",
   "metadata": {},
   "source": [
    "## MSE"
   ]
  },
  {
   "cell_type": "code",
   "execution_count": 33,
   "metadata": {},
   "outputs": [
    {
     "data": {
      "text/plain": [
       "0.009715298"
      ]
     },
     "execution_count": 33,
     "metadata": {},
     "output_type": "execute_result"
    }
   ],
   "source": [
    "mse = np.sum((gt - pred) ** 2, axis = 0)/ gt.shape[0]\n",
    "mse.mean()"
   ]
  },
  {
   "cell_type": "code",
   "execution_count": 34,
   "metadata": {},
   "outputs": [
    {
     "data": {
      "text/plain": [
       "(4500, 15)"
      ]
     },
     "execution_count": 34,
     "metadata": {},
     "output_type": "execute_result"
    }
   ],
   "source": [
    "gt.shape"
   ]
  },
  {
   "cell_type": "code",
   "execution_count": 35,
   "metadata": {},
   "outputs": [],
   "source": [
    "lobes = np.array([\"alpha'1\", \"alpha'2\", \"alpha'3\", 'alpha1', 'alpha2', 'alpha3',\n",
    "       \"beta'1\", \"beta'2\", 'beta1', 'beta2', 'gamma1', 'gamma2', 'gamma3',\n",
    "       'gamma4', 'gamma5'])\n",
    "\n",
    "mse_rnn = {}\n",
    "\n",
    "for i, lobe in enumerate(lobes):\n",
    "    mse_rnn[lobe] = mse[i]"
   ]
  },
  {
   "cell_type": "markdown",
   "metadata": {},
   "source": [
    "## Compare MSE with linear models"
   ]
  },
  {
   "cell_type": "code",
   "execution_count": 36,
   "metadata": {},
   "outputs": [
    {
     "data": {
      "text/html": [
       "<div>\n",
       "<style scoped>\n",
       "    .dataframe tbody tr th:only-of-type {\n",
       "        vertical-align: middle;\n",
       "    }\n",
       "\n",
       "    .dataframe tbody tr th {\n",
       "        vertical-align: top;\n",
       "    }\n",
       "\n",
       "    .dataframe thead th {\n",
       "        text-align: right;\n",
       "    }\n",
       "</style>\n",
       "<table border=\"1\" class=\"dataframe\">\n",
       "  <thead>\n",
       "    <tr style=\"text-align: right;\">\n",
       "      <th></th>\n",
       "      <th>Canonical Linear</th>\n",
       "      <th>Dense Linear</th>\n",
       "      <th>Empty RNN</th>\n",
       "    </tr>\n",
       "  </thead>\n",
       "  <tbody>\n",
       "    <tr>\n",
       "      <th>count</th>\n",
       "      <td>15.000000</td>\n",
       "      <td>15.000000</td>\n",
       "      <td>15.000000</td>\n",
       "    </tr>\n",
       "    <tr>\n",
       "      <th>mean</th>\n",
       "      <td>0.010792</td>\n",
       "      <td>0.009710</td>\n",
       "      <td>0.009715</td>\n",
       "    </tr>\n",
       "    <tr>\n",
       "      <th>std</th>\n",
       "      <td>0.011766</td>\n",
       "      <td>0.010646</td>\n",
       "      <td>0.010664</td>\n",
       "    </tr>\n",
       "    <tr>\n",
       "      <th>min</th>\n",
       "      <td>0.001796</td>\n",
       "      <td>0.001636</td>\n",
       "      <td>0.001636</td>\n",
       "    </tr>\n",
       "    <tr>\n",
       "      <th>25%</th>\n",
       "      <td>0.003339</td>\n",
       "      <td>0.003185</td>\n",
       "      <td>0.003185</td>\n",
       "    </tr>\n",
       "    <tr>\n",
       "      <th>50%</th>\n",
       "      <td>0.008031</td>\n",
       "      <td>0.006812</td>\n",
       "      <td>0.006809</td>\n",
       "    </tr>\n",
       "    <tr>\n",
       "      <th>75%</th>\n",
       "      <td>0.014140</td>\n",
       "      <td>0.012193</td>\n",
       "      <td>0.012201</td>\n",
       "    </tr>\n",
       "    <tr>\n",
       "      <th>max</th>\n",
       "      <td>0.047920</td>\n",
       "      <td>0.043491</td>\n",
       "      <td>0.043568</td>\n",
       "    </tr>\n",
       "  </tbody>\n",
       "</table>\n",
       "</div>"
      ],
      "text/plain": [
       "       Canonical Linear  Dense Linear  Empty RNN\n",
       "count         15.000000     15.000000  15.000000\n",
       "mean           0.010792      0.009710   0.009715\n",
       "std            0.011766      0.010646   0.010664\n",
       "min            0.001796      0.001636   0.001636\n",
       "25%            0.003339      0.003185   0.003185\n",
       "50%            0.008031      0.006812   0.006809\n",
       "75%            0.014140      0.012193   0.012201\n",
       "max            0.047920      0.043491   0.043568"
      ]
     },
     "execution_count": 36,
     "metadata": {},
     "output_type": "execute_result"
    }
   ],
   "source": [
    "RESULTS_DIR = Path('../results')\n",
    "\n",
    "with open( RESULTS_DIR / 'canonical_linear_model_testing_data_mse.json', \"r\") as file:\n",
    "    mse_canonical = json.load(file)\n",
    "\n",
    "with open( RESULTS_DIR / 'crossed_linear_model_testing_data_mse.json', \"r\") as file:\n",
    "    mse_crossed = json.load(file)\n",
    "    \n",
    "mse_df = pd.concat(\n",
    "    [\n",
    "        pd.Series(mse_canonical, name='Canonical Linear'), \n",
    "        pd.Series(mse_crossed, name='Dense Linear'),\n",
    "        pd.Series(mse_rnn, name='Empty RNN') \n",
    "    ],\n",
    "    axis=1\n",
    ")\n",
    "\n",
    "\n",
    "mse_df.describe()"
   ]
  },
  {
   "cell_type": "code",
   "execution_count": 37,
   "metadata": {},
   "outputs": [
    {
     "data": {
      "image/png": "[encoded data removed]",
      "text/plain": [
       "<Figure size 432x432 with 1 Axes>"
      ]
     },
     "metadata": {
      "needs_background": "light"
     },
     "output_type": "display_data"
    }
   ],
   "source": [
    "mse_df[\"lobe\"] = mse_df.index\n",
    "\n",
    "mse_df.plot(x=\"lobe\", y=[\"Canonical Linear\", \"Dense Linear\", \"Empty RNN\"], kind=\"bar\", figsize=[6,6])\n",
    "plt.xlabel('Compartment')\n",
    "plt.ylabel('MSE')\n",
    "\n",
    "plt.xticks(range(15), greek_lobes, rotation=0)\n",
    "\n",
    "plt.legend(fontsize=12, ncol=2, loc='upper right', bbox_to_anchor=(1.03, 1.2))\n",
    "\n",
    "plt.savefig('comparison-mse-empty.png', bbox_inches='tight')\n",
    "\n",
    "plt.show()"
   ]
  },
  {
   "cell_type": "markdown",
   "metadata": {},
   "source": [
    "## R squared"
   ]
  },
  {
   "cell_type": "code",
   "execution_count": 38,
   "metadata": {},
   "outputs": [],
   "source": [
    "# calculate the r^2 for each output\n",
    "# use this formula https://scikit-learn.org/stable/modules/generated/sklearn.linear_model.LinearRegression.html#sklearn.linear_model.LinearRegression.score\n",
    "# 1 - (residual sum of squares) / (total sum of squares)\n",
    "\n",
    "# total sum of squares: remove mean, square and sum\n",
    "tss = np.sum((gt - gt.mean(axis=0))**2, axis=0)\n",
    "\n",
    "# risidual sum of squares or the sum of residual errors\n",
    "rss = np.sum((gt - pred)**2, axis =0)\n",
    "\n",
    "\n",
    "r_squared = 1 - rss / tss"
   ]
  },
  {
   "cell_type": "code",
   "execution_count": 39,
   "metadata": {},
   "outputs": [],
   "source": [
    "r_squared_rnn = {}\n",
    "\n",
    "for i, lobe in enumerate(lobes):\n",
    "    r_squared_rnn[lobe] = r_squared[i]"
   ]
  },
  {
   "cell_type": "code",
   "execution_count": 40,
   "metadata": {},
   "outputs": [
    {
     "data": {
      "text/html": [
       "<div>\n",
       "<style scoped>\n",
       "    .dataframe tbody tr th:only-of-type {\n",
       "        vertical-align: middle;\n",
       "    }\n",
       "\n",
       "    .dataframe tbody tr th {\n",
       "        vertical-align: top;\n",
       "    }\n",
       "\n",
       "    .dataframe thead th {\n",
       "        text-align: right;\n",
       "    }\n",
       "</style>\n",
       "<table border=\"1\" class=\"dataframe\">\n",
       "  <thead>\n",
       "    <tr style=\"text-align: right;\">\n",
       "      <th></th>\n",
       "      <th>Canonical Linear</th>\n",
       "      <th>Dense Linear</th>\n",
       "      <th>Empty RNN</th>\n",
       "    </tr>\n",
       "  </thead>\n",
       "  <tbody>\n",
       "    <tr>\n",
       "      <th>count</th>\n",
       "      <td>15.000000</td>\n",
       "      <td>15.000000</td>\n",
       "      <td>15.000000</td>\n",
       "    </tr>\n",
       "    <tr>\n",
       "      <th>mean</th>\n",
       "      <td>0.009303</td>\n",
       "      <td>0.096668</td>\n",
       "      <td>0.096690</td>\n",
       "    </tr>\n",
       "    <tr>\n",
       "      <th>std</th>\n",
       "      <td>0.019015</td>\n",
       "      <td>0.051218</td>\n",
       "      <td>0.050943</td>\n",
       "    </tr>\n",
       "    <tr>\n",
       "      <th>min</th>\n",
       "      <td>-0.001501</td>\n",
       "      <td>0.032774</td>\n",
       "      <td>0.032687</td>\n",
       "    </tr>\n",
       "    <tr>\n",
       "      <th>25%</th>\n",
       "      <td>0.000299</td>\n",
       "      <td>0.064098</td>\n",
       "      <td>0.064311</td>\n",
       "    </tr>\n",
       "    <tr>\n",
       "      <th>50%</th>\n",
       "      <td>0.004477</td>\n",
       "      <td>0.079877</td>\n",
       "      <td>0.080045</td>\n",
       "    </tr>\n",
       "    <tr>\n",
       "      <th>75%</th>\n",
       "      <td>0.006286</td>\n",
       "      <td>0.118251</td>\n",
       "      <td>0.117303</td>\n",
       "    </tr>\n",
       "    <tr>\n",
       "      <th>max</th>\n",
       "      <td>0.073847</td>\n",
       "      <td>0.205374</td>\n",
       "      <td>0.205240</td>\n",
       "    </tr>\n",
       "  </tbody>\n",
       "</table>\n",
       "</div>"
      ],
      "text/plain": [
       "       Canonical Linear  Dense Linear  Empty RNN\n",
       "count         15.000000     15.000000  15.000000\n",
       "mean           0.009303      0.096668   0.096690\n",
       "std            0.019015      0.051218   0.050943\n",
       "min           -0.001501      0.032774   0.032687\n",
       "25%            0.000299      0.064098   0.064311\n",
       "50%            0.004477      0.079877   0.080045\n",
       "75%            0.006286      0.118251   0.117303\n",
       "max            0.073847      0.205374   0.205240"
      ]
     },
     "execution_count": 40,
     "metadata": {},
     "output_type": "execute_result"
    }
   ],
   "source": [
    "RESULTS_DIR = Path('../results')\n",
    "\n",
    "with open( RESULTS_DIR / 'canonical_linear_model_testing_data_rsquared.json', \"r\") as file:\n",
    "    rsquared_canonical = json.load(file)\n",
    "\n",
    "with open( RESULTS_DIR / 'crossed_linear_model_testing_data_rsquared.json', \"r\") as file:\n",
    "    rsquared_crossed = json.load(file)\n",
    "    \n",
    "rsquared_df = pd.concat(\n",
    "    [\n",
    "        pd.Series(rsquared_canonical, name='Canonical Linear'), \n",
    "        pd.Series(rsquared_crossed, name='Dense Linear'),\n",
    "        pd.Series(r_squared_rnn, name='Empty RNN') \n",
    "    ],\n",
    "    axis=1\n",
    ")\n",
    "\n",
    "\n",
    "rsquared_df.describe()"
   ]
  },
  {
   "cell_type": "code",
   "execution_count": 41,
   "metadata": {},
   "outputs": [
    {
     "data": {
      "image/png": "[encoded data removed]",
      "text/plain": [
       "<Figure size 432x432 with 1 Axes>"
      ]
     },
     "metadata": {
      "needs_background": "light"
     },
     "output_type": "display_data"
    }
   ],
   "source": [
    "rsquared_df[\"lobe\"] = rsquared_df.index\n",
    "\n",
    "rsquared_df.plot(x=\"lobe\", y=[\"Canonical Linear\", \"Dense Linear\", \"Empty RNN\"], kind=\"bar\", figsize=[6,6])\n",
    "plt.xlabel('Compartment')\n",
    "plt.ylabel(r'$R^2$')\n",
    "plt.xticks(range(15), greek_lobes, rotation=0)\n",
    "plt.legend(fontsize=12, ncol=2, loc='upper right', bbox_to_anchor=(1.03, 1.2))\n",
    "\n",
    "plt.savefig('comparison-r2-empty.png', bbox_inches='tight')\n",
    "\n",
    "plt.show()"
   ]
  },
  {
   "cell_type": "code",
   "execution_count": 42,
   "metadata": {},
   "outputs": [
    {
     "data": {
      "text/plain": [
       "{\"alpha'1\": 0.07712698,\n",
       " \"alpha'2\": 0.089446545,\n",
       " \"alpha'3\": 0.08856028,\n",
       " 'alpha1': 0.060459197,\n",
       " 'alpha2': 0.07313776,\n",
       " 'alpha3': 0.0681628,\n",
       " \"beta'1\": 0.15436697,\n",
       " \"beta'2\": 0.032687068,\n",
       " 'beta1': 0.08004457,\n",
       " 'beta2': 0.04572636,\n",
       " 'gamma1': 0.1819328,\n",
       " 'gamma2': 0.08896643,\n",
       " 'gamma3': 0.14515865,\n",
       " 'gamma4': 0.20523977,\n",
       " 'gamma5': 0.05933994}"
      ]
     },
     "execution_count": 42,
     "metadata": {},
     "output_type": "execute_result"
    }
   ],
   "source": [
    "r_squared_rnn"
   ]
  },
  {
   "cell_type": "code",
   "execution_count": null,
   "metadata": {},
   "outputs": [],
   "source": []
  }
 ],
 "metadata": {
  "kernelspec": {
   "display_name": "Python 3 (ipykernel)",
   "language": "python",
   "name": "python3"
  },
  "language_info": {
   "codemirror_mode": {
    "name": "ipython",
    "version": 3
   },
   "file_extension": ".py",
   "mimetype": "text/x-python",
   "name": "python",
   "nbconvert_exporter": "python",
   "pygments_lexer": "ipython3",
   "version": "3.8.8"
  }
 },
 "nbformat": 4,
 "nbformat_minor": 4
}
