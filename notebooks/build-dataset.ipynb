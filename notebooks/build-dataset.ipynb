{
 "cells": [
  {
   "cell_type": "code",
   "execution_count": 1,
   "metadata": {},
   "outputs": [],
   "source": [
    "import numpy as np\n",
    "import pandas as pd\n",
    "import seaborn as sns\n",
    "import matplotlib.pyplot as plt\n",
    "from pathlib import Path\n",
    "\n",
    "%matplotlib inline\n",
    "\n",
    "plt.rcParams[\"font.family\"] = \"Arial\"\n",
    "plt.rcParams[\"font.size\"] = 12\n",
    "\n",
    "sns.set_style(\"whitegrid\",{\"axes.edgecolor\": \"0\",'grid.color': '0','font.family':'Arial'})\n",
    "sns.set_context(\"notebook\",font_scale=1.5)\n",
    "\n",
    "DATA_DIR = Path('../data')"
   ]
  },
  {
   "cell_type": "markdown",
   "metadata": {},
   "source": [
    "# Load Siju Data"
   ]
  },
  {
   "cell_type": "code",
   "execution_count": 7,
   "metadata": {},
   "outputs": [
    {
     "name": "stdout",
     "output_type": "stream",
     "text": [
      "Dataframe shape: (90, 16)\n"
     ]
    },
    {
     "data": {
      "text/html": [
       "<div>\n",
       "<style scoped>\n",
       "    .dataframe tbody tr th:only-of-type {\n",
       "        vertical-align: middle;\n",
       "    }\n",
       "\n",
       "    .dataframe tbody tr th {\n",
       "        vertical-align: top;\n",
       "    }\n",
       "\n",
       "    .dataframe thead tr th {\n",
       "        text-align: left;\n",
       "    }\n",
       "\n",
       "    .dataframe thead tr:last-of-type th {\n",
       "        text-align: right;\n",
       "    }\n",
       "</style>\n",
       "<table border=\"1\" class=\"dataframe\">\n",
       "  <thead>\n",
       "    <tr>\n",
       "      <th></th>\n",
       "      <th>stimulus</th>\n",
       "      <th colspan=\"15\" halign=\"left\">DAN dF/F</th>\n",
       "    </tr>\n",
       "    <tr>\n",
       "      <th>lobe</th>\n",
       "      <th></th>\n",
       "      <th>alpha'1</th>\n",
       "      <th>alpha'2</th>\n",
       "      <th>alpha'3</th>\n",
       "      <th>alpha1</th>\n",
       "      <th>alpha2</th>\n",
       "      <th>alpha3</th>\n",
       "      <th>beta'1</th>\n",
       "      <th>beta'2</th>\n",
       "      <th>beta1</th>\n",
       "      <th>beta2</th>\n",
       "      <th>gamma1</th>\n",
       "      <th>gamma2</th>\n",
       "      <th>gamma3</th>\n",
       "      <th>gamma4</th>\n",
       "      <th>gamma5</th>\n",
       "    </tr>\n",
       "    <tr>\n",
       "      <th>id</th>\n",
       "      <th></th>\n",
       "      <th></th>\n",
       "      <th></th>\n",
       "      <th></th>\n",
       "      <th></th>\n",
       "      <th></th>\n",
       "      <th></th>\n",
       "      <th></th>\n",
       "      <th></th>\n",
       "      <th></th>\n",
       "      <th></th>\n",
       "      <th></th>\n",
       "      <th></th>\n",
       "      <th></th>\n",
       "      <th></th>\n",
       "      <th></th>\n",
       "    </tr>\n",
       "  </thead>\n",
       "  <tbody>\n",
       "    <tr>\n",
       "      <th>TH-58E02_090816_Citronella</th>\n",
       "      <td>citronella</td>\n",
       "      <td>0.476658</td>\n",
       "      <td>0.412485</td>\n",
       "      <td>0.226218</td>\n",
       "      <td>0.341723</td>\n",
       "      <td>0.230774</td>\n",
       "      <td>1.023435</td>\n",
       "      <td>0.586997</td>\n",
       "      <td>0.837626</td>\n",
       "      <td>0.624777</td>\n",
       "      <td>0.990563</td>\n",
       "      <td>0.051930</td>\n",
       "      <td>0.292853</td>\n",
       "      <td>0.707377</td>\n",
       "      <td>0.790165</td>\n",
       "      <td>0.337667</td>\n",
       "    </tr>\n",
       "    <tr>\n",
       "      <th>TH-58E02_170816_Citronella</th>\n",
       "      <td>citronella</td>\n",
       "      <td>0.432107</td>\n",
       "      <td>0.527736</td>\n",
       "      <td>0.175783</td>\n",
       "      <td>0.034967</td>\n",
       "      <td>0.245432</td>\n",
       "      <td>0.371485</td>\n",
       "      <td>0.457447</td>\n",
       "      <td>0.520961</td>\n",
       "      <td>0.281905</td>\n",
       "      <td>0.639173</td>\n",
       "      <td>0.047926</td>\n",
       "      <td>0.671082</td>\n",
       "      <td>0.632577</td>\n",
       "      <td>0.304596</td>\n",
       "      <td>0.075477</td>\n",
       "    </tr>\n",
       "    <tr>\n",
       "      <th>181022_TH58E02G6f_ST00_0_Citronella</th>\n",
       "      <td>citronella</td>\n",
       "      <td>0.423704</td>\n",
       "      <td>0.083843</td>\n",
       "      <td>0.379430</td>\n",
       "      <td>-0.011456</td>\n",
       "      <td>0.097590</td>\n",
       "      <td>0.640199</td>\n",
       "      <td>0.695688</td>\n",
       "      <td>0.670628</td>\n",
       "      <td>0.269143</td>\n",
       "      <td>0.506330</td>\n",
       "      <td>0.251025</td>\n",
       "      <td>0.406841</td>\n",
       "      <td>1.010089</td>\n",
       "      <td>0.882712</td>\n",
       "      <td>0.095707</td>\n",
       "    </tr>\n",
       "    <tr>\n",
       "      <th>171016_Citronella 2</th>\n",
       "      <td>citronella</td>\n",
       "      <td>0.610923</td>\n",
       "      <td>0.427451</td>\n",
       "      <td>-0.009572</td>\n",
       "      <td>0.135995</td>\n",
       "      <td>0.637080</td>\n",
       "      <td>0.009996</td>\n",
       "      <td>0.079676</td>\n",
       "      <td>0.021876</td>\n",
       "      <td>-0.013304</td>\n",
       "      <td>-0.007225</td>\n",
       "      <td>-0.015125</td>\n",
       "      <td>0.128165</td>\n",
       "      <td>0.039962</td>\n",
       "      <td>0.047961</td>\n",
       "      <td>0.020380</td>\n",
       "    </tr>\n",
       "    <tr>\n",
       "      <th>171016_Citronella 1</th>\n",
       "      <td>citronella</td>\n",
       "      <td>0.671743</td>\n",
       "      <td>0.539444</td>\n",
       "      <td>2.572961</td>\n",
       "      <td>0.102841</td>\n",
       "      <td>0.927985</td>\n",
       "      <td>0.578673</td>\n",
       "      <td>0.682591</td>\n",
       "      <td>0.582773</td>\n",
       "      <td>0.211340</td>\n",
       "      <td>0.530082</td>\n",
       "      <td>0.377056</td>\n",
       "      <td>0.601208</td>\n",
       "      <td>0.659796</td>\n",
       "      <td>0.434064</td>\n",
       "      <td>0.096403</td>\n",
       "    </tr>\n",
       "  </tbody>\n",
       "</table>\n",
       "</div>"
      ],
      "text/plain": [
       "                                       stimulus  DAN dF/F                      \\\n",
       "lobe                                              alpha'1   alpha'2   alpha'3   \n",
       "id                                                                              \n",
       "TH-58E02_090816_Citronella           citronella  0.476658  0.412485  0.226218   \n",
       "TH-58E02_170816_Citronella           citronella  0.432107  0.527736  0.175783   \n",
       "181022_TH58E02G6f_ST00_0_Citronella  citronella  0.423704  0.083843  0.379430   \n",
       "171016_Citronella 2                  citronella  0.610923  0.427451 -0.009572   \n",
       "171016_Citronella 1                  citronella  0.671743  0.539444  2.572961   \n",
       "\n",
       "                                                                             \\\n",
       "lobe                                   alpha1    alpha2    alpha3    beta'1   \n",
       "id                                                                            \n",
       "TH-58E02_090816_Citronella           0.341723  0.230774  1.023435  0.586997   \n",
       "TH-58E02_170816_Citronella           0.034967  0.245432  0.371485  0.457447   \n",
       "181022_TH58E02G6f_ST00_0_Citronella -0.011456  0.097590  0.640199  0.695688   \n",
       "171016_Citronella 2                  0.135995  0.637080  0.009996  0.079676   \n",
       "171016_Citronella 1                  0.102841  0.927985  0.578673  0.682591   \n",
       "\n",
       "                                                                             \\\n",
       "lobe                                   beta'2     beta1     beta2    gamma1   \n",
       "id                                                                            \n",
       "TH-58E02_090816_Citronella           0.837626  0.624777  0.990563  0.051930   \n",
       "TH-58E02_170816_Citronella           0.520961  0.281905  0.639173  0.047926   \n",
       "181022_TH58E02G6f_ST00_0_Citronella  0.670628  0.269143  0.506330  0.251025   \n",
       "171016_Citronella 2                  0.021876 -0.013304 -0.007225 -0.015125   \n",
       "171016_Citronella 1                  0.582773  0.211340  0.530082  0.377056   \n",
       "\n",
       "                                                                             \n",
       "lobe                                   gamma2    gamma3    gamma4    gamma5  \n",
       "id                                                                           \n",
       "TH-58E02_090816_Citronella           0.292853  0.707377  0.790165  0.337667  \n",
       "TH-58E02_170816_Citronella           0.671082  0.632577  0.304596  0.075477  \n",
       "181022_TH58E02G6f_ST00_0_Citronella  0.406841  1.010089  0.882712  0.095707  \n",
       "171016_Citronella 2                  0.128165  0.039962  0.047961  0.020380  \n",
       "171016_Citronella 1                  0.601208  0.659796  0.434064  0.096403  "
      ]
     },
     "execution_count": 7,
     "metadata": {},
     "output_type": "execute_result"
    }
   ],
   "source": [
    "sdf = pd.read_pickle(DATA_DIR /'siju-cleaned-expanded-pivot.pkl')\n",
    "\n",
    "s_shape = sdf.shape\n",
    "print(f'Dataframe shape: {s_shape}')\n",
    "\n",
    "sdf.head()"
   ]
  },
  {
   "cell_type": "markdown",
   "metadata": {},
   "source": [
    "# Load Hije Data"
   ]
  },
  {
   "cell_type": "code",
   "execution_count": 42,
   "metadata": {},
   "outputs": [
    {
     "name": "stdout",
     "output_type": "stream",
     "text": [
      "Dataframe shape: (45, 16)\n"
     ]
    },
    {
     "data": {
      "text/html": [
       "<div>\n",
       "<style scoped>\n",
       "    .dataframe tbody tr th:only-of-type {\n",
       "        vertical-align: middle;\n",
       "    }\n",
       "\n",
       "    .dataframe tbody tr th {\n",
       "        vertical-align: top;\n",
       "    }\n",
       "\n",
       "    .dataframe thead tr th {\n",
       "        text-align: left;\n",
       "    }\n",
       "\n",
       "    .dataframe thead tr:last-of-type th {\n",
       "        text-align: right;\n",
       "    }\n",
       "</style>\n",
       "<table border=\"1\" class=\"dataframe\">\n",
       "  <thead>\n",
       "    <tr>\n",
       "      <th></th>\n",
       "      <th>stimulus</th>\n",
       "      <th colspan=\"15\" halign=\"left\">MBON dF/F</th>\n",
       "    </tr>\n",
       "    <tr>\n",
       "      <th>lobe</th>\n",
       "      <th></th>\n",
       "      <th>alpha'1</th>\n",
       "      <th>alpha'2</th>\n",
       "      <th>alpha'3</th>\n",
       "      <th>alpha1</th>\n",
       "      <th>alpha2</th>\n",
       "      <th>alpha3</th>\n",
       "      <th>beta'1</th>\n",
       "      <th>beta'2</th>\n",
       "      <th>beta1</th>\n",
       "      <th>beta2</th>\n",
       "      <th>gamma1</th>\n",
       "      <th>gamma2</th>\n",
       "      <th>gamma3</th>\n",
       "      <th>gamma4</th>\n",
       "      <th>gamma5</th>\n",
       "    </tr>\n",
       "    <tr>\n",
       "      <th>id</th>\n",
       "      <th></th>\n",
       "      <th></th>\n",
       "      <th></th>\n",
       "      <th></th>\n",
       "      <th></th>\n",
       "      <th></th>\n",
       "      <th></th>\n",
       "      <th></th>\n",
       "      <th></th>\n",
       "      <th></th>\n",
       "      <th></th>\n",
       "      <th></th>\n",
       "      <th></th>\n",
       "      <th></th>\n",
       "      <th></th>\n",
       "      <th></th>\n",
       "    </tr>\n",
       "  </thead>\n",
       "  <tbody>\n",
       "    <tr>\n",
       "      <th>2-heptanone_fly0</th>\n",
       "      <td>heptanone</td>\n",
       "      <td>57.014634</td>\n",
       "      <td>53.449785</td>\n",
       "      <td>14.488461</td>\n",
       "      <td>31.733999</td>\n",
       "      <td>35.150185</td>\n",
       "      <td>50.098322</td>\n",
       "      <td>29.570272</td>\n",
       "      <td>25.684328</td>\n",
       "      <td>34.010916</td>\n",
       "      <td>11.951235</td>\n",
       "      <td>46.239205</td>\n",
       "      <td>66.086409</td>\n",
       "      <td>42.144978</td>\n",
       "      <td>60.102633</td>\n",
       "      <td>11.447692</td>\n",
       "    </tr>\n",
       "    <tr>\n",
       "      <th>2-heptanone_fly1</th>\n",
       "      <td>heptanone</td>\n",
       "      <td>44.168362</td>\n",
       "      <td>91.255851</td>\n",
       "      <td>17.765559</td>\n",
       "      <td>29.395413</td>\n",
       "      <td>28.380873</td>\n",
       "      <td>21.858113</td>\n",
       "      <td>24.830531</td>\n",
       "      <td>16.444911</td>\n",
       "      <td>43.192486</td>\n",
       "      <td>27.904354</td>\n",
       "      <td>53.975628</td>\n",
       "      <td>37.821266</td>\n",
       "      <td>47.514654</td>\n",
       "      <td>52.499951</td>\n",
       "      <td>3.998101</td>\n",
       "    </tr>\n",
       "    <tr>\n",
       "      <th>2-heptanone_fly2</th>\n",
       "      <td>heptanone</td>\n",
       "      <td>30.958356</td>\n",
       "      <td>67.175713</td>\n",
       "      <td>19.834570</td>\n",
       "      <td>25.548454</td>\n",
       "      <td>31.033140</td>\n",
       "      <td>79.720826</td>\n",
       "      <td>25.744823</td>\n",
       "      <td>17.759295</td>\n",
       "      <td>46.527031</td>\n",
       "      <td>22.010365</td>\n",
       "      <td>28.879761</td>\n",
       "      <td>29.721496</td>\n",
       "      <td>39.124175</td>\n",
       "      <td>45.002144</td>\n",
       "      <td>1.734179</td>\n",
       "    </tr>\n",
       "    <tr>\n",
       "      <th>2-heptanone_fly3</th>\n",
       "      <td>heptanone</td>\n",
       "      <td>36.248176</td>\n",
       "      <td>50.087333</td>\n",
       "      <td>18.659880</td>\n",
       "      <td>21.263302</td>\n",
       "      <td>20.912131</td>\n",
       "      <td>44.043983</td>\n",
       "      <td>38.035029</td>\n",
       "      <td>10.343638</td>\n",
       "      <td>26.904135</td>\n",
       "      <td>5.369238</td>\n",
       "      <td>41.142201</td>\n",
       "      <td>31.954230</td>\n",
       "      <td>70.776622</td>\n",
       "      <td>39.891746</td>\n",
       "      <td>0.429397</td>\n",
       "    </tr>\n",
       "    <tr>\n",
       "      <th>2-heptanone_fly4</th>\n",
       "      <td>heptanone</td>\n",
       "      <td>14.150340</td>\n",
       "      <td>21.817438</td>\n",
       "      <td>11.888643</td>\n",
       "      <td>18.037705</td>\n",
       "      <td>17.063540</td>\n",
       "      <td>22.347819</td>\n",
       "      <td>24.288879</td>\n",
       "      <td>5.184545</td>\n",
       "      <td>14.825427</td>\n",
       "      <td>9.185952</td>\n",
       "      <td>11.818865</td>\n",
       "      <td>12.767847</td>\n",
       "      <td>37.395544</td>\n",
       "      <td>31.264467</td>\n",
       "      <td>-2.034475</td>\n",
       "    </tr>\n",
       "  </tbody>\n",
       "</table>\n",
       "</div>"
      ],
      "text/plain": [
       "                   stimulus  MBON dF/F                                   \\\n",
       "lobe                           alpha'1    alpha'2    alpha'3     alpha1   \n",
       "id                                                                        \n",
       "2-heptanone_fly0  heptanone  57.014634  53.449785  14.488461  31.733999   \n",
       "2-heptanone_fly1  heptanone  44.168362  91.255851  17.765559  29.395413   \n",
       "2-heptanone_fly2  heptanone  30.958356  67.175713  19.834570  25.548454   \n",
       "2-heptanone_fly3  heptanone  36.248176  50.087333  18.659880  21.263302   \n",
       "2-heptanone_fly4  heptanone  14.150340  21.817438  11.888643  18.037705   \n",
       "\n",
       "                                                                         \\\n",
       "lobe                 alpha2     alpha3     beta'1     beta'2      beta1   \n",
       "id                                                                        \n",
       "2-heptanone_fly0  35.150185  50.098322  29.570272  25.684328  34.010916   \n",
       "2-heptanone_fly1  28.380873  21.858113  24.830531  16.444911  43.192486   \n",
       "2-heptanone_fly2  31.033140  79.720826  25.744823  17.759295  46.527031   \n",
       "2-heptanone_fly3  20.912131  44.043983  38.035029  10.343638  26.904135   \n",
       "2-heptanone_fly4  17.063540  22.347819  24.288879   5.184545  14.825427   \n",
       "\n",
       "                                                                         \\\n",
       "lobe                  beta2     gamma1     gamma2     gamma3     gamma4   \n",
       "id                                                                        \n",
       "2-heptanone_fly0  11.951235  46.239205  66.086409  42.144978  60.102633   \n",
       "2-heptanone_fly1  27.904354  53.975628  37.821266  47.514654  52.499951   \n",
       "2-heptanone_fly2  22.010365  28.879761  29.721496  39.124175  45.002144   \n",
       "2-heptanone_fly3   5.369238  41.142201  31.954230  70.776622  39.891746   \n",
       "2-heptanone_fly4   9.185952  11.818865  12.767847  37.395544  31.264467   \n",
       "\n",
       "                             \n",
       "lobe                 gamma5  \n",
       "id                           \n",
       "2-heptanone_fly0  11.447692  \n",
       "2-heptanone_fly1   3.998101  \n",
       "2-heptanone_fly2   1.734179  \n",
       "2-heptanone_fly3   0.429397  \n",
       "2-heptanone_fly4  -2.034475  "
      ]
     },
     "execution_count": 42,
     "metadata": {},
     "output_type": "execute_result"
    }
   ],
   "source": [
    "hdf = pd.read_pickle(DATA_DIR /'hije-cleaned-expanded-pivot.pkl')\n",
    "hdf = hdf[['stimulus', 'MBON dF/F']]\n",
    "\n",
    "h_shape = hdf.shape\n",
    "print(f'Dataframe shape: {h_shape}')\n",
    "\n",
    "hdf.head()"
   ]
  },
  {
   "cell_type": "markdown",
   "metadata": {},
   "source": [
    "# Create 'Joining Table'"
   ]
  },
  {
   "cell_type": "code",
   "execution_count": 17,
   "metadata": {},
   "outputs": [],
   "source": [
    "from itertools import product"
   ]
  },
  {
   "cell_type": "code",
   "execution_count": 44,
   "metadata": {},
   "outputs": [],
   "source": [
    "stimuli = hdf.stimulus.unique()"
   ]
  },
  {
   "cell_type": "code",
   "execution_count": 55,
   "metadata": {},
   "outputs": [
    {
     "name": "stdout",
     "output_type": "stream",
     "text": [
      "- heptanone\n",
      "Shape of sdf: (9, 16)\n",
      "Shape of hdf: (5, 16)\n",
      "Number of combinations: 45\n",
      "- citronella\n",
      "Shape of sdf: (11, 16)\n",
      "Shape of hdf: (5, 16)\n",
      "Number of combinations: 55\n",
      "- ethanol\n",
      "Shape of sdf: (6, 16)\n",
      "Shape of hdf: (5, 16)\n",
      "Number of combinations: 30\n",
      "- hexanol\n",
      "Shape of sdf: (8, 16)\n",
      "Shape of hdf: (5, 16)\n",
      "Number of combinations: 40\n",
      "- mch\n",
      "Shape of sdf: (11, 16)\n",
      "Shape of hdf: (5, 16)\n",
      "Number of combinations: 55\n",
      "- octanol\n",
      "Shape of sdf: (8, 16)\n",
      "Shape of hdf: (5, 16)\n",
      "Number of combinations: 40\n",
      "- peppermint\n",
      "Shape of sdf: (12, 16)\n",
      "Shape of hdf: (5, 16)\n",
      "Number of combinations: 60\n",
      "- vinegar\n",
      "Shape of sdf: (11, 16)\n",
      "Shape of hdf: (5, 16)\n",
      "Number of combinations: 55\n",
      "- yeast\n",
      "Shape of sdf: (14, 16)\n",
      "Shape of hdf: (5, 16)\n",
      "Number of combinations: 70\n",
      "450\n"
     ]
    }
   ],
   "source": [
    "join_tab = []\n",
    "\n",
    "for stim in stimuli:\n",
    "    sdf_stim = sdf[sdf['stimulus'] == stim]\n",
    "    hdf_stim = hdf[hdf['stimulus'] == stim]\n",
    "\n",
    "    print(f'- {stim}')\n",
    "    print(f'Shape of sdf: {sdf_stim.shape}')\n",
    "    print(f'Shape of hdf: {hdf_stim.shape}')\n",
    "\n",
    "    combinations = list(product(sdf_stim.index, hdf_stim.index))\n",
    "    print(f'Number of combinations: {len(combinations)}')\n",
    "    \n",
    "    join_tab.extend(combinations)\n",
    "\n",
    "print(len(join_tab))"
   ]
  },
  {
   "cell_type": "code",
   "execution_count": 71,
   "metadata": {},
   "outputs": [
    {
     "name": "stdout",
     "output_type": "stream",
     "text": [
      "('181214a_TH58E02G6f_ST00_1_Ethanol', 'ethanol_fly0')\n"
     ]
    },
    {
     "data": {
      "text/plain": [
       "array(['ethanol', 0.2195584235860149, 0.2294227266991938,\n",
       "       1.8297317270905022, 0.28516870958161, 0.3021907647065587,\n",
       "       0.43358365464528753, 2.0095193813803194, 0.5191058720435044,\n",
       "       0.29907913832380467, 0.7371017931489893, 0.28535458760703214,\n",
       "       0.5301529346261852, 0.8566485985831983, 0.6035951332534931,\n",
       "       0.05251213612245484], dtype=object)"
      ]
     },
     "execution_count": 71,
     "metadata": {},
     "output_type": "execute_result"
    }
   ],
   "source": [
    "i = 100\n",
    "\n",
    "print(join_tab[i])\n",
    "\n",
    "DAN_x = sdf.loc[join_tab[i][0]]\n",
    "DAN_x.values"
   ]
  },
  {
   "cell_type": "code",
   "execution_count": 72,
   "metadata": {},
   "outputs": [
    {
     "data": {
      "text/plain": [
       "array(['ethanol', 40.10214899939467, 25.657453562824543, 17.4808562879505,\n",
       "       20.465026081514782, 9.073939653716906, 45.5018239869886,\n",
       "       22.746210967683105, 13.711930953905817, 20.375914737353458,\n",
       "       20.922901146974205, 43.47091272065403, 44.156373943023326,\n",
       "       20.59049078092252, 25.409393203596448, 1.5976875303586093],\n",
       "      dtype=object)"
      ]
     },
     "execution_count": 72,
     "metadata": {},
     "output_type": "execute_result"
    }
   ],
   "source": [
    "MBON_y = hdf.loc[join_tab[i][1]]\n",
    "MBON_y.values"
   ]
  },
  {
   "cell_type": "code",
   "execution_count": 79,
   "metadata": {},
   "outputs": [
    {
     "data": {
      "text/plain": [
       "(15,)"
      ]
     },
     "execution_count": 79,
     "metadata": {},
     "output_type": "execute_result"
    }
   ],
   "source": [
    "# Build numpy array\n",
    "\n",
    "y_vals = MBON_y.values[1:]\n",
    "type(y_vals)\n",
    "y_vals.shape"
   ]
  },
  {
   "cell_type": "code",
   "execution_count": 95,
   "metadata": {},
   "outputs": [],
   "source": [
    "X = np.zeros([len(join_tab), 15])\n",
    "Y = np.zeros([len(join_tab), 15])"
   ]
  },
  {
   "cell_type": "code",
   "execution_count": 97,
   "metadata": {},
   "outputs": [],
   "source": [
    "for i, idx_pair in enumerate(join_tab):\n",
    "    X[i, :] = sdf.loc[idx_pair[0]].values[1:]\n",
    "    Y[i, :] = hdf.loc[idx_pair[1]].values[1:]"
   ]
  },
  {
   "cell_type": "code",
   "execution_count": 98,
   "metadata": {},
   "outputs": [
    {
     "data": {
      "text/plain": [
       "array([[57.01463355, 53.44978546, 14.48846054, ..., 42.14497808,\n",
       "        60.10263256, 11.44769224],\n",
       "       [44.16836247, 91.25585057, 17.76555871, ..., 47.51465352,\n",
       "        52.49995075,  3.99810093],\n",
       "       [30.95835581, 67.17571251, 19.83456962, ..., 39.12417494,\n",
       "        45.00214377,  1.73417912],\n",
       "       ...,\n",
       "       [46.97025746, 73.13066859,  9.11760464, ..., 39.30695463,\n",
       "        16.59902517,  6.91397129],\n",
       "       [37.29378004, 73.24954661, 21.88020087, ..., 56.36695517,\n",
       "        15.14044057,  9.20381158],\n",
       "       [31.01367535, 12.46603719, 11.20332533, ..., 41.9181154 ,\n",
       "        21.19308433,  1.93158313]])"
      ]
     },
     "execution_count": 98,
     "metadata": {},
     "output_type": "execute_result"
    }
   ],
   "source": [
    "Y"
   ]
  },
  {
   "cell_type": "code",
   "execution_count": 99,
   "metadata": {},
   "outputs": [
    {
     "data": {
      "text/plain": [
       "array([[0.18879316, 0.08000534, 0.14528292, ..., 1.96631115, 0.22517827,\n",
       "        0.15213694],\n",
       "       [0.18879316, 0.08000534, 0.14528292, ..., 1.96631115, 0.22517827,\n",
       "        0.15213694],\n",
       "       [0.18879316, 0.08000534, 0.14528292, ..., 1.96631115, 0.22517827,\n",
       "        0.15213694],\n",
       "       ...,\n",
       "       [0.31227529, 0.47202968, 1.22896686, ..., 0.5851319 , 0.58883865,\n",
       "        0.14318391],\n",
       "       [0.31227529, 0.47202968, 1.22896686, ..., 0.5851319 , 0.58883865,\n",
       "        0.14318391],\n",
       "       [0.31227529, 0.47202968, 1.22896686, ..., 0.5851319 , 0.58883865,\n",
       "        0.14318391]])"
      ]
     },
     "execution_count": 99,
     "metadata": {},
     "output_type": "execute_result"
    }
   ],
   "source": [
    "X"
   ]
  },
  {
   "cell_type": "code",
   "execution_count": 100,
   "metadata": {},
   "outputs": [
    {
     "data": {
      "text/plain": [
       "-0.2292418312813611"
      ]
     },
     "execution_count": 100,
     "metadata": {},
     "output_type": "execute_result"
    }
   ],
   "source": [
    "X.min()"
   ]
  },
  {
   "cell_type": "code",
   "execution_count": 101,
   "metadata": {},
   "outputs": [
    {
     "data": {
      "text/plain": [
       "4.011015766446184"
      ]
     },
     "execution_count": 101,
     "metadata": {},
     "output_type": "execute_result"
    }
   ],
   "source": [
    "X.max()"
   ]
  },
  {
   "cell_type": "code",
   "execution_count": 102,
   "metadata": {},
   "outputs": [
    {
     "data": {
      "text/plain": [
       "-10.543254491898383"
      ]
     },
     "execution_count": 102,
     "metadata": {},
     "output_type": "execute_result"
    }
   ],
   "source": [
    "Y.min()"
   ]
  },
  {
   "cell_type": "code",
   "execution_count": 103,
   "metadata": {},
   "outputs": [
    {
     "data": {
      "text/plain": [
       "134.46735444712488"
      ]
     },
     "execution_count": 103,
     "metadata": {},
     "output_type": "execute_result"
    }
   ],
   "source": [
    "Y.max()"
   ]
  },
  {
   "cell_type": "code",
   "execution_count": 108,
   "metadata": {},
   "outputs": [],
   "source": [
    "def normalise(A: np.ndarray)->np.ndarray:\n",
    "    mini = A.min()\n",
    "    maxi = A.max()\n",
    "    \n",
    "    if mini < 0:\n",
    "        return (A - mini)/(maxi - mini)\n",
    "    \n",
    "    return A/maxi"
   ]
  },
  {
   "cell_type": "code",
   "execution_count": 112,
   "metadata": {},
   "outputs": [],
   "source": [
    "X_n = normalise(X)\n",
    "Y_n = normalise(Y)"
   ]
  },
  {
   "cell_type": "code",
   "execution_count": 115,
   "metadata": {},
   "outputs": [
    {
     "data": {
      "text/plain": [
       "0.0"
      ]
     },
     "execution_count": 115,
     "metadata": {},
     "output_type": "execute_result"
    }
   ],
   "source": [
    "Y_n.min()"
   ]
  },
  {
   "cell_type": "code",
   "execution_count": 126,
   "metadata": {},
   "outputs": [],
   "source": [
    "from sklearn.linear_model import LinearRegression "
   ]
  },
  {
   "cell_type": "code",
   "execution_count": 130,
   "metadata": {},
   "outputs": [
    {
     "name": "stdout",
     "output_type": "stream",
     "text": [
      "0.18913599162296668\n",
      "0.08440870097362196\n",
      "0.11618833154139163\n",
      "0.1030478064335032\n",
      "0.11311468453125162\n",
      "0.10308380199855471\n",
      "0.2545386058497583\n",
      "0.05683757503677822\n",
      "0.10179567581907267\n",
      "0.07110302239757804\n",
      "0.1731306313124622\n",
      "0.177073644732755\n",
      "0.1365399803477796\n",
      "0.18921651582916044\n",
      "0.11274735267578362\n"
     ]
    }
   ],
   "source": [
    "X = X_n\n",
    "\n",
    "for i in range(15):\n",
    "    y = Y_n[:,i]\n",
    "    model = LinearRegression(fit_intercept=True).fit(X, y)\n",
    "    print(model.score(X, y))\n"
   ]
  },
  {
   "cell_type": "code",
   "execution_count": null,
   "metadata": {},
   "outputs": [],
   "source": []
  }
 ],
 "metadata": {
  "kernelspec": {
   "display_name": "Computational Neuroscience",
   "language": "python",
   "name": "comp-neuro"
  },
  "language_info": {
   "codemirror_mode": {
    "name": "ipython",
    "version": 3
   },
   "file_extension": ".py",
   "mimetype": "text/x-python",
   "name": "python",
   "nbconvert_exporter": "python",
   "pygments_lexer": "ipython3",
   "version": "3.7.10"
  }
 },
 "nbformat": 4,
 "nbformat_minor": 2
}
