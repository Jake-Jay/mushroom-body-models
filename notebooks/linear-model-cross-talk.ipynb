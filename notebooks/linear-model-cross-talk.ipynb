{
 "cells": [
  {
   "cell_type": "code",
   "execution_count": 28,
   "metadata": {},
   "outputs": [],
   "source": [
    "import numpy as np\n",
    "import pandas as pd\n",
    "import seaborn as sns\n",
    "import matplotlib.pyplot as plt\n",
    "from pathlib import Path\n",
    "from itertools import product\n",
    "from sklearn.linear_model import LinearRegression \n",
    "\n",
    "%matplotlib inline\n",
    "\n",
    "plt.rcParams[\"font.family\"] = \"Arial\"\n",
    "plt.rcParams[\"font.size\"] = 12\n",
    "\n",
    "sns.set_style(\"whitegrid\",{\"axes.edgecolor\": \"0\",'grid.color': '0','font.family':'Arial'})\n",
    "sns.set_context(\"notebook\",font_scale=1.5)\n",
    "\n",
    "DATA_DIR = Path('../data')"
   ]
  },
  {
   "cell_type": "markdown",
   "metadata": {},
   "source": [
    "# Load Siju Data"
   ]
  },
  {
   "cell_type": "code",
   "execution_count": 6,
   "metadata": {},
   "outputs": [
    {
     "output_type": "stream",
     "name": "stdout",
     "text": [
      "Dataframe shape: (90, 16)\nNumber of experiments: 90\n"
     ]
    },
    {
     "output_type": "execute_result",
     "data": {
      "text/plain": [
       "                                       stimulus  DAN dF/F                      \\\n",
       "lobe                                              alpha'1   alpha'2   alpha'3   \n",
       "id                                                                              \n",
       "TH-58E02_090816_Citronella           citronella  0.476658  0.412485  0.226218   \n",
       "TH-58E02_170816_Citronella           citronella  0.432107  0.527736  0.175783   \n",
       "181022_TH58E02G6f_ST00_0_Citronella  citronella  0.423704  0.083843  0.379430   \n",
       "171016_Citronella 2                  citronella  0.610923  0.427451 -0.009572   \n",
       "171016_Citronella 1                  citronella  0.671743  0.539444  2.572961   \n",
       "\n",
       "                                                                             \\\n",
       "lobe                                   alpha1    alpha2    alpha3    beta'1   \n",
       "id                                                                            \n",
       "TH-58E02_090816_Citronella           0.341723  0.230774  1.023435  0.586997   \n",
       "TH-58E02_170816_Citronella           0.034967  0.245432  0.371485  0.457447   \n",
       "181022_TH58E02G6f_ST00_0_Citronella -0.011456  0.097590  0.640199  0.695688   \n",
       "171016_Citronella 2                  0.135995  0.637080  0.009996  0.079676   \n",
       "171016_Citronella 1                  0.102841  0.927985  0.578673  0.682591   \n",
       "\n",
       "                                                                             \\\n",
       "lobe                                   beta'2     beta1     beta2    gamma1   \n",
       "id                                                                            \n",
       "TH-58E02_090816_Citronella           0.837626  0.624777  0.990563  0.051930   \n",
       "TH-58E02_170816_Citronella           0.520961  0.281905  0.639173  0.047926   \n",
       "181022_TH58E02G6f_ST00_0_Citronella  0.670628  0.269143  0.506330  0.251025   \n",
       "171016_Citronella 2                  0.021876 -0.013304 -0.007225 -0.015125   \n",
       "171016_Citronella 1                  0.582773  0.211340  0.530082  0.377056   \n",
       "\n",
       "                                                                             \n",
       "lobe                                   gamma2    gamma3    gamma4    gamma5  \n",
       "id                                                                           \n",
       "TH-58E02_090816_Citronella           0.292853  0.707377  0.790165  0.337667  \n",
       "TH-58E02_170816_Citronella           0.671082  0.632577  0.304596  0.075477  \n",
       "181022_TH58E02G6f_ST00_0_Citronella  0.406841  1.010089  0.882712  0.095707  \n",
       "171016_Citronella 2                  0.128165  0.039962  0.047961  0.020380  \n",
       "171016_Citronella 1                  0.601208  0.659796  0.434064  0.096403  "
      ],
      "text/html": "<div>\n<style scoped>\n    .dataframe tbody tr th:only-of-type {\n        vertical-align: middle;\n    }\n\n    .dataframe tbody tr th {\n        vertical-align: top;\n    }\n\n    .dataframe thead tr th {\n        text-align: left;\n    }\n\n    .dataframe thead tr:last-of-type th {\n        text-align: right;\n    }\n</style>\n<table border=\"1\" class=\"dataframe\">\n  <thead>\n    <tr>\n      <th></th>\n      <th>stimulus</th>\n      <th colspan=\"15\" halign=\"left\">DAN dF/F</th>\n    </tr>\n    <tr>\n      <th>lobe</th>\n      <th></th>\n      <th>alpha'1</th>\n      <th>alpha'2</th>\n      <th>alpha'3</th>\n      <th>alpha1</th>\n      <th>alpha2</th>\n      <th>alpha3</th>\n      <th>beta'1</th>\n      <th>beta'2</th>\n      <th>beta1</th>\n      <th>beta2</th>\n      <th>gamma1</th>\n      <th>gamma2</th>\n      <th>gamma3</th>\n      <th>gamma4</th>\n      <th>gamma5</th>\n    </tr>\n    <tr>\n      <th>id</th>\n      <th></th>\n      <th></th>\n      <th></th>\n      <th></th>\n      <th></th>\n      <th></th>\n      <th></th>\n      <th></th>\n      <th></th>\n      <th></th>\n      <th></th>\n      <th></th>\n      <th></th>\n      <th></th>\n      <th></th>\n      <th></th>\n    </tr>\n  </thead>\n  <tbody>\n    <tr>\n      <th>TH-58E02_090816_Citronella</th>\n      <td>citronella</td>\n      <td>0.476658</td>\n      <td>0.412485</td>\n      <td>0.226218</td>\n      <td>0.341723</td>\n      <td>0.230774</td>\n      <td>1.023435</td>\n      <td>0.586997</td>\n      <td>0.837626</td>\n      <td>0.624777</td>\n      <td>0.990563</td>\n      <td>0.051930</td>\n      <td>0.292853</td>\n      <td>0.707377</td>\n      <td>0.790165</td>\n      <td>0.337667</td>\n    </tr>\n    <tr>\n      <th>TH-58E02_170816_Citronella</th>\n      <td>citronella</td>\n      <td>0.432107</td>\n      <td>0.527736</td>\n      <td>0.175783</td>\n      <td>0.034967</td>\n      <td>0.245432</td>\n      <td>0.371485</td>\n      <td>0.457447</td>\n      <td>0.520961</td>\n      <td>0.281905</td>\n      <td>0.639173</td>\n      <td>0.047926</td>\n      <td>0.671082</td>\n      <td>0.632577</td>\n      <td>0.304596</td>\n      <td>0.075477</td>\n    </tr>\n    <tr>\n      <th>181022_TH58E02G6f_ST00_0_Citronella</th>\n      <td>citronella</td>\n      <td>0.423704</td>\n      <td>0.083843</td>\n      <td>0.379430</td>\n      <td>-0.011456</td>\n      <td>0.097590</td>\n      <td>0.640199</td>\n      <td>0.695688</td>\n      <td>0.670628</td>\n      <td>0.269143</td>\n      <td>0.506330</td>\n      <td>0.251025</td>\n      <td>0.406841</td>\n      <td>1.010089</td>\n      <td>0.882712</td>\n      <td>0.095707</td>\n    </tr>\n    <tr>\n      <th>171016_Citronella 2</th>\n      <td>citronella</td>\n      <td>0.610923</td>\n      <td>0.427451</td>\n      <td>-0.009572</td>\n      <td>0.135995</td>\n      <td>0.637080</td>\n      <td>0.009996</td>\n      <td>0.079676</td>\n      <td>0.021876</td>\n      <td>-0.013304</td>\n      <td>-0.007225</td>\n      <td>-0.015125</td>\n      <td>0.128165</td>\n      <td>0.039962</td>\n      <td>0.047961</td>\n      <td>0.020380</td>\n    </tr>\n    <tr>\n      <th>171016_Citronella 1</th>\n      <td>citronella</td>\n      <td>0.671743</td>\n      <td>0.539444</td>\n      <td>2.572961</td>\n      <td>0.102841</td>\n      <td>0.927985</td>\n      <td>0.578673</td>\n      <td>0.682591</td>\n      <td>0.582773</td>\n      <td>0.211340</td>\n      <td>0.530082</td>\n      <td>0.377056</td>\n      <td>0.601208</td>\n      <td>0.659796</td>\n      <td>0.434064</td>\n      <td>0.096403</td>\n    </tr>\n  </tbody>\n</table>\n</div>"
     },
     "metadata": {},
     "execution_count": 6
    }
   ],
   "source": [
    "sdf = pd.read_pickle(DATA_DIR /'siju-cleaned-expanded-pivot.pkl')\n",
    "\n",
    "s_shape = sdf.shape\n",
    "print(f'Dataframe shape: {s_shape}')\n",
    "print(f'Number of experiments: {s_shape[0]}')\n",
    "\n",
    "sdf.head()"
   ]
  },
  {
   "cell_type": "markdown",
   "metadata": {},
   "source": [
    "# Load Hije Data"
   ]
  },
  {
   "cell_type": "code",
   "execution_count": 7,
   "metadata": {},
   "outputs": [
    {
     "output_type": "stream",
     "name": "stdout",
     "text": [
      "Dataframe shape: (45, 16)\nNumber of experiments: 45\n"
     ]
    },
    {
     "output_type": "execute_result",
     "data": {
      "text/plain": [
       "                   stimulus  MBON dF/F                                   \\\n",
       "lobe                           alpha'1    alpha'2    alpha'3     alpha1   \n",
       "id                                                                        \n",
       "2-heptanone_fly0  heptanone  57.014634  53.449785  14.488461  31.733999   \n",
       "2-heptanone_fly1  heptanone  44.168362  91.255851  17.765559  29.395413   \n",
       "2-heptanone_fly2  heptanone  30.958356  67.175713  19.834570  25.548454   \n",
       "2-heptanone_fly3  heptanone  36.248176  50.087333  18.659880  21.263302   \n",
       "2-heptanone_fly4  heptanone  14.150340  21.817438  11.888643  18.037705   \n",
       "\n",
       "                                                                         \\\n",
       "lobe                 alpha2     alpha3     beta'1     beta'2      beta1   \n",
       "id                                                                        \n",
       "2-heptanone_fly0  35.150185  50.098322  29.570272  25.684328  34.010916   \n",
       "2-heptanone_fly1  28.380873  21.858113  24.830531  16.444911  43.192486   \n",
       "2-heptanone_fly2  31.033140  79.720826  25.744823  17.759295  46.527031   \n",
       "2-heptanone_fly3  20.912131  44.043983  38.035029  10.343638  26.904135   \n",
       "2-heptanone_fly4  17.063540  22.347819  24.288879   5.184545  14.825427   \n",
       "\n",
       "                                                                         \\\n",
       "lobe                  beta2     gamma1     gamma2     gamma3     gamma4   \n",
       "id                                                                        \n",
       "2-heptanone_fly0  11.951235  46.239205  66.086409  42.144978  60.102633   \n",
       "2-heptanone_fly1  27.904354  53.975628  37.821266  47.514654  52.499951   \n",
       "2-heptanone_fly2  22.010365  28.879761  29.721496  39.124175  45.002144   \n",
       "2-heptanone_fly3   5.369238  41.142201  31.954230  70.776622  39.891746   \n",
       "2-heptanone_fly4   9.185952  11.818865  12.767847  37.395544  31.264467   \n",
       "\n",
       "                             \n",
       "lobe                 gamma5  \n",
       "id                           \n",
       "2-heptanone_fly0  11.447692  \n",
       "2-heptanone_fly1   3.998101  \n",
       "2-heptanone_fly2   1.734179  \n",
       "2-heptanone_fly3   0.429397  \n",
       "2-heptanone_fly4  -2.034475  "
      ],
      "text/html": "<div>\n<style scoped>\n    .dataframe tbody tr th:only-of-type {\n        vertical-align: middle;\n    }\n\n    .dataframe tbody tr th {\n        vertical-align: top;\n    }\n\n    .dataframe thead tr th {\n        text-align: left;\n    }\n\n    .dataframe thead tr:last-of-type th {\n        text-align: right;\n    }\n</style>\n<table border=\"1\" class=\"dataframe\">\n  <thead>\n    <tr>\n      <th></th>\n      <th>stimulus</th>\n      <th colspan=\"15\" halign=\"left\">MBON dF/F</th>\n    </tr>\n    <tr>\n      <th>lobe</th>\n      <th></th>\n      <th>alpha'1</th>\n      <th>alpha'2</th>\n      <th>alpha'3</th>\n      <th>alpha1</th>\n      <th>alpha2</th>\n      <th>alpha3</th>\n      <th>beta'1</th>\n      <th>beta'2</th>\n      <th>beta1</th>\n      <th>beta2</th>\n      <th>gamma1</th>\n      <th>gamma2</th>\n      <th>gamma3</th>\n      <th>gamma4</th>\n      <th>gamma5</th>\n    </tr>\n    <tr>\n      <th>id</th>\n      <th></th>\n      <th></th>\n      <th></th>\n      <th></th>\n      <th></th>\n      <th></th>\n      <th></th>\n      <th></th>\n      <th></th>\n      <th></th>\n      <th></th>\n      <th></th>\n      <th></th>\n      <th></th>\n      <th></th>\n      <th></th>\n    </tr>\n  </thead>\n  <tbody>\n    <tr>\n      <th>2-heptanone_fly0</th>\n      <td>heptanone</td>\n      <td>57.014634</td>\n      <td>53.449785</td>\n      <td>14.488461</td>\n      <td>31.733999</td>\n      <td>35.150185</td>\n      <td>50.098322</td>\n      <td>29.570272</td>\n      <td>25.684328</td>\n      <td>34.010916</td>\n      <td>11.951235</td>\n      <td>46.239205</td>\n      <td>66.086409</td>\n      <td>42.144978</td>\n      <td>60.102633</td>\n      <td>11.447692</td>\n    </tr>\n    <tr>\n      <th>2-heptanone_fly1</th>\n      <td>heptanone</td>\n      <td>44.168362</td>\n      <td>91.255851</td>\n      <td>17.765559</td>\n      <td>29.395413</td>\n      <td>28.380873</td>\n      <td>21.858113</td>\n      <td>24.830531</td>\n      <td>16.444911</td>\n      <td>43.192486</td>\n      <td>27.904354</td>\n      <td>53.975628</td>\n      <td>37.821266</td>\n      <td>47.514654</td>\n      <td>52.499951</td>\n      <td>3.998101</td>\n    </tr>\n    <tr>\n      <th>2-heptanone_fly2</th>\n      <td>heptanone</td>\n      <td>30.958356</td>\n      <td>67.175713</td>\n      <td>19.834570</td>\n      <td>25.548454</td>\n      <td>31.033140</td>\n      <td>79.720826</td>\n      <td>25.744823</td>\n      <td>17.759295</td>\n      <td>46.527031</td>\n      <td>22.010365</td>\n      <td>28.879761</td>\n      <td>29.721496</td>\n      <td>39.124175</td>\n      <td>45.002144</td>\n      <td>1.734179</td>\n    </tr>\n    <tr>\n      <th>2-heptanone_fly3</th>\n      <td>heptanone</td>\n      <td>36.248176</td>\n      <td>50.087333</td>\n      <td>18.659880</td>\n      <td>21.263302</td>\n      <td>20.912131</td>\n      <td>44.043983</td>\n      <td>38.035029</td>\n      <td>10.343638</td>\n      <td>26.904135</td>\n      <td>5.369238</td>\n      <td>41.142201</td>\n      <td>31.954230</td>\n      <td>70.776622</td>\n      <td>39.891746</td>\n      <td>0.429397</td>\n    </tr>\n    <tr>\n      <th>2-heptanone_fly4</th>\n      <td>heptanone</td>\n      <td>14.150340</td>\n      <td>21.817438</td>\n      <td>11.888643</td>\n      <td>18.037705</td>\n      <td>17.063540</td>\n      <td>22.347819</td>\n      <td>24.288879</td>\n      <td>5.184545</td>\n      <td>14.825427</td>\n      <td>9.185952</td>\n      <td>11.818865</td>\n      <td>12.767847</td>\n      <td>37.395544</td>\n      <td>31.264467</td>\n      <td>-2.034475</td>\n    </tr>\n  </tbody>\n</table>\n</div>"
     },
     "metadata": {},
     "execution_count": 7
    }
   ],
   "source": [
    "hdf = pd.read_pickle(DATA_DIR /'hije-cleaned-expanded-pivot.pkl')\n",
    "hdf = hdf[['stimulus', 'MBON dF/F']]\n",
    "\n",
    "h_shape = hdf.shape\n",
    "print(f'Dataframe shape: {h_shape}')\n",
    "print(f'Number of experiments: {h_shape[0]}')\n",
    "\n",
    "hdf.head()"
   ]
  },
  {
   "cell_type": "markdown",
   "metadata": {},
   "source": [
    "# Create 'Joining Table'"
   ]
  },
  {
   "cell_type": "code",
   "execution_count": 8,
   "metadata": {},
   "outputs": [
    {
     "output_type": "stream",
     "name": "stdout",
     "text": [
      "['heptanone' 'citronella' 'ethanol' 'hexanol' 'mch' 'octanol' 'peppermint'\n 'vinegar' 'yeast']\n['citronella' 'ethanol' 'heptanone' 'hexanol' 'mch' 'octanol' 'peppermint'\n 'vinegar' 'yeast']\n"
     ]
    }
   ],
   "source": [
    "# Get Stimuli\n",
    "stimuli = hdf.stimulus.unique()\n",
    "\n",
    "print(stimuli)\n",
    "\n",
    "print(sdf.stimulus.unique())\n"
   ]
  },
  {
   "cell_type": "code",
   "execution_count": 13,
   "metadata": {},
   "outputs": [
    {
     "output_type": "stream",
     "name": "stdout",
     "text": [
      "- heptanone\nShape of sdf: (9, 16)\nShape of hdf: (5, 16)\nNumber of combinations: 45\n- citronella\nShape of sdf: (11, 16)\nShape of hdf: (5, 16)\nNumber of combinations: 55\n- ethanol\nShape of sdf: (6, 16)\nShape of hdf: (5, 16)\nNumber of combinations: 30\n- hexanol\nShape of sdf: (8, 16)\nShape of hdf: (5, 16)\nNumber of combinations: 40\n- mch\nShape of sdf: (11, 16)\nShape of hdf: (5, 16)\nNumber of combinations: 55\n- octanol\nShape of sdf: (8, 16)\nShape of hdf: (5, 16)\nNumber of combinations: 40\n- peppermint\nShape of sdf: (12, 16)\nShape of hdf: (5, 16)\nNumber of combinations: 60\n- vinegar\nShape of sdf: (11, 16)\nShape of hdf: (5, 16)\nNumber of combinations: 55\n- yeast\nShape of sdf: (14, 16)\nShape of hdf: (5, 16)\nNumber of combinations: 70\n\nAll possible combinations: 450\n"
     ]
    }
   ],
   "source": [
    "# Using the the unique row indices, create a 'joining table' containing all possible combinations\n",
    "# of DAN-MBON data points for each of the odors. This is neccesary since the flies used to get the DAN\n",
    "# data were different to those used for the MBON data.\n",
    "\n",
    "join_tab = []\n",
    "datum_per_stim = []\n",
    "\n",
    "for stim in stimuli:\n",
    "    sdf_stim = sdf[sdf['stimulus'] == stim]\n",
    "    hdf_stim = hdf[hdf['stimulus'] == stim]\n",
    "\n",
    "    print(f'- {stim}')\n",
    "    print(f'Shape of sdf: {sdf_stim.shape}')\n",
    "    print(f'Shape of hdf: {hdf_stim.shape}')\n",
    "\n",
    "    combinations = list(product(sdf_stim.index, hdf_stim.index))\n",
    "    print(f'Number of combinations: {len(combinations)}')\n",
    "\n",
    "    datum_per_stim.append(len(combinations))\n",
    "    \n",
    "    join_tab.extend(combinations)\n",
    "\n",
    "print(f'\\nAll possible combinations: {len(join_tab)}')"
   ]
  },
  {
   "cell_type": "code",
   "execution_count": 17,
   "metadata": {},
   "outputs": [
    {
     "output_type": "display_data",
     "data": {
      "text/plain": "<Figure size 432x288 with 1 Axes>",
      "image/svg+xml": "<?xml version=\"1.0\" encoding=\"utf-8\" standalone=\"no\"?>\n<!DOCTYPE svg PUBLIC \"-//W3C//DTD SVG 1.1//EN\"\n  \"http://www.w3.org/Graphics/SVG/1.1/DTD/svg11.dtd\">\n<!-- Created with matplotlib (https://matplotlib.org/) -->\n<svg height=\"231.84pt\" version=\"1.1\" viewBox=\"0 0 328.548835 231.84\" width=\"328.548835pt\" xmlns=\"http://www.w3.org/2000/svg\" xmlns:xlink=\"http://www.w3.org/1999/xlink\">\n <metadata>\n  <rdf:RDF xmlns:cc=\"http://creativecommons.org/ns#\" xmlns:dc=\"http://purl.org/dc/elements/1.1/\" xmlns:rdf=\"http://www.w3.org/1999/02/22-rdf-syntax-ns#\">\n   <cc:Work>\n    <dc:type rdf:resource=\"http://purl.org/dc/dcmitype/StillImage\"/>\n    <dc:date>2021-04-09T17:44:40.290516</dc:date>\n    <dc:format>image/svg+xml</dc:format>\n    <dc:creator>\n     <cc:Agent>\n      <dc:title>Matplotlib v3.3.2, https://matplotlib.org/</dc:title>\n     </cc:Agent>\n    </dc:creator>\n   </cc:Work>\n  </rdf:RDF>\n </metadata>\n <defs>\n  <style type=\"text/css\">*{stroke-linecap:butt;stroke-linejoin:round;}</style>\n </defs>\n <g id=\"figure_1\">\n  <g id=\"patch_1\">\n   <path d=\"M 0 231.84 \nL 328.548835 231.84 \nL 328.548835 0 \nL 0 0 \nz\n\" style=\"fill:#ffffff;\"/>\n  </g>\n  <g id=\"axes_1\">\n   <g id=\"matplotlib.axis_1\"/>\n   <g id=\"matplotlib.axis_2\"/>\n   <g id=\"patch_2\">\n    <path d=\"M 239.345553 115.92 \nC 239.345553 106.793208 237.908979 97.723033 235.088645 89.042938 \nC 232.268311 80.362842 228.099209 72.180519 222.734615 64.796789 \nL 152.369553 115.92 \nL 239.345553 115.92 \nz\n\" style=\"fill:#1f77b4;stroke:#ffffff;stroke-linejoin:miter;\"/>\n   </g>\n   <g id=\"patch_3\">\n    <path d=\"M 222.734615 64.796789 \nC 216.171281 55.763136 207.929293 48.077358 198.45981 42.160168 \nC 188.990328 36.242979 178.469346 32.204353 167.472776 30.265361 \nL 152.369553 115.92 \nL 222.734615 64.796789 \nz\n\" style=\"fill:#ff7f0e;stroke:#ffffff;stroke-linejoin:miter;\"/>\n   </g>\n   <g id=\"patch_4\">\n    <path d=\"M 167.472776 30.265361 \nC 161.487494 29.209994 155.408044 28.784878 149.334133 28.996983 \nC 143.260221 29.209089 137.225235 30.057251 131.328152 31.52756 \nL 152.369553 115.92 \nL 167.472776 30.265361 \nz\n\" style=\"fill:#2ca02c;stroke:#ffffff;stroke-linejoin:miter;\"/>\n   </g>\n   <g id=\"patch_5\">\n    <path d=\"M 131.328152 31.52756 \nC 123.459806 33.489359 115.904344 36.541964 108.88155 40.596576 \nC 101.858756 44.651189 95.437392 49.668108 89.804252 55.501396 \nL 152.369553 115.92 \nL 131.328152 31.52756 \nz\n\" style=\"fill:#d62728;stroke:#ffffff;stroke-linejoin:miter;\"/>\n   </g>\n   <g id=\"patch_6\">\n    <path d=\"M 89.804252 55.501396 \nC 82.047551 63.533696 75.909744 72.985091 71.726809 83.338221 \nC 67.543873 93.69135 65.393553 104.753795 65.393553 115.920004 \nL 152.369553 115.92 \nL 89.804252 55.501396 \nz\n\" style=\"fill:#9467bd;stroke:#ffffff;stroke-linejoin:miter;\"/>\n   </g>\n   <g id=\"patch_7\">\n    <path d=\"M 65.393553 115.920004 \nC 65.393553 124.029228 66.527652 132.098752 68.762857 139.893839 \nC 70.998063 147.688926 74.31249 155.13325 78.609725 162.010262 \nL 152.369553 115.92 \nL 65.393553 115.920004 \nz\n\" style=\"fill:#8c564b;stroke:#ffffff;stroke-linejoin:miter;\"/>\n   </g>\n   <g id=\"patch_8\">\n    <path d=\"M 78.609725 162.010262 \nC 85.068571 172.346576 93.628589 181.210733 103.733197 188.026376 \nC 113.837805 194.842019 125.263148 199.458156 137.266338 201.574641 \nL 152.369553 115.92 \nL 78.609725 162.010262 \nz\n\" style=\"fill:#e377c2;stroke:#ffffff;stroke-linejoin:miter;\"/>\n   </g>\n   <g id=\"patch_9\">\n    <path d=\"M 137.266338 201.574641 \nC 148.262908 203.513631 159.530688 203.31695 170.452889 200.995364 \nC 181.37509 198.673777 191.748716 194.270433 201.005923 188.026367 \nL 152.369553 115.92 \nL 137.266338 201.574641 \nz\n\" style=\"fill:#7f7f7f;stroke:#ffffff;stroke-linejoin:miter;\"/>\n   </g>\n   <g id=\"patch_10\">\n    <path d=\"M 201.005923 188.026367 \nC 212.809989 180.064422 222.480343 169.324403 229.164808 156.752749 \nC 235.849273 144.181096 239.345555 130.158265 239.345553 115.919988 \nL 152.369553 115.92 \nL 201.005923 188.026367 \nz\n\" style=\"fill:#bcbd22;stroke:#ffffff;stroke-linejoin:miter;\"/>\n   </g>\n   <g id=\"text_1\">\n    <!-- heptanone -->\n    <g style=\"fill:#262626;\" transform=\"translate(243.360554 90.620739)scale(0.165 -0.165)\">\n     <defs>\n      <path d=\"M 6.59375 0 \nL 6.59375 71.578125 \nL 15.375 71.578125 \nL 15.375 45.90625 \nQ 21.53125 53.03125 30.90625 53.03125 \nQ 36.671875 53.03125 40.921875 50.75 \nQ 45.171875 48.484375 47 44.484375 \nQ 48.828125 40.484375 48.828125 32.859375 \nL 48.828125 0 \nL 40.046875 0 \nL 40.046875 32.859375 \nQ 40.046875 39.453125 37.1875 42.453125 \nQ 34.328125 45.453125 29.109375 45.453125 \nQ 25.203125 45.453125 21.75 43.421875 \nQ 18.3125 41.40625 16.84375 37.9375 \nQ 15.375 34.46875 15.375 28.375 \nL 15.375 0 \nz\n\" id=\"ArialMT-104\"/>\n      <path d=\"M 42.09375 16.703125 \nL 51.171875 15.578125 \nQ 49.03125 7.625 43.21875 3.21875 \nQ 37.40625 -1.171875 28.375 -1.171875 \nQ 17 -1.171875 10.328125 5.828125 \nQ 3.65625 12.84375 3.65625 25.484375 \nQ 3.65625 38.578125 10.390625 45.796875 \nQ 17.140625 53.03125 27.875 53.03125 \nQ 38.28125 53.03125 44.875 45.953125 \nQ 51.46875 38.875 51.46875 26.03125 \nQ 51.46875 25.25 51.421875 23.6875 \nL 12.75 23.6875 \nQ 13.234375 15.140625 17.578125 10.59375 \nQ 21.921875 6.0625 28.421875 6.0625 \nQ 33.25 6.0625 36.671875 8.59375 \nQ 40.09375 11.140625 42.09375 16.703125 \nz\nM 13.234375 30.90625 \nL 42.1875 30.90625 \nQ 41.609375 37.453125 38.875 40.71875 \nQ 34.671875 45.796875 27.984375 45.796875 \nQ 21.921875 45.796875 17.796875 41.75 \nQ 13.671875 37.703125 13.234375 30.90625 \nz\n\" id=\"ArialMT-101\"/>\n      <path d=\"M 6.59375 -19.875 \nL 6.59375 51.859375 \nL 14.59375 51.859375 \nL 14.59375 45.125 \nQ 17.4375 49.078125 21 51.046875 \nQ 24.5625 53.03125 29.640625 53.03125 \nQ 36.28125 53.03125 41.359375 49.609375 \nQ 46.4375 46.1875 49.015625 39.953125 \nQ 51.609375 33.734375 51.609375 26.3125 \nQ 51.609375 18.359375 48.75 11.984375 \nQ 45.90625 5.609375 40.453125 2.21875 \nQ 35.015625 -1.171875 29 -1.171875 \nQ 24.609375 -1.171875 21.109375 0.6875 \nQ 17.625 2.546875 15.375 5.375 \nL 15.375 -19.875 \nz\nM 14.546875 25.640625 \nQ 14.546875 15.625 18.59375 10.84375 \nQ 22.65625 6.0625 28.421875 6.0625 \nQ 34.28125 6.0625 38.453125 11.015625 \nQ 42.625 15.96875 42.625 26.375 \nQ 42.625 36.28125 38.546875 41.203125 \nQ 34.46875 46.140625 28.8125 46.140625 \nQ 23.1875 46.140625 18.859375 40.890625 \nQ 14.546875 35.640625 14.546875 25.640625 \nz\n\" id=\"ArialMT-112\"/>\n      <path d=\"M 25.78125 7.859375 \nL 27.046875 0.09375 \nQ 23.34375 -0.6875 20.40625 -0.6875 \nQ 15.625 -0.6875 12.984375 0.828125 \nQ 10.359375 2.34375 9.28125 4.8125 \nQ 8.203125 7.28125 8.203125 15.1875 \nL 8.203125 45.015625 \nL 1.765625 45.015625 \nL 1.765625 51.859375 \nL 8.203125 51.859375 \nL 8.203125 64.703125 \nL 16.9375 69.96875 \nL 16.9375 51.859375 \nL 25.78125 51.859375 \nL 25.78125 45.015625 \nL 16.9375 45.015625 \nL 16.9375 14.703125 \nQ 16.9375 10.9375 17.40625 9.859375 \nQ 17.875 8.796875 18.921875 8.15625 \nQ 19.96875 7.515625 21.921875 7.515625 \nQ 23.390625 7.515625 25.78125 7.859375 \nz\n\" id=\"ArialMT-116\"/>\n      <path d=\"M 40.4375 6.390625 \nQ 35.546875 2.25 31.03125 0.53125 \nQ 26.515625 -1.171875 21.34375 -1.171875 \nQ 12.796875 -1.171875 8.203125 3 \nQ 3.609375 7.171875 3.609375 13.671875 \nQ 3.609375 17.484375 5.34375 20.625 \nQ 7.078125 23.78125 9.890625 25.6875 \nQ 12.703125 27.59375 16.21875 28.5625 \nQ 18.796875 29.25 24.03125 29.890625 \nQ 34.671875 31.15625 39.703125 32.90625 \nQ 39.75 34.71875 39.75 35.203125 \nQ 39.75 40.578125 37.25 42.78125 \nQ 33.890625 45.75 27.25 45.75 \nQ 21.046875 45.75 18.09375 43.578125 \nQ 15.140625 41.40625 13.71875 35.890625 \nL 5.125 37.0625 \nQ 6.296875 42.578125 8.984375 45.96875 \nQ 11.671875 49.359375 16.75 51.1875 \nQ 21.828125 53.03125 28.515625 53.03125 \nQ 35.15625 53.03125 39.296875 51.46875 \nQ 43.453125 49.90625 45.40625 47.53125 \nQ 47.359375 45.171875 48.140625 41.546875 \nQ 48.578125 39.3125 48.578125 33.453125 \nL 48.578125 21.734375 \nQ 48.578125 9.46875 49.140625 6.21875 \nQ 49.703125 2.984375 51.375 0 \nL 42.1875 0 \nQ 40.828125 2.734375 40.4375 6.390625 \nz\nM 39.703125 26.03125 \nQ 34.90625 24.078125 25.34375 22.703125 \nQ 19.921875 21.921875 17.671875 20.9375 \nQ 15.4375 19.96875 14.203125 18.09375 \nQ 12.984375 16.21875 12.984375 13.921875 \nQ 12.984375 10.40625 15.640625 8.0625 \nQ 18.3125 5.71875 23.4375 5.71875 \nQ 28.515625 5.71875 32.46875 7.9375 \nQ 36.421875 10.15625 38.28125 14.015625 \nQ 39.703125 17 39.703125 22.796875 \nz\n\" id=\"ArialMT-97\"/>\n      <path d=\"M 6.59375 0 \nL 6.59375 51.859375 \nL 14.5 51.859375 \nL 14.5 44.484375 \nQ 20.21875 53.03125 31 53.03125 \nQ 35.6875 53.03125 39.625 51.34375 \nQ 43.5625 49.65625 45.515625 46.921875 \nQ 47.46875 44.1875 48.25 40.4375 \nQ 48.734375 37.984375 48.734375 31.890625 \nL 48.734375 0 \nL 39.9375 0 \nL 39.9375 31.546875 \nQ 39.9375 36.921875 38.90625 39.578125 \nQ 37.890625 42.234375 35.28125 43.8125 \nQ 32.671875 45.40625 29.15625 45.40625 \nQ 23.53125 45.40625 19.453125 41.84375 \nQ 15.375 38.28125 15.375 28.328125 \nL 15.375 0 \nz\n\" id=\"ArialMT-110\"/>\n      <path d=\"M 3.328125 25.921875 \nQ 3.328125 40.328125 11.328125 47.265625 \nQ 18.015625 53.03125 27.640625 53.03125 \nQ 38.328125 53.03125 45.109375 46.015625 \nQ 51.90625 39.015625 51.90625 26.65625 \nQ 51.90625 16.65625 48.90625 10.90625 \nQ 45.90625 5.171875 40.15625 2 \nQ 34.421875 -1.171875 27.640625 -1.171875 \nQ 16.75 -1.171875 10.03125 5.8125 \nQ 3.328125 12.796875 3.328125 25.921875 \nz\nM 12.359375 25.921875 \nQ 12.359375 15.96875 16.703125 11.015625 \nQ 21.046875 6.0625 27.640625 6.0625 \nQ 34.1875 6.0625 38.53125 11.03125 \nQ 42.875 16.015625 42.875 26.21875 \nQ 42.875 35.84375 38.5 40.796875 \nQ 34.125 45.75 27.640625 45.75 \nQ 21.046875 45.75 16.703125 40.8125 \nQ 12.359375 35.890625 12.359375 25.921875 \nz\n\" id=\"ArialMT-111\"/>\n     </defs>\n     <use xlink:href=\"#ArialMT-104\"/>\n     <use x=\"55.615234\" xlink:href=\"#ArialMT-101\"/>\n     <use x=\"111.230469\" xlink:href=\"#ArialMT-112\"/>\n     <use x=\"166.845703\" xlink:href=\"#ArialMT-116\"/>\n     <use x=\"194.628906\" xlink:href=\"#ArialMT-97\"/>\n     <use x=\"250.244141\" xlink:href=\"#ArialMT-110\"/>\n     <use x=\"305.859375\" xlink:href=\"#ArialMT-111\"/>\n     <use x=\"361.474609\" xlink:href=\"#ArialMT-110\"/>\n     <use x=\"417.089844\" xlink:href=\"#ArialMT-101\"/>\n    </g>\n   </g>\n   <g id=\"text_2\">\n    <!-- citronella -->\n    <g style=\"fill:#262626;\" transform=\"translate(203.068836 39.049693)scale(0.165 -0.165)\">\n     <defs>\n      <path d=\"M 40.4375 19 \nL 49.078125 17.875 \nQ 47.65625 8.9375 41.8125 3.875 \nQ 35.984375 -1.171875 27.484375 -1.171875 \nQ 16.84375 -1.171875 10.375 5.78125 \nQ 3.90625 12.75 3.90625 25.734375 \nQ 3.90625 34.125 6.6875 40.421875 \nQ 9.46875 46.734375 15.15625 49.875 \nQ 20.84375 53.03125 27.546875 53.03125 \nQ 35.984375 53.03125 41.359375 48.75 \nQ 46.734375 44.484375 48.25 36.625 \nL 39.703125 35.296875 \nQ 38.484375 40.53125 35.375 43.15625 \nQ 32.28125 45.796875 27.875 45.796875 \nQ 21.234375 45.796875 17.078125 41.03125 \nQ 12.9375 36.28125 12.9375 25.984375 \nQ 12.9375 15.53125 16.9375 10.796875 \nQ 20.953125 6.0625 27.390625 6.0625 \nQ 32.5625 6.0625 36.03125 9.234375 \nQ 39.5 12.40625 40.4375 19 \nz\n\" id=\"ArialMT-99\"/>\n      <path d=\"M 6.640625 61.46875 \nL 6.640625 71.578125 \nL 15.4375 71.578125 \nL 15.4375 61.46875 \nz\nM 6.640625 0 \nL 6.640625 51.859375 \nL 15.4375 51.859375 \nL 15.4375 0 \nz\n\" id=\"ArialMT-105\"/>\n      <path d=\"M 6.5 0 \nL 6.5 51.859375 \nL 14.40625 51.859375 \nL 14.40625 44 \nQ 17.4375 49.515625 20 51.265625 \nQ 22.5625 53.03125 25.640625 53.03125 \nQ 30.078125 53.03125 34.671875 50.203125 \nL 31.640625 42.046875 \nQ 28.421875 43.953125 25.203125 43.953125 \nQ 22.3125 43.953125 20.015625 42.21875 \nQ 17.71875 40.484375 16.75 37.40625 \nQ 15.28125 32.71875 15.28125 27.15625 \nL 15.28125 0 \nz\n\" id=\"ArialMT-114\"/>\n      <path d=\"M 6.390625 0 \nL 6.390625 71.578125 \nL 15.1875 71.578125 \nL 15.1875 0 \nz\n\" id=\"ArialMT-108\"/>\n     </defs>\n     <use xlink:href=\"#ArialMT-99\"/>\n     <use x=\"50\" xlink:href=\"#ArialMT-105\"/>\n     <use x=\"72.216797\" xlink:href=\"#ArialMT-116\"/>\n     <use x=\"100\" xlink:href=\"#ArialMT-114\"/>\n     <use x=\"133.300781\" xlink:href=\"#ArialMT-111\"/>\n     <use x=\"188.916016\" xlink:href=\"#ArialMT-110\"/>\n     <use x=\"244.53125\" xlink:href=\"#ArialMT-101\"/>\n     <use x=\"300.146484\" xlink:href=\"#ArialMT-108\"/>\n     <use x=\"322.363281\" xlink:href=\"#ArialMT-108\"/>\n     <use x=\"344.580078\" xlink:href=\"#ArialMT-97\"/>\n    </g>\n   </g>\n   <g id=\"text_3\">\n    <!-- ethanol -->\n    <g style=\"fill:#262626;\" transform=\"translate(94.902856 24.57019)scale(0.165 -0.165)\">\n     <use xlink:href=\"#ArialMT-101\"/>\n     <use x=\"55.615234\" xlink:href=\"#ArialMT-116\"/>\n     <use x=\"83.398438\" xlink:href=\"#ArialMT-104\"/>\n     <use x=\"139.013672\" xlink:href=\"#ArialMT-97\"/>\n     <use x=\"194.628906\" xlink:href=\"#ArialMT-110\"/>\n     <use x=\"250.244141\" xlink:href=\"#ArialMT-111\"/>\n     <use x=\"305.859375\" xlink:href=\"#ArialMT-108\"/>\n    </g>\n   </g>\n   <g id=\"text_4\">\n    <!-- hexanol -->\n    <g style=\"fill:#262626;\" transform=\"translate(46.738922 37.329742)scale(0.165 -0.165)\">\n     <defs>\n      <path d=\"M 0.734375 0 \nL 19.671875 26.953125 \nL 2.15625 51.859375 \nL 13.140625 51.859375 \nL 21.09375 39.703125 \nQ 23.34375 36.234375 24.703125 33.890625 \nQ 26.859375 37.109375 28.65625 39.59375 \nL 37.40625 51.859375 \nL 47.90625 51.859375 \nL 29.984375 27.4375 \nL 49.265625 0 \nL 38.484375 0 \nL 27.828125 16.109375 \nL 25 20.453125 \nL 11.375 0 \nz\n\" id=\"ArialMT-120\"/>\n     </defs>\n     <use xlink:href=\"#ArialMT-104\"/>\n     <use x=\"55.615234\" xlink:href=\"#ArialMT-101\"/>\n     <use x=\"111.230469\" xlink:href=\"#ArialMT-120\"/>\n     <use x=\"161.230469\" xlink:href=\"#ArialMT-97\"/>\n     <use x=\"216.845703\" xlink:href=\"#ArialMT-110\"/>\n     <use x=\"272.460938\" xlink:href=\"#ArialMT-111\"/>\n     <use x=\"328.076172\" xlink:href=\"#ArialMT-108\"/>\n    </g>\n   </g>\n   <g id=\"text_5\">\n    <!-- mch -->\n    <g style=\"fill:#262626;\" transform=\"translate(32.493003 84.345551)scale(0.165 -0.165)\">\n     <defs>\n      <path d=\"M 6.59375 0 \nL 6.59375 51.859375 \nL 14.453125 51.859375 \nL 14.453125 44.578125 \nQ 16.890625 48.390625 20.9375 50.703125 \nQ 25 53.03125 30.171875 53.03125 \nQ 35.9375 53.03125 39.625 50.640625 \nQ 43.3125 48.25 44.828125 43.953125 \nQ 50.984375 53.03125 60.84375 53.03125 \nQ 68.5625 53.03125 72.703125 48.75 \nQ 76.859375 44.484375 76.859375 35.59375 \nL 76.859375 0 \nL 68.109375 0 \nL 68.109375 32.671875 \nQ 68.109375 37.9375 67.25 40.25 \nQ 66.40625 42.578125 64.15625 43.984375 \nQ 61.921875 45.40625 58.890625 45.40625 \nQ 53.421875 45.40625 49.796875 41.765625 \nQ 46.1875 38.140625 46.1875 30.125 \nL 46.1875 0 \nL 37.40625 0 \nL 37.40625 33.6875 \nQ 37.40625 39.546875 35.25 42.46875 \nQ 33.109375 45.40625 28.21875 45.40625 \nQ 24.515625 45.40625 21.359375 43.453125 \nQ 18.21875 41.5 16.796875 37.734375 \nQ 15.375 33.984375 15.375 26.90625 \nL 15.375 0 \nz\n\" id=\"ArialMT-109\"/>\n     </defs>\n     <use xlink:href=\"#ArialMT-109\"/>\n     <use x=\"83.300781\" xlink:href=\"#ArialMT-99\"/>\n     <use x=\"133.300781\" xlink:href=\"#ArialMT-104\"/>\n    </g>\n   </g>\n   <g id=\"text_6\">\n    <!-- octanol -->\n    <g style=\"fill:#262626;\" transform=\"translate(7.2 146.556731)scale(0.165 -0.165)\">\n     <use xlink:href=\"#ArialMT-111\"/>\n     <use x=\"55.615234\" xlink:href=\"#ArialMT-99\"/>\n     <use x=\"105.615234\" xlink:href=\"#ArialMT-116\"/>\n     <use x=\"133.398438\" xlink:href=\"#ArialMT-97\"/>\n     <use x=\"189.013672\" xlink:href=\"#ArialMT-110\"/>\n     <use x=\"244.628906\" xlink:href=\"#ArialMT-111\"/>\n     <use x=\"300.244141\" xlink:href=\"#ArialMT-108\"/>\n    </g>\n   </g>\n   <g id=\"text_7\">\n    <!-- peppermint -->\n    <g style=\"fill:#262626;\" transform=\"translate(16.328311 199.502521)scale(0.165 -0.165)\">\n     <use xlink:href=\"#ArialMT-112\"/>\n     <use x=\"55.615234\" xlink:href=\"#ArialMT-101\"/>\n     <use x=\"111.230469\" xlink:href=\"#ArialMT-112\"/>\n     <use x=\"166.845703\" xlink:href=\"#ArialMT-112\"/>\n     <use x=\"222.460938\" xlink:href=\"#ArialMT-101\"/>\n     <use x=\"278.076172\" xlink:href=\"#ArialMT-114\"/>\n     <use x=\"311.376953\" xlink:href=\"#ArialMT-109\"/>\n     <use x=\"394.677734\" xlink:href=\"#ArialMT-105\"/>\n     <use x=\"416.894531\" xlink:href=\"#ArialMT-110\"/>\n     <use x=\"472.509766\" xlink:href=\"#ArialMT-116\"/>\n    </g>\n   </g>\n   <g id=\"text_8\">\n    <!-- vinegar -->\n    <g style=\"fill:#262626;\" transform=\"translate(172.261223 213.671728)scale(0.165 -0.165)\">\n     <defs>\n      <path d=\"M 21 0 \nL 1.265625 51.859375 \nL 10.546875 51.859375 \nL 21.6875 20.796875 \nQ 23.484375 15.765625 25 10.359375 \nQ 26.171875 14.453125 28.265625 20.21875 \nL 39.796875 51.859375 \nL 48.828125 51.859375 \nL 29.203125 0 \nz\n\" id=\"ArialMT-118\"/>\n      <path d=\"M 4.984375 -4.296875 \nL 13.53125 -5.5625 \nQ 14.0625 -9.515625 16.5 -11.328125 \nQ 19.78125 -13.765625 25.4375 -13.765625 \nQ 31.546875 -13.765625 34.859375 -11.328125 \nQ 38.1875 -8.890625 39.359375 -4.5 \nQ 40.046875 -1.8125 39.984375 6.78125 \nQ 34.234375 0 25.640625 0 \nQ 14.9375 0 9.078125 7.71875 \nQ 3.21875 15.4375 3.21875 26.21875 \nQ 3.21875 33.640625 5.90625 39.90625 \nQ 8.59375 46.1875 13.6875 49.609375 \nQ 18.796875 53.03125 25.6875 53.03125 \nQ 34.859375 53.03125 40.828125 45.609375 \nL 40.828125 51.859375 \nL 48.921875 51.859375 \nL 48.921875 7.03125 \nQ 48.921875 -5.078125 46.453125 -10.125 \nQ 44 -15.1875 38.640625 -18.109375 \nQ 33.296875 -21.046875 25.484375 -21.046875 \nQ 16.21875 -21.046875 10.5 -16.875 \nQ 4.78125 -12.703125 4.984375 -4.296875 \nz\nM 12.25 26.859375 \nQ 12.25 16.65625 16.296875 11.96875 \nQ 20.359375 7.28125 26.46875 7.28125 \nQ 32.515625 7.28125 36.609375 11.9375 \nQ 40.71875 16.609375 40.71875 26.5625 \nQ 40.71875 36.078125 36.5 40.90625 \nQ 32.28125 45.75 26.3125 45.75 \nQ 20.453125 45.75 16.34375 40.984375 \nQ 12.25 36.234375 12.25 26.859375 \nz\n\" id=\"ArialMT-103\"/>\n     </defs>\n     <use xlink:href=\"#ArialMT-118\"/>\n     <use x=\"50\" xlink:href=\"#ArialMT-105\"/>\n     <use x=\"72.216797\" xlink:href=\"#ArialMT-110\"/>\n     <use x=\"127.832031\" xlink:href=\"#ArialMT-101\"/>\n     <use x=\"183.447266\" xlink:href=\"#ArialMT-103\"/>\n     <use x=\"239.0625\" xlink:href=\"#ArialMT-97\"/>\n     <use x=\"294.677734\" xlink:href=\"#ArialMT-114\"/>\n    </g>\n   </g>\n   <g id=\"text_9\">\n    <!-- yeast -->\n    <g style=\"fill:#262626;\" transform=\"translate(236.844333 164.908173)scale(0.165 -0.165)\">\n     <defs>\n      <path d=\"M 6.203125 -19.96875 \nL 5.21875 -11.71875 \nQ 8.109375 -12.5 10.25 -12.5 \nQ 13.1875 -12.5 14.9375 -11.515625 \nQ 16.703125 -10.546875 17.828125 -8.796875 \nQ 18.65625 -7.46875 20.515625 -2.25 \nQ 20.75 -1.515625 21.296875 -0.09375 \nL 1.609375 51.859375 \nL 11.078125 51.859375 \nL 21.875 21.828125 \nQ 23.96875 16.109375 25.640625 9.8125 \nQ 27.15625 15.875 29.25 21.625 \nL 40.328125 51.859375 \nL 49.125 51.859375 \nL 29.390625 -0.875 \nQ 26.21875 -9.421875 24.46875 -12.640625 \nQ 22.125 -17 19.09375 -19.015625 \nQ 16.0625 -21.046875 11.859375 -21.046875 \nQ 9.328125 -21.046875 6.203125 -19.96875 \nz\n\" id=\"ArialMT-121\"/>\n      <path d=\"M 3.078125 15.484375 \nL 11.765625 16.84375 \nQ 12.5 11.625 15.84375 8.84375 \nQ 19.1875 6.0625 25.203125 6.0625 \nQ 31.25 6.0625 34.171875 8.515625 \nQ 37.109375 10.984375 37.109375 14.3125 \nQ 37.109375 17.28125 34.515625 19 \nQ 32.71875 20.171875 25.53125 21.96875 \nQ 15.875 24.421875 12.140625 26.203125 \nQ 8.40625 27.984375 6.46875 31.125 \nQ 4.546875 34.28125 4.546875 38.09375 \nQ 4.546875 41.546875 6.125 44.5 \nQ 7.71875 47.46875 10.453125 49.421875 \nQ 12.5 50.921875 16.03125 51.96875 \nQ 19.578125 53.03125 23.640625 53.03125 \nQ 29.734375 53.03125 34.34375 51.265625 \nQ 38.96875 49.515625 41.15625 46.5 \nQ 43.359375 43.5 44.1875 38.484375 \nL 35.59375 37.3125 \nQ 35.015625 41.3125 32.203125 43.546875 \nQ 29.390625 45.796875 24.265625 45.796875 \nQ 18.21875 45.796875 15.625 43.796875 \nQ 13.03125 41.796875 13.03125 39.109375 \nQ 13.03125 37.40625 14.109375 36.03125 \nQ 15.1875 34.625 17.484375 33.6875 \nQ 18.796875 33.203125 25.25 31.453125 \nQ 34.578125 28.953125 38.25 27.359375 \nQ 41.9375 25.78125 44.03125 22.75 \nQ 46.140625 19.734375 46.140625 15.234375 \nQ 46.140625 10.84375 43.578125 6.953125 \nQ 41.015625 3.078125 36.171875 0.953125 \nQ 31.34375 -1.171875 25.25 -1.171875 \nQ 15.140625 -1.171875 9.84375 3.03125 \nQ 4.546875 7.234375 3.078125 15.484375 \nz\n\" id=\"ArialMT-115\"/>\n     </defs>\n     <use xlink:href=\"#ArialMT-121\"/>\n     <use x=\"50\" xlink:href=\"#ArialMT-101\"/>\n     <use x=\"105.615234\" xlink:href=\"#ArialMT-97\"/>\n     <use x=\"161.230469\" xlink:href=\"#ArialMT-115\"/>\n     <use x=\"211.230469\" xlink:href=\"#ArialMT-116\"/>\n    </g>\n   </g>\n  </g>\n </g>\n</svg>\n",
      "image/png": "[encoded data removed]"
     },
     "metadata": {}
    }
   ],
   "source": [
    "# Check that the dataset is relatively well balanced\n",
    "\n",
    "plt.pie(datum_per_stim, labels=stimuli)\n",
    "plt.show()"
   ]
  },
  {
   "source": [
    "Each datapoint is now a tuple:\n",
    "(\"DAN id\", \"MBON id\")"
   ],
   "cell_type": "markdown",
   "metadata": {}
  },
  {
   "cell_type": "code",
   "execution_count": 20,
   "metadata": {},
   "outputs": [
    {
     "output_type": "stream",
     "name": "stdout",
     "text": [
      "The 100th data point looks like: ('181214a_TH58E02G6f_ST00_1_Ethanol', 'ethanol_fly0')\n\nThe DAN data with id 181214a_TH58E02G6f_ST00_1_Ethanol is:\n[0.2195584235860149 0.2294227266991938 1.8297317270905022 0.28516870958161\n 0.3021907647065587 0.43358365464528753 2.0095193813803194\n 0.5191058720435044 0.29907913832380467 0.7371017931489893\n 0.28535458760703214 0.5301529346261852 0.8566485985831983\n 0.6035951332534931 0.05251213612245484]\n\nThe MBON data with id ethanol_fly0 is:\n[40.10214899939467 25.657453562824543 17.4808562879505 20.465026081514782\n 9.073939653716906 45.5018239869886 22.746210967683105 13.711930953905817\n 20.375914737353458 20.922901146974205 43.47091272065403\n 44.156373943023326 20.59049078092252 25.409393203596448\n 1.5976875303586093]\n"
     ]
    }
   ],
   "source": [
    "# What does a data point now look like\n",
    "i = 100\n",
    "print(f'The {i}th data point looks like: {join_tab[i]}')\n",
    "\n",
    "# Extract row of DAN data using id (ignore the first column which is the stimulus)\n",
    "DAN_x = sdf.loc[join_tab[i][0]].values[1:]\n",
    "print(f'\\nThe DAN data with id {join_tab[i][0]} is:\\n{DAN_x}')\n",
    "\n",
    "MBON_y = hdf.loc[join_tab[i][1]].values[1:]\n",
    "print(f'\\nThe MBON data with id {join_tab[i][1]} is:\\n{MBON_y}')"
   ]
  },
  {
   "source": [
    "## Build Data Matrices from Joining Table"
   ],
   "cell_type": "markdown",
   "metadata": {}
  },
  {
   "cell_type": "code",
   "execution_count": 21,
   "metadata": {},
   "outputs": [],
   "source": [
    "def normalise(A: np.ndarray)->np.ndarray:\n",
    "    mini = A.min()\n",
    "    maxi = A.max()\n",
    "    \n",
    "    if mini < 0:\n",
    "        return (A - mini)/(maxi - mini)\n",
    "    \n",
    "    return A/maxi"
   ]
  },
  {
   "cell_type": "code",
   "execution_count": 36,
   "metadata": {},
   "outputs": [],
   "source": [
    "X = np.zeros([len(join_tab), 15])\n",
    "Y = np.zeros([len(join_tab), 15])\n",
    "\n",
    "for i, idx_pair in enumerate(join_tab):\n",
    "    X[i, :] = sdf.loc[idx_pair[0]].values[1:]\n",
    "    Y[i, :] = hdf.loc[idx_pair[1]].values[1:]"
   ]
  },
  {
   "cell_type": "code",
   "execution_count": 37,
   "metadata": {},
   "outputs": [],
   "source": [
    "X_n = normalise(X)\n",
    "Y_n = normalise(Y)"
   ]
  },
  {
   "source": [
    "### Linear fit for each of the lobes"
   ],
   "cell_type": "markdown",
   "metadata": {}
  },
  {
   "cell_type": "code",
   "execution_count": 50,
   "metadata": {},
   "outputs": [
    {
     "output_type": "stream",
     "name": "stdout",
     "text": [
      "0.18913599162296668\n0.08440870097362196\n0.11618833154139163\n0.1030478064335032\n0.11311468453125162\n0.10308380199855471\n0.2545386058497583\n0.05683757503677822\n0.10179567581907267\n0.07110302239757804\n0.1731306313124622\n0.177073644732755\n0.1365399803477796\n0.18921651582916044\n0.11274735267578362\nAverage score: 0.13213082140682786\n"
     ]
    }
   ],
   "source": [
    "# Fit each of the lobes seperately\n",
    "models = []\n",
    "scores = []\n",
    "\n",
    "for i in range(15):\n",
    "    y = Y_n[:,i]\n",
    "    model = LinearRegression(fit_intercept=True).fit(X_n, y)\n",
    "    score = model.score(X_n, y)\n",
    "    print(score)\n",
    "\n",
    "    models.append(model)\n",
    "    scores.append(score)\n",
    "\n",
    "print(f'Average score: {sum(scores)/len(scores)}')"
   ]
  },
  {
   "cell_type": "code",
   "execution_count": 53,
   "metadata": {},
   "outputs": [
    {
     "output_type": "stream",
     "name": "stdout",
     "text": [
      "0.13213082140682805\n"
     ]
    }
   ],
   "source": [
    "# Fit them all at the same time (should get the same result)\n",
    "big_model = LinearRegression(fit_intercept=True).fit(X_n, Y_n)\n",
    "\n",
    "print(big_model.score(X_n, Y_n))"
   ]
  },
  {
   "cell_type": "code",
   "execution_count": null,
   "metadata": {},
   "outputs": [],
   "source": []
  }
 ],
 "metadata": {
  "kernelspec": {
   "name": "python3710jvsc74a57bd02713d118d6f316897aedd46af3553391a03c630bec345c72b153bd28ab2cb68a",
   "display_name": "Python 3.7.10 64-bit ('comp-neuro': conda)"
  },
  "language_info": {
   "codemirror_mode": {
    "name": "ipython",
    "version": 3
   },
   "file_extension": ".py",
   "mimetype": "text/x-python",
   "name": "python",
   "nbconvert_exporter": "python",
   "pygments_lexer": "ipython3",
   "version": "3.7.10"
  }
 },
 "nbformat": 4,
 "nbformat_minor": 2
}